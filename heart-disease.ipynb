{
 "cells": [
  {
   "cell_type": "code",
   "execution_count": null,
   "metadata": {
    "ExecuteTime": {
     "end_time": "2020-05-27T07:01:30.003972Z",
     "start_time": "2020-05-27T07:01:29.161486Z"
    }
   },
   "outputs": [],
   "source": [
    "import pandas as pd\n",
    "import numpy as np\n",
    "import matplotlib.pyplot as plt\n",
    "import sklearn\n",
    "import seaborn as sns\n",
    "\n",
    "%matplotlib inline"
   ]
  },
  {
   "cell_type": "markdown",
   "metadata": {},
   "source": [
    "## 数据预处理\n",
    "### 将数据导入,并且查看数据的基本信息"
   ]
  },
  {
   "cell_type": "code",
   "execution_count": null,
   "metadata": {
    "ExecuteTime": {
     "end_time": "2020-05-27T07:01:30.023919Z",
     "start_time": "2020-05-27T07:01:30.004970Z"
    },
    "scrolled": false
   },
   "outputs": [],
   "source": [
    "data = pd.read_csv('./data/heart-disease-uci/heart.csv')\n",
    "#查看一下基本的信息\n",
    "data.head()"
   ]
  },
  {
   "cell_type": "code",
   "execution_count": null,
   "metadata": {
    "ExecuteTime": {
     "end_time": "2020-05-27T07:01:30.036882Z",
     "start_time": "2020-05-27T07:01:30.026908Z"
    }
   },
   "outputs": [],
   "source": [
    "# 没有缺失的数据\n",
    "data.info()"
   ]
  },
  {
   "cell_type": "code",
   "execution_count": null,
   "metadata": {
    "ExecuteTime": {
     "end_time": "2020-05-27T07:01:30.042866Z",
     "start_time": "2020-05-27T07:01:30.037880Z"
    }
   },
   "outputs": [],
   "source": [
    "# 查看一下类别的数目以及种类, 二分类问题, 并且类别比较均衡\n",
    "np.unique(data['target'], return_counts=True)"
   ]
  },
  {
   "cell_type": "code",
   "execution_count": null,
   "metadata": {
    "ExecuteTime": {
     "end_time": "2020-05-27T07:01:30.096755Z",
     "start_time": "2020-05-27T07:01:30.043864Z"
    }
   },
   "outputs": [],
   "source": [
    "# 绘制类别的饼图\n",
    "data['target'].value_counts().plot(kind='pie')\n"
   ]
  },
  {
   "cell_type": "code",
   "execution_count": null,
   "metadata": {
    "ExecuteTime": {
     "end_time": "2020-05-27T07:01:30.141635Z",
     "start_time": "2020-05-27T07:01:30.097719Z"
    },
    "scrolled": false
   },
   "outputs": [],
   "source": [
    "data.describe()"
   ]
  },
  {
   "cell_type": "markdown",
   "metadata": {
    "ExecuteTime": {
     "end_time": "2020-05-26T16:11:14.896818Z",
     "start_time": "2020-05-26T16:11:14.880483Z"
    }
   },
   "source": [
    "### 用直方图画出各个变量的分布情况"
   ]
  },
  {
   "cell_type": "code",
   "execution_count": null,
   "metadata": {
    "ExecuteTime": {
     "end_time": "2020-05-27T07:01:31.543487Z",
     "start_time": "2020-05-27T07:01:30.142599Z"
    }
   },
   "outputs": [],
   "source": [
    "data.hist(figsize=(15,15))"
   ]
  },
  {
   "cell_type": "markdown",
   "metadata": {},
   "source": [
    "### 变量热力图"
   ]
  },
  {
   "cell_type": "code",
   "execution_count": null,
   "metadata": {
    "ExecuteTime": {
     "end_time": "2020-05-27T07:01:31.776493Z",
     "start_time": "2020-05-27T07:01:31.545482Z"
    }
   },
   "outputs": [],
   "source": [
    "class_vars = ['sex', 'cp', 'fbs', 'restecg', 'exang', 'slope', 'ca', 'thal']\n",
    "plt.figure(figsize=(6.4,4.8), dpi=120)\n",
    "sns.heatmap(data.corr())"
   ]
  },
  {
   "cell_type": "code",
   "execution_count": null,
   "metadata": {
    "ExecuteTime": {
     "end_time": "2020-05-27T07:01:31.783475Z",
     "start_time": "2020-05-27T07:01:31.777530Z"
    }
   },
   "outputs": [],
   "source": [
    "data.corr()['target']"
   ]
  },
  {
   "cell_type": "markdown",
   "metadata": {},
   "source": [
    "### 类别型变量与target之间的关系饼图"
   ]
  },
  {
   "cell_type": "code",
   "execution_count": null,
   "metadata": {
    "ExecuteTime": {
     "end_time": "2020-05-27T07:01:32.064722Z",
     "start_time": "2020-05-27T07:01:31.784472Z"
    }
   },
   "outputs": [],
   "source": [
    "# 画出类别变量与患心脏病之间的关系饼图.\n",
    "data_target = data.loc[data.target == 1]\n",
    "for col in class_vars:\n",
    "    data[col].value_counts().plot(kind='pie')\n",
    "    plt.show()"
   ]
  },
  {
   "cell_type": "markdown",
   "metadata": {},
   "source": [
    "通过分析饼图,我们可以发现,是否患心脏病与各个类别型变量的属性均有关系."
   ]
  },
  {
   "cell_type": "markdown",
   "metadata": {},
   "source": [
    "### 构造虚拟变量"
   ]
  },
  {
   "cell_type": "code",
   "execution_count": null,
   "metadata": {
    "ExecuteTime": {
     "end_time": "2020-05-27T07:01:32.097377Z",
     "start_time": "2020-05-27T07:01:32.065720Z"
    }
   },
   "outputs": [],
   "source": [
    "# MapDict = {\n",
    "#     'sex':None,\n",
    "#     'fbs':None,\n",
    "#     'exang':None,\n",
    "#     'thal':{2:1, 3:1, 1:0, 0:0},\n",
    "#     'slope':{2:1,1:1,0:0},\n",
    "#     'restecg':{2:0, 0:1, 1:1},\n",
    "#     'ca':{0:0, 0:1,2:0,3:0,4:0},\n",
    "#     'cp':{0:1,2:1,1:0,3:0},\n",
    "# }\n",
    "\n",
    "MapColumns = [ 'sex', 'fbs', 'exang', 'thal', 'slope', 'restecg', 'ca', 'cp']\n",
    "# def get_dummies(data, **kwargs):\n",
    "#     tmp_data = data.copy(deep = True)\n",
    "#     for k, v in kwargs.items():\n",
    "#         if v:\n",
    "#             tmp_data[k] = tmp_data[k].map(v)\n",
    "#             tmp_data = pd.get_dummies(tmp_data, columns = [k])\n",
    "#         else:\n",
    "#             tmp_data = pd.get_dummies(tmp_data, columns = [k])\n",
    "#     return tmp_data\n",
    "\n",
    "def get_dummies(data, MapColumns):\n",
    "    tmp_data = data.copy(deep = True)\n",
    "    for key in MapColumns:\n",
    "        tmp_data = pd.get_dummies(tmp_data, columns = [key])\n",
    "    return tmp_data\n",
    "\n",
    "# df_dummies = get_dummies(data, **MapDict)\n",
    "df_dummies = get_dummies(data, MapColumns)"
   ]
  },
  {
   "cell_type": "code",
   "execution_count": null,
   "metadata": {
    "ExecuteTime": {
     "end_time": "2020-05-27T07:01:32.177129Z",
     "start_time": "2020-05-27T07:01:32.098303Z"
    }
   },
   "outputs": [],
   "source": [
    "df_dummies.describe()"
   ]
  },
  {
   "cell_type": "markdown",
   "metadata": {
    "ExecuteTime": {
     "end_time": "2020-05-26T16:29:19.530335Z",
     "start_time": "2020-05-26T16:29:19.514416Z"
    }
   },
   "source": [
    "### 分离训练集与测试集"
   ]
  },
  {
   "cell_type": "code",
   "execution_count": null,
   "metadata": {
    "ExecuteTime": {
     "end_time": "2020-05-27T07:01:32.211002Z",
     "start_time": "2020-05-27T07:01:32.178088Z"
    }
   },
   "outputs": [],
   "source": [
    "from sklearn.model_selection import train_test_split\n",
    "\n",
    "X = df_dummies.drop(columns=['target'])\n",
    "y = df_dummies['target']\n",
    "X_train, X_test, y_train, y_test = train_test_split(X, y, test_size=0.2)\n",
    "print(X_train.shape, X_test.shape, y_train.shape, y_test.shape)"
   ]
  },
  {
   "cell_type": "markdown",
   "metadata": {},
   "source": [
    "### 对特征进行标准化处理"
   ]
  },
  {
   "cell_type": "code",
   "execution_count": null,
   "metadata": {
    "ExecuteTime": {
     "end_time": "2020-05-27T07:01:32.219978Z",
     "start_time": "2020-05-27T07:01:32.211999Z"
    }
   },
   "outputs": [],
   "source": [
    "from sklearn.preprocessing import StandardScaler\n",
    "\n",
    "sc = StandardScaler()\n",
    "X_train_sc = sc.fit_transform(X_train)\n",
    "X_test_sc = sc.transform(X_test)"
   ]
  },
  {
   "cell_type": "markdown",
   "metadata": {},
   "source": [
    "## 训练\n",
    "### 交叉验证选择最优参数"
   ]
  },
  {
   "cell_type": "code",
   "execution_count": null,
   "metadata": {
    "ExecuteTime": {
     "end_time": "2020-05-27T07:01:32.232942Z",
     "start_time": "2020-05-27T07:01:32.220974Z"
    }
   },
   "outputs": [],
   "source": [
    "class EstimatorSelectionHelper:\n",
    "\n",
    "    def __init__(self, models, params):\n",
    "        if not set(models.keys()).issubset(set(params.keys())):\n",
    "            missing_params = list(set(models.keys()) - set(params.keys()))\n",
    "            raise ValueError(\"Some estimators are missing parameters: %s\" % missing_params)\n",
    "        self.models = models\n",
    "        self.params = params\n",
    "        self.keys = models.keys()\n",
    "        self.grid_searches = {}\n",
    "        self.best = {}\n",
    "\n",
    "    def fit(self, X, y, cv=3, n_jobs=3, verbose=1, scoring=None, refit=False):\n",
    "        for key in self.keys:\n",
    "            print(\"Running GridSearchCV for %s.\" % key)\n",
    "            model = self.models[key]\n",
    "            params = self.params[key]\n",
    "            gs = GridSearchCV(model, params, cv=cv, n_jobs=n_jobs,\n",
    "                              verbose=verbose, scoring=scoring, refit=refit,\n",
    "                              return_train_score=True)\n",
    "            gs.fit(X,y)\n",
    "            self.best[key] = {'score':gs.best_score_, 'params':gs.best_params_}\n",
    "            self.grid_searches[key] = gs    \n",
    "\n",
    "    def score_summary(self, sort_by='mean_score'):\n",
    "        def row(key, scores, params):\n",
    "            d = {\n",
    "                 'estimator': key,\n",
    "                 'min_score': min(scores),\n",
    "                 'max_score': max(scores),\n",
    "                 'mean_score': np.mean(scores),\n",
    "                 'std_score': np.std(scores),\n",
    "            }\n",
    "            return pd.Series({**params,**d})\n",
    "\n",
    "        rows = []\n",
    "        for k in self.grid_searches:\n",
    "            print(k)\n",
    "            params = self.grid_searches[k].cv_results_['params']\n",
    "            scores = []\n",
    "            for i in range(self.grid_searches[k].cv):\n",
    "                key = \"split{}_test_score\".format(i)\n",
    "                r = self.grid_searches[k].cv_results_[key]        \n",
    "                scores.append(r.reshape(len(params),1))\n",
    "\n",
    "            all_scores = np.hstack(scores)\n",
    "            for p, s in zip(params,all_scores):\n",
    "                rows.append((row(k, s, p)))\n",
    "\n",
    "        df = pd.concat(rows, axis=1).T.sort_values([sort_by], ascending=False)\n",
    "\n",
    "        columns = ['estimator', 'min_score', 'mean_score', 'max_score', 'std_score']\n",
    "        columns = columns + [c for c in df.columns if c not in columns]\n",
    "\n",
    "        return df[columns]\n",
    "    def best_params(self):\n",
    "        return self.best"
   ]
  },
  {
   "cell_type": "code",
   "execution_count": null,
   "metadata": {
    "ExecuteTime": {
     "end_time": "2020-05-27T07:01:39.079543Z",
     "start_time": "2020-05-27T07:01:32.233940Z"
    }
   },
   "outputs": [],
   "source": [
    "from sklearn.ensemble import RandomForestClassifier\n",
    "from sklearn.ensemble import GradientBoostingClassifier\n",
    "from sklearn.ensemble import AdaBoostClassifier\n",
    "from xgboost import XGBClassifier\n",
    "from sklearn.svm import SVC\n",
    "from sklearn.linear_model import LogisticRegression\n",
    "from sklearn.model_selection import GridSearchCV\n",
    "\n",
    "models = {\n",
    "    'rf':RandomForestClassifier(),\n",
    "    'gbdt':GradientBoostingClassifier(),\n",
    "    'ada':AdaBoostClassifier(),\n",
    "    'xgb':XGBClassifier(),\n",
    "    'svm':SVC(),\n",
    "    'lr':LogisticRegression(),\n",
    "}\n",
    "\n",
    "params = {\n",
    "    'rf':{'n_estimators' : [32,64,96], \"max_depth\" : [4,6,8]},\n",
    "    'gbdt':{\"n_estimators\" : [32,64,96], \"max_depth\" : [2,4,6], \"learning_rate\" : [0.1,0.3,0.9]},\n",
    "    'ada':{\"n_estimators\" : [32,64,96], \"learning_rate\" : [0.5,1.0]},\n",
    "    'xgb':{\"max_depth\" : [2,4,6], \"learning_rate\" : [0.1,0.3,0.9]},\n",
    "    'svm': [\n",
    "        {'kernel': ['linear'], 'C': [1, 10]},\n",
    "        {'kernel': ['rbf'], 'C': [1, 10], 'gamma': [0.001, 0.0001]},\n",
    "    ],\n",
    "    'lr':{'C' : [1, 10]},\n",
    "}\n",
    "\n",
    "Helper = EstimatorSelectionHelper(models, params)\n",
    "Helper.fit(X_train_sc, y_train, cv=5)\n",
    "Helper.score_summary(sort_by='mean_score')"
   ]
  },
  {
   "cell_type": "code",
   "execution_count": null,
   "metadata": {
    "ExecuteTime": {
     "end_time": "2020-05-27T07:01:39.084532Z",
     "start_time": "2020-05-27T07:01:39.080547Z"
    }
   },
   "outputs": [],
   "source": [
    "best = Helper.best_params()\n",
    "best"
   ]
  },
  {
   "cell_type": "markdown",
   "metadata": {},
   "source": [
    "### 设置最优参数\n"
   ]
  },
  {
   "cell_type": "code",
   "execution_count": null,
   "metadata": {
    "ExecuteTime": {
     "end_time": "2020-05-27T07:01:39.100700Z",
     "start_time": "2020-05-27T07:01:39.086521Z"
    }
   },
   "outputs": [],
   "source": [
    "best_models = [\n",
    "    ('rf',RandomForestClassifier()),\n",
    "    ('gbdt',GradientBoostingClassifier()),\n",
    "    ('ada',AdaBoostClassifier()),\n",
    "    ('xgb',XGBClassifier()),\n",
    "    ('svm',SVC()),\n",
    "    ('lr',LogisticRegression()),\n",
    "]\n",
    "\n",
    "for item in best_models:\n",
    "    key, clf = item\n",
    "    clf.set_params(**best[key]['params'])"
   ]
  },
  {
   "cell_type": "code",
   "execution_count": null,
   "metadata": {
    "ExecuteTime": {
     "end_time": "2020-05-27T07:01:39.529057Z",
     "start_time": "2020-05-27T07:01:39.101697Z"
    }
   },
   "outputs": [],
   "source": [
    "from sklearn.ensemble import VotingClassifier\n",
    "vote_hard = VotingClassifier(estimators = best_models , voting = 'hard')\n",
    "vote_hard.fit(X_train_sc, y_train)\n",
    "prediction = vote_hard.predict(X_test_sc)"
   ]
  },
  {
   "cell_type": "markdown",
   "metadata": {},
   "source": [
    "### 计算准确率"
   ]
  },
  {
   "cell_type": "code",
   "execution_count": null,
   "metadata": {
    "ExecuteTime": {
     "end_time": "2020-05-27T07:01:39.533813Z",
     "start_time": "2020-05-27T07:01:39.530055Z"
    }
   },
   "outputs": [],
   "source": [
    "correct = (prediction == y_test).sum()\n",
    "accuracy = correct / len(y_test)"
   ]
  },
  {
   "cell_type": "code",
   "execution_count": null,
   "metadata": {
    "ExecuteTime": {
     "end_time": "2020-05-27T07:01:39.548051Z",
     "start_time": "2020-05-27T07:01:39.535041Z"
    },
    "scrolled": true
   },
   "outputs": [],
   "source": [
    "print(f'accuracy {accuracy}')"
   ]
  },
  {
   "cell_type": "markdown",
   "metadata": {},
   "source": [
    "### 编写一个pipeline"
   ]
  },
  {
   "cell_type": "code",
   "execution_count": null,
   "metadata": {
    "ExecuteTime": {
     "end_time": "2020-05-27T07:01:44.012436Z",
     "start_time": "2020-05-27T07:01:39.549049Z"
    }
   },
   "outputs": [],
   "source": [
    "from sklearn.pipeline import Pipeline\n",
    "from sklearn.decomposition import PCA\n",
    "steps = [\n",
    "    ('pca',PCA()),\n",
    "    ('vote_clf',vote_hard),\n",
    "]\n",
    "\n",
    "params = {\n",
    "    'pca__n_components':[6,12,18]\n",
    "}\n",
    "\n",
    "pipeline = Pipeline(steps)\n",
    "\n",
    "gs = GridSearchCV(pipeline, params, cv = 5)\n",
    "gs.fit(X_train_sc, y_train)\n",
    "print(f\"best_params{gs.best_params_}, best_score{gs.best_score_}\")"
   ]
  },
  {
   "cell_type": "markdown",
   "metadata": {},
   "source": [
    "### 设置PCA超参数"
   ]
  },
  {
   "cell_type": "code",
   "execution_count": null,
   "metadata": {
    "ExecuteTime": {
     "end_time": "2020-05-27T07:01:44.040385Z",
     "start_time": "2020-05-27T07:01:44.028394Z"
    }
   },
   "outputs": [],
   "source": [
    "from sklearn.decomposition import PCA\n",
    "pca = PCA(n_components=gs.best_params_['pca__n_components'])\n",
    "X_train_d = pca.fit_transform(X_train_sc)\n",
    "X_test_d = pca.transform(X_test_sc)"
   ]
  },
  {
   "cell_type": "code",
   "execution_count": null,
   "metadata": {
    "ExecuteTime": {
     "end_time": "2020-05-27T07:01:44.462814Z",
     "start_time": "2020-05-27T07:01:44.046384Z"
    }
   },
   "outputs": [],
   "source": [
    "vote_hard.fit(X_train_d, y_train)\n",
    "prediction = vote_hard.predict(X_test_d)\n",
    "correct = (prediction == y_test).sum()\n",
    "accuracy = correct / len(y_test)\n",
    "print(f'accuracy {accuracy}')"
   ]
  }
 ],
 "metadata": {
  "kernelspec": {
   "display_name": "Python 3",
   "language": "python",
   "name": "python3"
  },
  "language_info": {
   "codemirror_mode": {
    "name": "ipython",
    "version": 3
   },
   "file_extension": ".py",
   "mimetype": "text/x-python",
   "name": "python",
   "nbconvert_exporter": "python",
   "pygments_lexer": "ipython3",
   "version": "3.6.6"
  },
  "toc": {
   "base_numbering": 1,
   "nav_menu": {},
   "number_sections": true,
   "sideBar": true,
   "skip_h1_title": false,
   "title_cell": "Table of Contents",
   "title_sidebar": "Contents",
   "toc_cell": false,
   "toc_position": {
    "height": "calc(100% - 180px)",
    "left": "10px",
    "top": "150px",
    "width": "284.444px"
   },
   "toc_section_display": true,
   "toc_window_display": false
  },
  "varInspector": {
   "cols": {
    "lenName": 16,
    "lenType": 16,
    "lenVar": 40
   },
   "kernels_config": {
    "python": {
     "delete_cmd_postfix": "",
     "delete_cmd_prefix": "del ",
     "library": "var_list.py",
     "varRefreshCmd": "print(var_dic_list())"
    },
    "r": {
     "delete_cmd_postfix": ") ",
     "delete_cmd_prefix": "rm(",
     "library": "var_list.r",
     "varRefreshCmd": "cat(var_dic_list()) "
    }
   },
   "types_to_exclude": [
    "module",
    "function",
    "builtin_function_or_method",
    "instance",
    "_Feature"
   ],
   "window_display": false
  }
 },
 "nbformat": 4,
 "nbformat_minor": 4
}
