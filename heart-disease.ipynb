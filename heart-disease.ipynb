{
 "cells": [
  {
   "cell_type": "code",
   "execution_count": 1,
   "metadata": {
    "ExecuteTime": {
     "end_time": "2020-05-27T06:41:45.330917Z",
     "start_time": "2020-05-27T06:41:44.506428Z"
    }
   },
   "outputs": [],
   "source": [
    "import pandas as pd\n",
    "import numpy as np\n",
    "import matplotlib.pyplot as plt\n",
    "import sklearn\n",
    "import seaborn as sns"
   ]
  },
  {
   "cell_type": "markdown",
   "metadata": {},
   "source": [
    "## 数据预处理\n",
    "### 将数据导入,并且查看数据的基本信息"
   ]
  },
  {
   "cell_type": "code",
   "execution_count": 2,
   "metadata": {
    "ExecuteTime": {
     "end_time": "2020-05-27T06:41:45.353819Z",
     "start_time": "2020-05-27T06:41:45.331892Z"
    }
   },
   "outputs": [
    {
     "data": {
      "text/html": [
       "<div>\n",
       "<style scoped>\n",
       "    .dataframe tbody tr th:only-of-type {\n",
       "        vertical-align: middle;\n",
       "    }\n",
       "\n",
       "    .dataframe tbody tr th {\n",
       "        vertical-align: top;\n",
       "    }\n",
       "\n",
       "    .dataframe thead th {\n",
       "        text-align: right;\n",
       "    }\n",
       "</style>\n",
       "<table border=\"1\" class=\"dataframe\">\n",
       "  <thead>\n",
       "    <tr style=\"text-align: right;\">\n",
       "      <th></th>\n",
       "      <th>age</th>\n",
       "      <th>sex</th>\n",
       "      <th>cp</th>\n",
       "      <th>trestbps</th>\n",
       "      <th>chol</th>\n",
       "      <th>fbs</th>\n",
       "      <th>restecg</th>\n",
       "      <th>thalach</th>\n",
       "      <th>exang</th>\n",
       "      <th>oldpeak</th>\n",
       "      <th>slope</th>\n",
       "      <th>ca</th>\n",
       "      <th>thal</th>\n",
       "      <th>target</th>\n",
       "    </tr>\n",
       "  </thead>\n",
       "  <tbody>\n",
       "    <tr>\n",
       "      <th>0</th>\n",
       "      <td>63</td>\n",
       "      <td>1</td>\n",
       "      <td>3</td>\n",
       "      <td>145</td>\n",
       "      <td>233</td>\n",
       "      <td>1</td>\n",
       "      <td>0</td>\n",
       "      <td>150</td>\n",
       "      <td>0</td>\n",
       "      <td>2.3</td>\n",
       "      <td>0</td>\n",
       "      <td>0</td>\n",
       "      <td>1</td>\n",
       "      <td>1</td>\n",
       "    </tr>\n",
       "    <tr>\n",
       "      <th>1</th>\n",
       "      <td>37</td>\n",
       "      <td>1</td>\n",
       "      <td>2</td>\n",
       "      <td>130</td>\n",
       "      <td>250</td>\n",
       "      <td>0</td>\n",
       "      <td>1</td>\n",
       "      <td>187</td>\n",
       "      <td>0</td>\n",
       "      <td>3.5</td>\n",
       "      <td>0</td>\n",
       "      <td>0</td>\n",
       "      <td>2</td>\n",
       "      <td>1</td>\n",
       "    </tr>\n",
       "    <tr>\n",
       "      <th>2</th>\n",
       "      <td>41</td>\n",
       "      <td>0</td>\n",
       "      <td>1</td>\n",
       "      <td>130</td>\n",
       "      <td>204</td>\n",
       "      <td>0</td>\n",
       "      <td>0</td>\n",
       "      <td>172</td>\n",
       "      <td>0</td>\n",
       "      <td>1.4</td>\n",
       "      <td>2</td>\n",
       "      <td>0</td>\n",
       "      <td>2</td>\n",
       "      <td>1</td>\n",
       "    </tr>\n",
       "    <tr>\n",
       "      <th>3</th>\n",
       "      <td>56</td>\n",
       "      <td>1</td>\n",
       "      <td>1</td>\n",
       "      <td>120</td>\n",
       "      <td>236</td>\n",
       "      <td>0</td>\n",
       "      <td>1</td>\n",
       "      <td>178</td>\n",
       "      <td>0</td>\n",
       "      <td>0.8</td>\n",
       "      <td>2</td>\n",
       "      <td>0</td>\n",
       "      <td>2</td>\n",
       "      <td>1</td>\n",
       "    </tr>\n",
       "    <tr>\n",
       "      <th>4</th>\n",
       "      <td>57</td>\n",
       "      <td>0</td>\n",
       "      <td>0</td>\n",
       "      <td>120</td>\n",
       "      <td>354</td>\n",
       "      <td>0</td>\n",
       "      <td>1</td>\n",
       "      <td>163</td>\n",
       "      <td>1</td>\n",
       "      <td>0.6</td>\n",
       "      <td>2</td>\n",
       "      <td>0</td>\n",
       "      <td>2</td>\n",
       "      <td>1</td>\n",
       "    </tr>\n",
       "  </tbody>\n",
       "</table>\n",
       "</div>"
      ],
      "text/plain": [
       "   age  sex  cp  trestbps  chol  fbs  restecg  thalach  exang  oldpeak  slope  \\\n",
       "0   63    1   3       145   233    1        0      150      0      2.3      0   \n",
       "1   37    1   2       130   250    0        1      187      0      3.5      0   \n",
       "2   41    0   1       130   204    0        0      172      0      1.4      2   \n",
       "3   56    1   1       120   236    0        1      178      0      0.8      2   \n",
       "4   57    0   0       120   354    0        1      163      1      0.6      2   \n",
       "\n",
       "   ca  thal  target  \n",
       "0   0     1       1  \n",
       "1   0     2       1  \n",
       "2   0     2       1  \n",
       "3   0     2       1  \n",
       "4   0     2       1  "
      ]
     },
     "execution_count": 2,
     "metadata": {},
     "output_type": "execute_result"
    }
   ],
   "source": [
    "data = pd.read_csv('./data/heart-disease-uci/heart.csv')\n",
    "#查看一下基本的信息\n",
    "data.head()"
   ]
  },
  {
   "cell_type": "code",
   "execution_count": 3,
   "metadata": {
    "ExecuteTime": {
     "end_time": "2020-05-27T06:41:45.365800Z",
     "start_time": "2020-05-27T06:41:45.354816Z"
    }
   },
   "outputs": [
    {
     "name": "stdout",
     "output_type": "stream",
     "text": [
      "<class 'pandas.core.frame.DataFrame'>\n",
      "RangeIndex: 303 entries, 0 to 302\n",
      "Data columns (total 14 columns):\n",
      " #   Column    Non-Null Count  Dtype  \n",
      "---  ------    --------------  -----  \n",
      " 0   age       303 non-null    int64  \n",
      " 1   sex       303 non-null    int64  \n",
      " 2   cp        303 non-null    int64  \n",
      " 3   trestbps  303 non-null    int64  \n",
      " 4   chol      303 non-null    int64  \n",
      " 5   fbs       303 non-null    int64  \n",
      " 6   restecg   303 non-null    int64  \n",
      " 7   thalach   303 non-null    int64  \n",
      " 8   exang     303 non-null    int64  \n",
      " 9   oldpeak   303 non-null    float64\n",
      " 10  slope     303 non-null    int64  \n",
      " 11  ca        303 non-null    int64  \n",
      " 12  thal      303 non-null    int64  \n",
      " 13  target    303 non-null    int64  \n",
      "dtypes: float64(1), int64(13)\n",
      "memory usage: 33.3 KB\n"
     ]
    }
   ],
   "source": [
    "# 没有缺失的数据\n",
    "data.info()"
   ]
  },
  {
   "cell_type": "code",
   "execution_count": 4,
   "metadata": {
    "ExecuteTime": {
     "end_time": "2020-05-27T06:41:45.371770Z",
     "start_time": "2020-05-27T06:41:45.366784Z"
    }
   },
   "outputs": [
    {
     "data": {
      "text/plain": [
       "(array([0, 1], dtype=int64), array([138, 165], dtype=int64))"
      ]
     },
     "execution_count": 4,
     "metadata": {},
     "output_type": "execute_result"
    }
   ],
   "source": [
    "# 查看一下类别的数目以及种类, 二分类问题, 并且类别比较均衡\n",
    "np.unique(data['target'], return_counts=True)"
   ]
  },
  {
   "cell_type": "code",
   "execution_count": 5,
   "metadata": {
    "ExecuteTime": {
     "end_time": "2020-05-27T06:41:45.426663Z",
     "start_time": "2020-05-27T06:41:45.372768Z"
    }
   },
   "outputs": [
    {
     "data": {
      "text/plain": [
       "<matplotlib.axes._subplots.AxesSubplot at 0x1f4ffb76588>"
      ]
     },
     "execution_count": 5,
     "metadata": {},
     "output_type": "execute_result"
    },
    {
     "data": {
      "image/png": "[encoded data removed]",
      "text/plain": [
       "<Figure size 432x288 with 1 Axes>"
      ]
     },
     "metadata": {},
     "output_type": "display_data"
    }
   ],
   "source": [
    "# 绘制类别的饼图\n",
    "data['target'].value_counts().plot(kind='pie')\n"
   ]
  },
  {
   "cell_type": "code",
   "execution_count": 6,
   "metadata": {
    "ExecuteTime": {
     "end_time": "2020-05-27T06:41:45.471504Z",
     "start_time": "2020-05-27T06:41:45.427645Z"
    },
    "scrolled": false
   },
   "outputs": [
    {
     "data": {
      "text/html": [
       "<div>\n",
       "<style scoped>\n",
       "    .dataframe tbody tr th:only-of-type {\n",
       "        vertical-align: middle;\n",
       "    }\n",
       "\n",
       "    .dataframe tbody tr th {\n",
       "        vertical-align: top;\n",
       "    }\n",
       "\n",
       "    .dataframe thead th {\n",
       "        text-align: right;\n",
       "    }\n",
       "</style>\n",
       "<table border=\"1\" class=\"dataframe\">\n",
       "  <thead>\n",
       "    <tr style=\"text-align: right;\">\n",
       "      <th></th>\n",
       "      <th>age</th>\n",
       "      <th>sex</th>\n",
       "      <th>cp</th>\n",
       "      <th>trestbps</th>\n",
       "      <th>chol</th>\n",
       "      <th>fbs</th>\n",
       "      <th>restecg</th>\n",
       "      <th>thalach</th>\n",
       "      <th>exang</th>\n",
       "      <th>oldpeak</th>\n",
       "      <th>slope</th>\n",
       "      <th>ca</th>\n",
       "      <th>thal</th>\n",
       "      <th>target</th>\n",
       "    </tr>\n",
       "  </thead>\n",
       "  <tbody>\n",
       "    <tr>\n",
       "      <th>count</th>\n",
       "      <td>303.000000</td>\n",
       "      <td>303.000000</td>\n",
       "      <td>303.000000</td>\n",
       "      <td>303.000000</td>\n",
       "      <td>303.000000</td>\n",
       "      <td>303.000000</td>\n",
       "      <td>303.000000</td>\n",
       "      <td>303.000000</td>\n",
       "      <td>303.000000</td>\n",
       "      <td>303.000000</td>\n",
       "      <td>303.000000</td>\n",
       "      <td>303.000000</td>\n",
       "      <td>303.000000</td>\n",
       "      <td>303.000000</td>\n",
       "    </tr>\n",
       "    <tr>\n",
       "      <th>mean</th>\n",
       "      <td>54.366337</td>\n",
       "      <td>0.683168</td>\n",
       "      <td>0.966997</td>\n",
       "      <td>131.623762</td>\n",
       "      <td>246.264026</td>\n",
       "      <td>0.148515</td>\n",
       "      <td>0.528053</td>\n",
       "      <td>149.646865</td>\n",
       "      <td>0.326733</td>\n",
       "      <td>1.039604</td>\n",
       "      <td>1.399340</td>\n",
       "      <td>0.729373</td>\n",
       "      <td>2.313531</td>\n",
       "      <td>0.544554</td>\n",
       "    </tr>\n",
       "    <tr>\n",
       "      <th>std</th>\n",
       "      <td>9.082101</td>\n",
       "      <td>0.466011</td>\n",
       "      <td>1.032052</td>\n",
       "      <td>17.538143</td>\n",
       "      <td>51.830751</td>\n",
       "      <td>0.356198</td>\n",
       "      <td>0.525860</td>\n",
       "      <td>22.905161</td>\n",
       "      <td>0.469794</td>\n",
       "      <td>1.161075</td>\n",
       "      <td>0.616226</td>\n",
       "      <td>1.022606</td>\n",
       "      <td>0.612277</td>\n",
       "      <td>0.498835</td>\n",
       "    </tr>\n",
       "    <tr>\n",
       "      <th>min</th>\n",
       "      <td>29.000000</td>\n",
       "      <td>0.000000</td>\n",
       "      <td>0.000000</td>\n",
       "      <td>94.000000</td>\n",
       "      <td>126.000000</td>\n",
       "      <td>0.000000</td>\n",
       "      <td>0.000000</td>\n",
       "      <td>71.000000</td>\n",
       "      <td>0.000000</td>\n",
       "      <td>0.000000</td>\n",
       "      <td>0.000000</td>\n",
       "      <td>0.000000</td>\n",
       "      <td>0.000000</td>\n",
       "      <td>0.000000</td>\n",
       "    </tr>\n",
       "    <tr>\n",
       "      <th>25%</th>\n",
       "      <td>47.500000</td>\n",
       "      <td>0.000000</td>\n",
       "      <td>0.000000</td>\n",
       "      <td>120.000000</td>\n",
       "      <td>211.000000</td>\n",
       "      <td>0.000000</td>\n",
       "      <td>0.000000</td>\n",
       "      <td>133.500000</td>\n",
       "      <td>0.000000</td>\n",
       "      <td>0.000000</td>\n",
       "      <td>1.000000</td>\n",
       "      <td>0.000000</td>\n",
       "      <td>2.000000</td>\n",
       "      <td>0.000000</td>\n",
       "    </tr>\n",
       "    <tr>\n",
       "      <th>50%</th>\n",
       "      <td>55.000000</td>\n",
       "      <td>1.000000</td>\n",
       "      <td>1.000000</td>\n",
       "      <td>130.000000</td>\n",
       "      <td>240.000000</td>\n",
       "      <td>0.000000</td>\n",
       "      <td>1.000000</td>\n",
       "      <td>153.000000</td>\n",
       "      <td>0.000000</td>\n",
       "      <td>0.800000</td>\n",
       "      <td>1.000000</td>\n",
       "      <td>0.000000</td>\n",
       "      <td>2.000000</td>\n",
       "      <td>1.000000</td>\n",
       "    </tr>\n",
       "    <tr>\n",
       "      <th>75%</th>\n",
       "      <td>61.000000</td>\n",
       "      <td>1.000000</td>\n",
       "      <td>2.000000</td>\n",
       "      <td>140.000000</td>\n",
       "      <td>274.500000</td>\n",
       "      <td>0.000000</td>\n",
       "      <td>1.000000</td>\n",
       "      <td>166.000000</td>\n",
       "      <td>1.000000</td>\n",
       "      <td>1.600000</td>\n",
       "      <td>2.000000</td>\n",
       "      <td>1.000000</td>\n",
       "      <td>3.000000</td>\n",
       "      <td>1.000000</td>\n",
       "    </tr>\n",
       "    <tr>\n",
       "      <th>max</th>\n",
       "      <td>77.000000</td>\n",
       "      <td>1.000000</td>\n",
       "      <td>3.000000</td>\n",
       "      <td>200.000000</td>\n",
       "      <td>564.000000</td>\n",
       "      <td>1.000000</td>\n",
       "      <td>2.000000</td>\n",
       "      <td>202.000000</td>\n",
       "      <td>1.000000</td>\n",
       "      <td>6.200000</td>\n",
       "      <td>2.000000</td>\n",
       "      <td>4.000000</td>\n",
       "      <td>3.000000</td>\n",
       "      <td>1.000000</td>\n",
       "    </tr>\n",
       "  </tbody>\n",
       "</table>\n",
       "</div>"
      ],
      "text/plain": [
       "              age         sex          cp    trestbps        chol         fbs  \\\n",
       "count  303.000000  303.000000  303.000000  303.000000  303.000000  303.000000   \n",
       "mean    54.366337    0.683168    0.966997  131.623762  246.264026    0.148515   \n",
       "std      9.082101    0.466011    1.032052   17.538143   51.830751    0.356198   \n",
       "min     29.000000    0.000000    0.000000   94.000000  126.000000    0.000000   \n",
       "25%     47.500000    0.000000    0.000000  120.000000  211.000000    0.000000   \n",
       "50%     55.000000    1.000000    1.000000  130.000000  240.000000    0.000000   \n",
       "75%     61.000000    1.000000    2.000000  140.000000  274.500000    0.000000   \n",
       "max     77.000000    1.000000    3.000000  200.000000  564.000000    1.000000   \n",
       "\n",
       "          restecg     thalach       exang     oldpeak       slope          ca  \\\n",
       "count  303.000000  303.000000  303.000000  303.000000  303.000000  303.000000   \n",
       "mean     0.528053  149.646865    0.326733    1.039604    1.399340    0.729373   \n",
       "std      0.525860   22.905161    0.469794    1.161075    0.616226    1.022606   \n",
       "min      0.000000   71.000000    0.000000    0.000000    0.000000    0.000000   \n",
       "25%      0.000000  133.500000    0.000000    0.000000    1.000000    0.000000   \n",
       "50%      1.000000  153.000000    0.000000    0.800000    1.000000    0.000000   \n",
       "75%      1.000000  166.000000    1.000000    1.600000    2.000000    1.000000   \n",
       "max      2.000000  202.000000    1.000000    6.200000    2.000000    4.000000   \n",
       "\n",
       "             thal      target  \n",
       "count  303.000000  303.000000  \n",
       "mean     2.313531    0.544554  \n",
       "std      0.612277    0.498835  \n",
       "min      0.000000    0.000000  \n",
       "25%      2.000000    0.000000  \n",
       "50%      2.000000    1.000000  \n",
       "75%      3.000000    1.000000  \n",
       "max      3.000000    1.000000  "
      ]
     },
     "execution_count": 6,
     "metadata": {},
     "output_type": "execute_result"
    }
   ],
   "source": [
    "data.describe()"
   ]
  },
  {
   "cell_type": "markdown",
   "metadata": {
    "ExecuteTime": {
     "end_time": "2020-05-26T16:11:14.896818Z",
     "start_time": "2020-05-26T16:11:14.880483Z"
    }
   },
   "source": [
    "### 用直方图画出各个变量的分布情况"
   ]
  },
  {
   "cell_type": "code",
   "execution_count": 7,
   "metadata": {
    "ExecuteTime": {
     "end_time": "2020-05-27T06:41:47.147583Z",
     "start_time": "2020-05-27T06:41:45.472505Z"
    }
   },
   "outputs": [
    {
     "data": {
      "image/png": "[encoded data removed]",
      "text/plain": [
       "<Figure size 432x288 with 1 Axes>"
      ]
     },
     "metadata": {
      "needs_background": "light"
     },
     "output_type": "display_data"
    },
    {
     "data": {
      "image/png": "[encoded data removed]",
      "text/plain": [
       "<Figure size 432x288 with 1 Axes>"
      ]
     },
     "metadata": {
      "needs_background": "light"
     },
     "output_type": "display_data"
    },
    {
     "data": {
      "image/png": "[encoded data removed]",
      "text/plain": [
       "<Figure size 432x288 with 1 Axes>"
      ]
     },
     "metadata": {
      "needs_background": "light"
     },
     "output_type": "display_data"
    },
    {
     "data": {
      "image/png": "[encoded data removed]",
      "text/plain": [
       "<Figure size 432x288 with 1 Axes>"
      ]
     },
     "metadata": {
      "needs_background": "light"
     },
     "output_type": "display_data"
    },
    {
     "data": {
      "image/png": "[encoded data removed]",
      "text/plain": [
       "<Figure size 432x288 with 1 Axes>"
      ]
     },
     "metadata": {
      "needs_background": "light"
     },
     "output_type": "display_data"
    },
    {
     "data": {
      "image/png": "[encoded data removed]",
      "text/plain": [
       "<Figure size 432x288 with 1 Axes>"
      ]
     },
     "metadata": {
      "needs_background": "light"
     },
     "output_type": "display_data"
    },
    {
     "data": {
      "image/png": "[encoded data removed]",
      "text/plain": [
       "<Figure size 432x288 with 1 Axes>"
      ]
     },
     "metadata": {
      "needs_background": "light"
     },
     "output_type": "display_data"
    },
    {
     "data": {
      "image/png": "[encoded data removed]",
      "text/plain": [
       "<Figure size 432x288 with 1 Axes>"
      ]
     },
     "metadata": {
      "needs_background": "light"
     },
     "output_type": "display_data"
    },
    {
     "data": {
      "image/png": "[encoded data removed]",
      "text/plain": [
       "<Figure size 432x288 with 1 Axes>"
      ]
     },
     "metadata": {
      "needs_background": "light"
     },
     "output_type": "display_data"
    },
    {
     "data": {
      "image/png": "[encoded data removed]",
      "text/plain": [
       "<Figure size 432x288 with 1 Axes>"
      ]
     },
     "metadata": {
      "needs_background": "light"
     },
     "output_type": "display_data"
    },
    {
     "data": {
      "image/png": "[encoded data removed]",
      "text/plain": [
       "<Figure size 432x288 with 1 Axes>"
      ]
     },
     "metadata": {
      "needs_background": "light"
     },
     "output_type": "display_data"
    },
    {
     "data": {
      "image/png": "[encoded data removed]",
      "text/plain": [
       "<Figure size 432x288 with 1 Axes>"
      ]
     },
     "metadata": {
      "needs_background": "light"
     },
     "output_type": "display_data"
    },
    {
     "data": {
      "image/png": "[encoded data removed]",
      "text/plain": [
       "<Figure size 432x288 with 1 Axes>"
      ]
     },
     "metadata": {
      "needs_background": "light"
     },
     "output_type": "display_data"
    },
    {
     "data": {
      "image/png": "[encoded data removed]",
      "text/plain": [
       "<Figure size 432x288 with 1 Axes>"
      ]
     },
     "metadata": {
      "needs_background": "light"
     },
     "output_type": "display_data"
    }
   ],
   "source": [
    "for idx, col in enumerate(data.columns):\n",
    "    plt.hist(data[col], bins=20)\n",
    "    plt.xlabel(col)\n",
    "    plt.ylabel('frq')\n",
    "    plt.show()"
   ]
  },
  {
   "cell_type": "markdown",
   "metadata": {},
   "source": [
    "### 变量热力图"
   ]
  },
  {
   "cell_type": "code",
   "execution_count": 8,
   "metadata": {
    "ExecuteTime": {
     "end_time": "2020-05-27T06:41:47.372906Z",
     "start_time": "2020-05-27T06:41:47.149580Z"
    }
   },
   "outputs": [
    {
     "data": {
      "text/plain": [
       "<matplotlib.axes._subplots.AxesSubplot at 0x1f4ffe1e400>"
      ]
     },
     "execution_count": 8,
     "metadata": {},
     "output_type": "execute_result"
    },
    {
     "data": {
      "image/png": "[encoded data removed]",
      "text/plain": [
       "<Figure size 768x576 with 2 Axes>"
      ]
     },
     "metadata": {
      "needs_background": "light"
     },
     "output_type": "display_data"
    }
   ],
   "source": [
    "\"\"\"\n",
    "类别变量:\n",
    "thal\n",
    "ca\n",
    "slope\n",
    "exang\n",
    "restecg\n",
    "fbs\n",
    "cp\n",
    "sex\n",
    "\"\"\"\n",
    "class_vars = ['sex', 'cp', 'fbs', 'restecg', 'exang', 'slope', 'ca', 'thal']\n",
    "plt.figure(figsize=(6.4,4.8), dpi=120)\n",
    "sns.heatmap(data.corr())"
   ]
  },
  {
   "cell_type": "code",
   "execution_count": 9,
   "metadata": {
    "ExecuteTime": {
     "end_time": "2020-05-27T06:41:47.380397Z",
     "start_time": "2020-05-27T06:41:47.373896Z"
    }
   },
   "outputs": [
    {
     "data": {
      "text/plain": [
       "age        -0.225439\n",
       "sex        -0.280937\n",
       "cp          0.433798\n",
       "trestbps   -0.144931\n",
       "chol       -0.085239\n",
       "fbs        -0.028046\n",
       "restecg     0.137230\n",
       "thalach     0.421741\n",
       "exang      -0.436757\n",
       "oldpeak    -0.430696\n",
       "slope       0.345877\n",
       "ca         -0.391724\n",
       "thal       -0.344029\n",
       "target      1.000000\n",
       "Name: target, dtype: float64"
      ]
     },
     "execution_count": 9,
     "metadata": {},
     "output_type": "execute_result"
    }
   ],
   "source": [
    "data.corr()['target']"
   ]
  },
  {
   "cell_type": "markdown",
   "metadata": {},
   "source": [
    "### 类别型变量与target之间的关系饼图"
   ]
  },
  {
   "cell_type": "code",
   "execution_count": 10,
   "metadata": {
    "ExecuteTime": {
     "end_time": "2020-05-27T06:41:47.718547Z",
     "start_time": "2020-05-27T06:41:47.381910Z"
    }
   },
   "outputs": [
    {
     "data": {
      "image/png": "[encoded data removed]",
      "text/plain": [
       "<Figure size 432x288 with 1 Axes>"
      ]
     },
     "metadata": {},
     "output_type": "display_data"
    },
    {
     "data": {
      "image/png": "[encoded data removed]",
      "text/plain": [
       "<Figure size 432x288 with 1 Axes>"
      ]
     },
     "metadata": {},
     "output_type": "display_data"
    },
    {
     "data": {
      "image/png": "[encoded data removed]",
      "text/plain": [
       "<Figure size 432x288 with 1 Axes>"
      ]
     },
     "metadata": {},
     "output_type": "display_data"
    },
    {
     "data": {
      "image/png": "[encoded data removed]",
      "text/plain": [
       "<Figure size 432x288 with 1 Axes>"
      ]
     },
     "metadata": {},
     "output_type": "display_data"
    },
    {
     "data": {
      "image/png": "[encoded data removed]",
      "text/plain": [
       "<Figure size 432x288 with 1 Axes>"
      ]
     },
     "metadata": {},
     "output_type": "display_data"
    },
    {
     "data": {
      "image/png": "[encoded data removed]",
      "text/plain": [
       "<Figure size 432x288 with 1 Axes>"
      ]
     },
     "metadata": {},
     "output_type": "display_data"
    },
    {
     "data": {
      "image/png": "[encoded data removed]",
      "text/plain": [
       "<Figure size 432x288 with 1 Axes>"
      ]
     },
     "metadata": {},
     "output_type": "display_data"
    },
    {
     "data": {
      "image/png": "[encoded data removed]",
      "text/plain": [
       "<Figure size 432x288 with 1 Axes>"
      ]
     },
     "metadata": {},
     "output_type": "display_data"
    }
   ],
   "source": [
    "# 画出类别变量与患心脏病之间的关系饼图.\n",
    "data_target = data.loc[data.target == 1]\n",
    "for col in class_vars:\n",
    "    data[col].value_counts().plot(kind='pie')\n",
    "    plt.show()"
   ]
  },
  {
   "cell_type": "markdown",
   "metadata": {},
   "source": [
    "通过分析饼图,我们可以发现,是否患心脏病与各个类别型变量的属性均有关系."
   ]
  },
  {
   "cell_type": "markdown",
   "metadata": {},
   "source": [
    "将类别型变量构造为虚拟型变量\n",
    "sex \n",
    "cp (0,2) (1,3) 各一组\n",
    "restecg (1,0)与 2 各一组\n",
    "slope (1, 2) 与 0 各一组\n",
    "ca 0 与 其他\n",
    "thal 2,3 与 其他"
   ]
  },
  {
   "cell_type": "markdown",
   "metadata": {},
   "source": [
    "### 构造虚拟变量"
   ]
  },
  {
   "cell_type": "code",
   "execution_count": 11,
   "metadata": {
    "ExecuteTime": {
     "end_time": "2020-05-27T06:41:47.758973Z",
     "start_time": "2020-05-27T06:41:47.719542Z"
    }
   },
   "outputs": [
    {
     "name": "stdout",
     "output_type": "stream",
     "text": [
      "<class 'pandas.core.frame.DataFrame'>\n",
      "RangeIndex: 303 entries, 0 to 302\n",
      "Data columns (total 31 columns):\n",
      " #   Column     Non-Null Count  Dtype  \n",
      "---  ------     --------------  -----  \n",
      " 0   age        303 non-null    int64  \n",
      " 1   trestbps   303 non-null    int64  \n",
      " 2   chol       303 non-null    int64  \n",
      " 3   thalach    303 non-null    int64  \n",
      " 4   oldpeak    303 non-null    float64\n",
      " 5   target     303 non-null    int64  \n",
      " 6   sex_0      303 non-null    uint8  \n",
      " 7   sex_1      303 non-null    uint8  \n",
      " 8   fbs_0      303 non-null    uint8  \n",
      " 9   fbs_1      303 non-null    uint8  \n",
      " 10  exang_0    303 non-null    uint8  \n",
      " 11  exang_1    303 non-null    uint8  \n",
      " 12  thal_0     303 non-null    uint8  \n",
      " 13  thal_1     303 non-null    uint8  \n",
      " 14  thal_2     303 non-null    uint8  \n",
      " 15  thal_3     303 non-null    uint8  \n",
      " 16  slope_0    303 non-null    uint8  \n",
      " 17  slope_1    303 non-null    uint8  \n",
      " 18  slope_2    303 non-null    uint8  \n",
      " 19  restecg_0  303 non-null    uint8  \n",
      " 20  restecg_1  303 non-null    uint8  \n",
      " 21  restecg_2  303 non-null    uint8  \n",
      " 22  ca_0       303 non-null    uint8  \n",
      " 23  ca_1       303 non-null    uint8  \n",
      " 24  ca_2       303 non-null    uint8  \n",
      " 25  ca_3       303 non-null    uint8  \n",
      " 26  ca_4       303 non-null    uint8  \n",
      " 27  cp_0       303 non-null    uint8  \n",
      " 28  cp_1       303 non-null    uint8  \n",
      " 29  cp_2       303 non-null    uint8  \n",
      " 30  cp_3       303 non-null    uint8  \n",
      "dtypes: float64(1), int64(5), uint8(25)\n",
      "memory usage: 21.7 KB\n"
     ]
    }
   ],
   "source": [
    "# MapDict = {\n",
    "#     'sex':None,\n",
    "#     'fbs':None,\n",
    "#     'exang':None,\n",
    "#     'thal':{2:1, 3:1, 1:0, 0:0},\n",
    "#     'slope':{2:1,1:1,0:0},\n",
    "#     'restecg':{2:0, 0:1, 1:1},\n",
    "#     'ca':{0:0, 0:1,2:0,3:0,4:0},\n",
    "#     'cp':{0:1,2:1,1:0,3:0},\n",
    "# }\n",
    "\n",
    "MapColumns = [ 'sex', 'fbs', 'exang', 'thal', 'slope', 'restecg', 'ca', 'cp']\n",
    "\n",
    "# def get_dummies(data, **kwargs):\n",
    "#     tmp_data = data.copy(deep = True)\n",
    "#     for k, v in kwargs.items():\n",
    "#         if v:\n",
    "#             tmp_data[k] = tmp_data[k].map(v)\n",
    "#             tmp_data = pd.get_dummies(tmp_data, columns = [k])\n",
    "#         else:\n",
    "#             tmp_data = pd.get_dummies(tmp_data, columns = [k])\n",
    "#     return tmp_data\n",
    "\n",
    "def get_dummies(data, MapColumns):\n",
    "    tmp_data = data.copy(deep = True)\n",
    "    for key in MapColumns:\n",
    "        tmp_data = pd.get_dummies(tmp_data, columns = [key])\n",
    "    return tmp_data\n",
    "\n",
    "# df_dummies = get_dummies(data, **MapDict)\n",
    "df_dummies = get_dummies(data, MapColumns)\n",
    "df_dummies.info()"
   ]
  },
  {
   "cell_type": "code",
   "execution_count": 12,
   "metadata": {
    "ExecuteTime": {
     "end_time": "2020-05-27T06:41:47.840786Z",
     "start_time": "2020-05-27T06:41:47.759970Z"
    }
   },
   "outputs": [
    {
     "data": {
      "text/html": [
       "<div>\n",
       "<style scoped>\n",
       "    .dataframe tbody tr th:only-of-type {\n",
       "        vertical-align: middle;\n",
       "    }\n",
       "\n",
       "    .dataframe tbody tr th {\n",
       "        vertical-align: top;\n",
       "    }\n",
       "\n",
       "    .dataframe thead th {\n",
       "        text-align: right;\n",
       "    }\n",
       "</style>\n",
       "<table border=\"1\" class=\"dataframe\">\n",
       "  <thead>\n",
       "    <tr style=\"text-align: right;\">\n",
       "      <th></th>\n",
       "      <th>age</th>\n",
       "      <th>trestbps</th>\n",
       "      <th>chol</th>\n",
       "      <th>thalach</th>\n",
       "      <th>oldpeak</th>\n",
       "      <th>target</th>\n",
       "      <th>sex_0</th>\n",
       "      <th>sex_1</th>\n",
       "      <th>fbs_0</th>\n",
       "      <th>fbs_1</th>\n",
       "      <th>...</th>\n",
       "      <th>restecg_2</th>\n",
       "      <th>ca_0</th>\n",
       "      <th>ca_1</th>\n",
       "      <th>ca_2</th>\n",
       "      <th>ca_3</th>\n",
       "      <th>ca_4</th>\n",
       "      <th>cp_0</th>\n",
       "      <th>cp_1</th>\n",
       "      <th>cp_2</th>\n",
       "      <th>cp_3</th>\n",
       "    </tr>\n",
       "  </thead>\n",
       "  <tbody>\n",
       "    <tr>\n",
       "      <th>count</th>\n",
       "      <td>303.000000</td>\n",
       "      <td>303.000000</td>\n",
       "      <td>303.000000</td>\n",
       "      <td>303.000000</td>\n",
       "      <td>303.000000</td>\n",
       "      <td>303.000000</td>\n",
       "      <td>303.000000</td>\n",
       "      <td>303.000000</td>\n",
       "      <td>303.000000</td>\n",
       "      <td>303.000000</td>\n",
       "      <td>...</td>\n",
       "      <td>303.000000</td>\n",
       "      <td>303.000000</td>\n",
       "      <td>303.000000</td>\n",
       "      <td>303.000000</td>\n",
       "      <td>303.000000</td>\n",
       "      <td>303.000000</td>\n",
       "      <td>303.000000</td>\n",
       "      <td>303.000000</td>\n",
       "      <td>303.000000</td>\n",
       "      <td>303.000000</td>\n",
       "    </tr>\n",
       "    <tr>\n",
       "      <th>mean</th>\n",
       "      <td>54.366337</td>\n",
       "      <td>131.623762</td>\n",
       "      <td>246.264026</td>\n",
       "      <td>149.646865</td>\n",
       "      <td>1.039604</td>\n",
       "      <td>0.544554</td>\n",
       "      <td>0.316832</td>\n",
       "      <td>0.683168</td>\n",
       "      <td>0.851485</td>\n",
       "      <td>0.148515</td>\n",
       "      <td>...</td>\n",
       "      <td>0.013201</td>\n",
       "      <td>0.577558</td>\n",
       "      <td>0.214521</td>\n",
       "      <td>0.125413</td>\n",
       "      <td>0.066007</td>\n",
       "      <td>0.016502</td>\n",
       "      <td>0.471947</td>\n",
       "      <td>0.165017</td>\n",
       "      <td>0.287129</td>\n",
       "      <td>0.075908</td>\n",
       "    </tr>\n",
       "    <tr>\n",
       "      <th>std</th>\n",
       "      <td>9.082101</td>\n",
       "      <td>17.538143</td>\n",
       "      <td>51.830751</td>\n",
       "      <td>22.905161</td>\n",
       "      <td>1.161075</td>\n",
       "      <td>0.498835</td>\n",
       "      <td>0.466011</td>\n",
       "      <td>0.466011</td>\n",
       "      <td>0.356198</td>\n",
       "      <td>0.356198</td>\n",
       "      <td>...</td>\n",
       "      <td>0.114325</td>\n",
       "      <td>0.494765</td>\n",
       "      <td>0.411169</td>\n",
       "      <td>0.331734</td>\n",
       "      <td>0.248704</td>\n",
       "      <td>0.127605</td>\n",
       "      <td>0.500038</td>\n",
       "      <td>0.371809</td>\n",
       "      <td>0.453171</td>\n",
       "      <td>0.265288</td>\n",
       "    </tr>\n",
       "    <tr>\n",
       "      <th>min</th>\n",
       "      <td>29.000000</td>\n",
       "      <td>94.000000</td>\n",
       "      <td>126.000000</td>\n",
       "      <td>71.000000</td>\n",
       "      <td>0.000000</td>\n",
       "      <td>0.000000</td>\n",
       "      <td>0.000000</td>\n",
       "      <td>0.000000</td>\n",
       "      <td>0.000000</td>\n",
       "      <td>0.000000</td>\n",
       "      <td>...</td>\n",
       "      <td>0.000000</td>\n",
       "      <td>0.000000</td>\n",
       "      <td>0.000000</td>\n",
       "      <td>0.000000</td>\n",
       "      <td>0.000000</td>\n",
       "      <td>0.000000</td>\n",
       "      <td>0.000000</td>\n",
       "      <td>0.000000</td>\n",
       "      <td>0.000000</td>\n",
       "      <td>0.000000</td>\n",
       "    </tr>\n",
       "    <tr>\n",
       "      <th>25%</th>\n",
       "      <td>47.500000</td>\n",
       "      <td>120.000000</td>\n",
       "      <td>211.000000</td>\n",
       "      <td>133.500000</td>\n",
       "      <td>0.000000</td>\n",
       "      <td>0.000000</td>\n",
       "      <td>0.000000</td>\n",
       "      <td>0.000000</td>\n",
       "      <td>1.000000</td>\n",
       "      <td>0.000000</td>\n",
       "      <td>...</td>\n",
       "      <td>0.000000</td>\n",
       "      <td>0.000000</td>\n",
       "      <td>0.000000</td>\n",
       "      <td>0.000000</td>\n",
       "      <td>0.000000</td>\n",
       "      <td>0.000000</td>\n",
       "      <td>0.000000</td>\n",
       "      <td>0.000000</td>\n",
       "      <td>0.000000</td>\n",
       "      <td>0.000000</td>\n",
       "    </tr>\n",
       "    <tr>\n",
       "      <th>50%</th>\n",
       "      <td>55.000000</td>\n",
       "      <td>130.000000</td>\n",
       "      <td>240.000000</td>\n",
       "      <td>153.000000</td>\n",
       "      <td>0.800000</td>\n",
       "      <td>1.000000</td>\n",
       "      <td>0.000000</td>\n",
       "      <td>1.000000</td>\n",
       "      <td>1.000000</td>\n",
       "      <td>0.000000</td>\n",
       "      <td>...</td>\n",
       "      <td>0.000000</td>\n",
       "      <td>1.000000</td>\n",
       "      <td>0.000000</td>\n",
       "      <td>0.000000</td>\n",
       "      <td>0.000000</td>\n",
       "      <td>0.000000</td>\n",
       "      <td>0.000000</td>\n",
       "      <td>0.000000</td>\n",
       "      <td>0.000000</td>\n",
       "      <td>0.000000</td>\n",
       "    </tr>\n",
       "    <tr>\n",
       "      <th>75%</th>\n",
       "      <td>61.000000</td>\n",
       "      <td>140.000000</td>\n",
       "      <td>274.500000</td>\n",
       "      <td>166.000000</td>\n",
       "      <td>1.600000</td>\n",
       "      <td>1.000000</td>\n",
       "      <td>1.000000</td>\n",
       "      <td>1.000000</td>\n",
       "      <td>1.000000</td>\n",
       "      <td>0.000000</td>\n",
       "      <td>...</td>\n",
       "      <td>0.000000</td>\n",
       "      <td>1.000000</td>\n",
       "      <td>0.000000</td>\n",
       "      <td>0.000000</td>\n",
       "      <td>0.000000</td>\n",
       "      <td>0.000000</td>\n",
       "      <td>1.000000</td>\n",
       "      <td>0.000000</td>\n",
       "      <td>1.000000</td>\n",
       "      <td>0.000000</td>\n",
       "    </tr>\n",
       "    <tr>\n",
       "      <th>max</th>\n",
       "      <td>77.000000</td>\n",
       "      <td>200.000000</td>\n",
       "      <td>564.000000</td>\n",
       "      <td>202.000000</td>\n",
       "      <td>6.200000</td>\n",
       "      <td>1.000000</td>\n",
       "      <td>1.000000</td>\n",
       "      <td>1.000000</td>\n",
       "      <td>1.000000</td>\n",
       "      <td>1.000000</td>\n",
       "      <td>...</td>\n",
       "      <td>1.000000</td>\n",
       "      <td>1.000000</td>\n",
       "      <td>1.000000</td>\n",
       "      <td>1.000000</td>\n",
       "      <td>1.000000</td>\n",
       "      <td>1.000000</td>\n",
       "      <td>1.000000</td>\n",
       "      <td>1.000000</td>\n",
       "      <td>1.000000</td>\n",
       "      <td>1.000000</td>\n",
       "    </tr>\n",
       "  </tbody>\n",
       "</table>\n",
       "<p>8 rows × 31 columns</p>\n",
       "</div>"
      ],
      "text/plain": [
       "              age    trestbps        chol     thalach     oldpeak      target  \\\n",
       "count  303.000000  303.000000  303.000000  303.000000  303.000000  303.000000   \n",
       "mean    54.366337  131.623762  246.264026  149.646865    1.039604    0.544554   \n",
       "std      9.082101   17.538143   51.830751   22.905161    1.161075    0.498835   \n",
       "min     29.000000   94.000000  126.000000   71.000000    0.000000    0.000000   \n",
       "25%     47.500000  120.000000  211.000000  133.500000    0.000000    0.000000   \n",
       "50%     55.000000  130.000000  240.000000  153.000000    0.800000    1.000000   \n",
       "75%     61.000000  140.000000  274.500000  166.000000    1.600000    1.000000   \n",
       "max     77.000000  200.000000  564.000000  202.000000    6.200000    1.000000   \n",
       "\n",
       "            sex_0       sex_1       fbs_0       fbs_1  ...   restecg_2  \\\n",
       "count  303.000000  303.000000  303.000000  303.000000  ...  303.000000   \n",
       "mean     0.316832    0.683168    0.851485    0.148515  ...    0.013201   \n",
       "std      0.466011    0.466011    0.356198    0.356198  ...    0.114325   \n",
       "min      0.000000    0.000000    0.000000    0.000000  ...    0.000000   \n",
       "25%      0.000000    0.000000    1.000000    0.000000  ...    0.000000   \n",
       "50%      0.000000    1.000000    1.000000    0.000000  ...    0.000000   \n",
       "75%      1.000000    1.000000    1.000000    0.000000  ...    0.000000   \n",
       "max      1.000000    1.000000    1.000000    1.000000  ...    1.000000   \n",
       "\n",
       "             ca_0        ca_1        ca_2        ca_3        ca_4        cp_0  \\\n",
       "count  303.000000  303.000000  303.000000  303.000000  303.000000  303.000000   \n",
       "mean     0.577558    0.214521    0.125413    0.066007    0.016502    0.471947   \n",
       "std      0.494765    0.411169    0.331734    0.248704    0.127605    0.500038   \n",
       "min      0.000000    0.000000    0.000000    0.000000    0.000000    0.000000   \n",
       "25%      0.000000    0.000000    0.000000    0.000000    0.000000    0.000000   \n",
       "50%      1.000000    0.000000    0.000000    0.000000    0.000000    0.000000   \n",
       "75%      1.000000    0.000000    0.000000    0.000000    0.000000    1.000000   \n",
       "max      1.000000    1.000000    1.000000    1.000000    1.000000    1.000000   \n",
       "\n",
       "             cp_1        cp_2        cp_3  \n",
       "count  303.000000  303.000000  303.000000  \n",
       "mean     0.165017    0.287129    0.075908  \n",
       "std      0.371809    0.453171    0.265288  \n",
       "min      0.000000    0.000000    0.000000  \n",
       "25%      0.000000    0.000000    0.000000  \n",
       "50%      0.000000    0.000000    0.000000  \n",
       "75%      0.000000    1.000000    0.000000  \n",
       "max      1.000000    1.000000    1.000000  \n",
       "\n",
       "[8 rows x 31 columns]"
      ]
     },
     "execution_count": 12,
     "metadata": {},
     "output_type": "execute_result"
    }
   ],
   "source": [
    "df_dummies.describe()"
   ]
  },
  {
   "cell_type": "markdown",
   "metadata": {
    "ExecuteTime": {
     "end_time": "2020-05-26T16:29:19.530335Z",
     "start_time": "2020-05-26T16:29:19.514416Z"
    }
   },
   "source": [
    "### 分离训练集与测试集"
   ]
  },
  {
   "cell_type": "code",
   "execution_count": 13,
   "metadata": {
    "ExecuteTime": {
     "end_time": "2020-05-27T06:41:47.872669Z",
     "start_time": "2020-05-27T06:41:47.841787Z"
    }
   },
   "outputs": [
    {
     "name": "stdout",
     "output_type": "stream",
     "text": [
      "(242, 30) (61, 30) (242,) (61,)\n"
     ]
    }
   ],
   "source": [
    "from sklearn.model_selection import train_test_split\n",
    "\n",
    "X = df_dummies.drop(columns=['target'])\n",
    "y = df_dummies['target']\n",
    "X_train, X_test, y_train, y_test = train_test_split(X, y, test_size=0.2)\n",
    "print(X_train.shape, X_test.shape, y_train.shape, y_test.shape)"
   ]
  },
  {
   "cell_type": "markdown",
   "metadata": {},
   "source": [
    "### 对特征进行标准化处理"
   ]
  },
  {
   "cell_type": "code",
   "execution_count": 14,
   "metadata": {
    "ExecuteTime": {
     "end_time": "2020-05-27T06:41:47.880648Z",
     "start_time": "2020-05-27T06:41:47.873669Z"
    }
   },
   "outputs": [],
   "source": [
    "from sklearn.preprocessing import StandardScaler\n",
    "\n",
    "sc = StandardScaler()\n",
    "X_train_sc = sc.fit_transform(X_train)\n",
    "X_test_sc = sc.transform(X_test)"
   ]
  },
  {
   "cell_type": "markdown",
   "metadata": {},
   "source": [
    "## 训练\n",
    "### 交叉验证选择最优参数"
   ]
  },
  {
   "cell_type": "code",
   "execution_count": 15,
   "metadata": {
    "ExecuteTime": {
     "end_time": "2020-05-27T06:41:47.893616Z",
     "start_time": "2020-05-27T06:41:47.881646Z"
    }
   },
   "outputs": [],
   "source": [
    "class EstimatorSelectionHelper:\n",
    "\n",
    "    def __init__(self, models, params):\n",
    "        if not set(models.keys()).issubset(set(params.keys())):\n",
    "            missing_params = list(set(models.keys()) - set(params.keys()))\n",
    "            raise ValueError(\"Some estimators are missing parameters: %s\" % missing_params)\n",
    "        self.models = models\n",
    "        self.params = params\n",
    "        self.keys = models.keys()\n",
    "        self.grid_searches = {}\n",
    "        self.best = {}\n",
    "\n",
    "    def fit(self, X, y, cv=3, n_jobs=3, verbose=1, scoring=None, refit=False):\n",
    "        for key in self.keys:\n",
    "            print(\"Running GridSearchCV for %s.\" % key)\n",
    "            model = self.models[key]\n",
    "            params = self.params[key]\n",
    "            gs = GridSearchCV(model, params, cv=cv, n_jobs=n_jobs,\n",
    "                              verbose=verbose, scoring=scoring, refit=refit,\n",
    "                              return_train_score=True)\n",
    "            gs.fit(X,y)\n",
    "            self.best[key] = {'score':gs.best_score_, 'params':gs.best_params_}\n",
    "            self.grid_searches[key] = gs    \n",
    "\n",
    "    def score_summary(self, sort_by='mean_score'):\n",
    "        def row(key, scores, params):\n",
    "            d = {\n",
    "                 'estimator': key,\n",
    "                 'min_score': min(scores),\n",
    "                 'max_score': max(scores),\n",
    "                 'mean_score': np.mean(scores),\n",
    "                 'std_score': np.std(scores),\n",
    "            }\n",
    "            return pd.Series({**params,**d})\n",
    "\n",
    "        rows = []\n",
    "        for k in self.grid_searches:\n",
    "            print(k)\n",
    "            params = self.grid_searches[k].cv_results_['params']\n",
    "            scores = []\n",
    "            for i in range(self.grid_searches[k].cv):\n",
    "                key = \"split{}_test_score\".format(i)\n",
    "                r = self.grid_searches[k].cv_results_[key]        \n",
    "                scores.append(r.reshape(len(params),1))\n",
    "\n",
    "            all_scores = np.hstack(scores)\n",
    "            for p, s in zip(params,all_scores):\n",
    "                rows.append((row(k, s, p)))\n",
    "\n",
    "        df = pd.concat(rows, axis=1).T.sort_values([sort_by], ascending=False)\n",
    "\n",
    "        columns = ['estimator', 'min_score', 'mean_score', 'max_score', 'std_score']\n",
    "        columns = columns + [c for c in df.columns if c not in columns]\n",
    "\n",
    "        return df[columns]\n",
    "    def best_params(self):\n",
    "        return self.best"
   ]
  },
  {
   "cell_type": "code",
   "execution_count": 16,
   "metadata": {
    "ExecuteTime": {
     "end_time": "2020-05-27T06:41:54.579928Z",
     "start_time": "2020-05-27T06:41:47.895611Z"
    }
   },
   "outputs": [
    {
     "name": "stdout",
     "output_type": "stream",
     "text": [
      "Running GridSearchCV for rf.\n",
      "Fitting 5 folds for each of 9 candidates, totalling 45 fits\n"
     ]
    },
    {
     "name": "stderr",
     "output_type": "stream",
     "text": [
      "[Parallel(n_jobs=3)]: Using backend LokyBackend with 3 concurrent workers.\n",
      "[Parallel(n_jobs=3)]: Done  40 out of  45 | elapsed:    1.8s remaining:    0.1s\n",
      "[Parallel(n_jobs=3)]: Done  45 out of  45 | elapsed:    2.0s finished\n"
     ]
    },
    {
     "name": "stdout",
     "output_type": "stream",
     "text": [
      "Running GridSearchCV for gbdt.\n",
      "Fitting 5 folds for each of 27 candidates, totalling 135 fits\n"
     ]
    },
    {
     "name": "stderr",
     "output_type": "stream",
     "text": [
      "[Parallel(n_jobs=3)]: Using backend LokyBackend with 3 concurrent workers.\n",
      "[Parallel(n_jobs=3)]: Done 135 out of 135 | elapsed:    1.9s finished\n",
      "[Parallel(n_jobs=3)]: Using backend LokyBackend with 3 concurrent workers.\n"
     ]
    },
    {
     "name": "stdout",
     "output_type": "stream",
     "text": [
      "Running GridSearchCV for ada.\n",
      "Fitting 5 folds for each of 6 candidates, totalling 30 fits\n"
     ]
    },
    {
     "name": "stderr",
     "output_type": "stream",
     "text": [
      "[Parallel(n_jobs=3)]: Done  30 out of  30 | elapsed:    0.8s finished\n",
      "[Parallel(n_jobs=3)]: Using backend LokyBackend with 3 concurrent workers.\n"
     ]
    },
    {
     "name": "stdout",
     "output_type": "stream",
     "text": [
      "Running GridSearchCV for xgb.\n",
      "Fitting 5 folds for each of 9 candidates, totalling 45 fits\n"
     ]
    },
    {
     "name": "stderr",
     "output_type": "stream",
     "text": [
      "[Parallel(n_jobs=3)]: Done  45 out of  45 | elapsed:    1.2s finished\n",
      "[Parallel(n_jobs=3)]: Using backend LokyBackend with 3 concurrent workers.\n",
      "[Parallel(n_jobs=3)]: Done  30 out of  30 | elapsed:    0.0s finished\n",
      "[Parallel(n_jobs=3)]: Using backend LokyBackend with 3 concurrent workers.\n",
      "[Parallel(n_jobs=3)]: Done  10 out of  10 | elapsed:    0.0s finished\n"
     ]
    },
    {
     "name": "stdout",
     "output_type": "stream",
     "text": [
      "Running GridSearchCV for svm.\n",
      "Fitting 5 folds for each of 6 candidates, totalling 30 fits\n",
      "Running GridSearchCV for lr.\n",
      "Fitting 5 folds for each of 2 candidates, totalling 10 fits\n",
      "rf\n",
      "gbdt\n",
      "ada\n",
      "xgb\n",
      "svm\n",
      "lr\n"
     ]
    },
    {
     "data": {
      "text/html": [
       "<div>\n",
       "<style scoped>\n",
       "    .dataframe tbody tr th:only-of-type {\n",
       "        vertical-align: middle;\n",
       "    }\n",
       "\n",
       "    .dataframe tbody tr th {\n",
       "        vertical-align: top;\n",
       "    }\n",
       "\n",
       "    .dataframe thead th {\n",
       "        text-align: right;\n",
       "    }\n",
       "</style>\n",
       "<table border=\"1\" class=\"dataframe\">\n",
       "  <thead>\n",
       "    <tr style=\"text-align: right;\">\n",
       "      <th></th>\n",
       "      <th>estimator</th>\n",
       "      <th>min_score</th>\n",
       "      <th>mean_score</th>\n",
       "      <th>max_score</th>\n",
       "      <th>std_score</th>\n",
       "      <th>max_depth</th>\n",
       "      <th>n_estimators</th>\n",
       "      <th>learning_rate</th>\n",
       "      <th>C</th>\n",
       "      <th>kernel</th>\n",
       "      <th>gamma</th>\n",
       "    </tr>\n",
       "  </thead>\n",
       "  <tbody>\n",
       "    <tr>\n",
       "      <th>8</th>\n",
       "      <td>rf</td>\n",
       "      <td>0.8125</td>\n",
       "      <td>0.867517</td>\n",
       "      <td>0.897959</td>\n",
       "      <td>0.0370153</td>\n",
       "      <td>8</td>\n",
       "      <td>96</td>\n",
       "      <td>NaN</td>\n",
       "      <td>NaN</td>\n",
       "      <td>NaN</td>\n",
       "      <td>NaN</td>\n",
       "    </tr>\n",
       "    <tr>\n",
       "      <th>4</th>\n",
       "      <td>rf</td>\n",
       "      <td>0.791667</td>\n",
       "      <td>0.859269</td>\n",
       "      <td>0.897959</td>\n",
       "      <td>0.0365369</td>\n",
       "      <td>6</td>\n",
       "      <td>64</td>\n",
       "      <td>NaN</td>\n",
       "      <td>NaN</td>\n",
       "      <td>NaN</td>\n",
       "      <td>NaN</td>\n",
       "    </tr>\n",
       "    <tr>\n",
       "      <th>6</th>\n",
       "      <td>rf</td>\n",
       "      <td>0.791667</td>\n",
       "      <td>0.859269</td>\n",
       "      <td>0.897959</td>\n",
       "      <td>0.0410143</td>\n",
       "      <td>8</td>\n",
       "      <td>32</td>\n",
       "      <td>NaN</td>\n",
       "      <td>NaN</td>\n",
       "      <td>NaN</td>\n",
       "      <td>NaN</td>\n",
       "    </tr>\n",
       "    <tr>\n",
       "      <th>56</th>\n",
       "      <td>svm</td>\n",
       "      <td>0.8125</td>\n",
       "      <td>0.855017</td>\n",
       "      <td>0.918367</td>\n",
       "      <td>0.0403414</td>\n",
       "      <td>NaN</td>\n",
       "      <td>NaN</td>\n",
       "      <td>NaN</td>\n",
       "      <td>10</td>\n",
       "      <td>rbf</td>\n",
       "      <td>0.0001</td>\n",
       "    </tr>\n",
       "    <tr>\n",
       "      <th>53</th>\n",
       "      <td>svm</td>\n",
       "      <td>0.8125</td>\n",
       "      <td>0.855017</td>\n",
       "      <td>0.918367</td>\n",
       "      <td>0.0403414</td>\n",
       "      <td>NaN</td>\n",
       "      <td>NaN</td>\n",
       "      <td>NaN</td>\n",
       "      <td>1</td>\n",
       "      <td>rbf</td>\n",
       "      <td>0.001</td>\n",
       "    </tr>\n",
       "    <tr>\n",
       "      <th>5</th>\n",
       "      <td>rf</td>\n",
       "      <td>0.8125</td>\n",
       "      <td>0.851105</td>\n",
       "      <td>0.877551</td>\n",
       "      <td>0.0249519</td>\n",
       "      <td>6</td>\n",
       "      <td>96</td>\n",
       "      <td>NaN</td>\n",
       "      <td>NaN</td>\n",
       "      <td>NaN</td>\n",
       "      <td>NaN</td>\n",
       "    </tr>\n",
       "    <tr>\n",
       "      <th>2</th>\n",
       "      <td>rf</td>\n",
       "      <td>0.8125</td>\n",
       "      <td>0.85102</td>\n",
       "      <td>0.877551</td>\n",
       "      <td>0.0253547</td>\n",
       "      <td>4</td>\n",
       "      <td>96</td>\n",
       "      <td>NaN</td>\n",
       "      <td>NaN</td>\n",
       "      <td>NaN</td>\n",
       "      <td>NaN</td>\n",
       "    </tr>\n",
       "    <tr>\n",
       "      <th>1</th>\n",
       "      <td>rf</td>\n",
       "      <td>0.791667</td>\n",
       "      <td>0.846769</td>\n",
       "      <td>0.897959</td>\n",
       "      <td>0.0395811</td>\n",
       "      <td>4</td>\n",
       "      <td>64</td>\n",
       "      <td>NaN</td>\n",
       "      <td>NaN</td>\n",
       "      <td>NaN</td>\n",
       "      <td>NaN</td>\n",
       "    </tr>\n",
       "    <tr>\n",
       "      <th>55</th>\n",
       "      <td>svm</td>\n",
       "      <td>0.791667</td>\n",
       "      <td>0.846684</td>\n",
       "      <td>0.918367</td>\n",
       "      <td>0.0493985</td>\n",
       "      <td>NaN</td>\n",
       "      <td>NaN</td>\n",
       "      <td>NaN</td>\n",
       "      <td>10</td>\n",
       "      <td>rbf</td>\n",
       "      <td>0.001</td>\n",
       "    </tr>\n",
       "    <tr>\n",
       "      <th>52</th>\n",
       "      <td>svm</td>\n",
       "      <td>0.791667</td>\n",
       "      <td>0.842687</td>\n",
       "      <td>0.897959</td>\n",
       "      <td>0.0347622</td>\n",
       "      <td>NaN</td>\n",
       "      <td>NaN</td>\n",
       "      <td>NaN</td>\n",
       "      <td>10</td>\n",
       "      <td>linear</td>\n",
       "      <td>NaN</td>\n",
       "    </tr>\n",
       "    <tr>\n",
       "      <th>51</th>\n",
       "      <td>svm</td>\n",
       "      <td>0.8125</td>\n",
       "      <td>0.842687</td>\n",
       "      <td>0.918367</td>\n",
       "      <td>0.0391738</td>\n",
       "      <td>NaN</td>\n",
       "      <td>NaN</td>\n",
       "      <td>NaN</td>\n",
       "      <td>1</td>\n",
       "      <td>linear</td>\n",
       "      <td>NaN</td>\n",
       "    </tr>\n",
       "    <tr>\n",
       "      <th>42</th>\n",
       "      <td>xgb</td>\n",
       "      <td>0.770833</td>\n",
       "      <td>0.842687</td>\n",
       "      <td>0.897959</td>\n",
       "      <td>0.0455682</td>\n",
       "      <td>2</td>\n",
       "      <td>NaN</td>\n",
       "      <td>0.1</td>\n",
       "      <td>NaN</td>\n",
       "      <td>NaN</td>\n",
       "      <td>NaN</td>\n",
       "    </tr>\n",
       "    <tr>\n",
       "      <th>0</th>\n",
       "      <td>rf</td>\n",
       "      <td>0.770833</td>\n",
       "      <td>0.842517</td>\n",
       "      <td>0.918367</td>\n",
       "      <td>0.0511949</td>\n",
       "      <td>4</td>\n",
       "      <td>32</td>\n",
       "      <td>NaN</td>\n",
       "      <td>NaN</td>\n",
       "      <td>NaN</td>\n",
       "      <td>NaN</td>\n",
       "    </tr>\n",
       "    <tr>\n",
       "      <th>7</th>\n",
       "      <td>rf</td>\n",
       "      <td>0.791667</td>\n",
       "      <td>0.83869</td>\n",
       "      <td>0.875</td>\n",
       "      <td>0.0312939</td>\n",
       "      <td>8</td>\n",
       "      <td>64</td>\n",
       "      <td>NaN</td>\n",
       "      <td>NaN</td>\n",
       "      <td>NaN</td>\n",
       "      <td>NaN</td>\n",
       "    </tr>\n",
       "    <tr>\n",
       "      <th>49</th>\n",
       "      <td>xgb</td>\n",
       "      <td>0.729167</td>\n",
       "      <td>0.838605</td>\n",
       "      <td>0.895833</td>\n",
       "      <td>0.0585492</td>\n",
       "      <td>4</td>\n",
       "      <td>NaN</td>\n",
       "      <td>0.9</td>\n",
       "      <td>NaN</td>\n",
       "      <td>NaN</td>\n",
       "      <td>NaN</td>\n",
       "    </tr>\n",
       "    <tr>\n",
       "      <th>58</th>\n",
       "      <td>lr</td>\n",
       "      <td>0.8125</td>\n",
       "      <td>0.83852</td>\n",
       "      <td>0.918367</td>\n",
       "      <td>0.041012</td>\n",
       "      <td>NaN</td>\n",
       "      <td>NaN</td>\n",
       "      <td>NaN</td>\n",
       "      <td>10</td>\n",
       "      <td>NaN</td>\n",
       "      <td>NaN</td>\n",
       "    </tr>\n",
       "    <tr>\n",
       "      <th>57</th>\n",
       "      <td>lr</td>\n",
       "      <td>0.791667</td>\n",
       "      <td>0.838435</td>\n",
       "      <td>0.918367</td>\n",
       "      <td>0.0453248</td>\n",
       "      <td>NaN</td>\n",
       "      <td>NaN</td>\n",
       "      <td>NaN</td>\n",
       "      <td>1</td>\n",
       "      <td>NaN</td>\n",
       "      <td>NaN</td>\n",
       "    </tr>\n",
       "    <tr>\n",
       "      <th>46</th>\n",
       "      <td>xgb</td>\n",
       "      <td>0.77551</td>\n",
       "      <td>0.830697</td>\n",
       "      <td>0.895833</td>\n",
       "      <td>0.0436303</td>\n",
       "      <td>4</td>\n",
       "      <td>NaN</td>\n",
       "      <td>0.3</td>\n",
       "      <td>NaN</td>\n",
       "      <td>NaN</td>\n",
       "      <td>NaN</td>\n",
       "    </tr>\n",
       "    <tr>\n",
       "      <th>9</th>\n",
       "      <td>gbdt</td>\n",
       "      <td>0.791667</td>\n",
       "      <td>0.830357</td>\n",
       "      <td>0.877551</td>\n",
       "      <td>0.034143</td>\n",
       "      <td>2</td>\n",
       "      <td>32</td>\n",
       "      <td>0.1</td>\n",
       "      <td>NaN</td>\n",
       "      <td>NaN</td>\n",
       "      <td>NaN</td>\n",
       "    </tr>\n",
       "    <tr>\n",
       "      <th>44</th>\n",
       "      <td>xgb</td>\n",
       "      <td>0.75</td>\n",
       "      <td>0.826446</td>\n",
       "      <td>0.895833</td>\n",
       "      <td>0.0501603</td>\n",
       "      <td>6</td>\n",
       "      <td>NaN</td>\n",
       "      <td>0.1</td>\n",
       "      <td>NaN</td>\n",
       "      <td>NaN</td>\n",
       "      <td>NaN</td>\n",
       "    </tr>\n",
       "    <tr>\n",
       "      <th>43</th>\n",
       "      <td>xgb</td>\n",
       "      <td>0.77551</td>\n",
       "      <td>0.822364</td>\n",
       "      <td>0.857143</td>\n",
       "      <td>0.0331026</td>\n",
       "      <td>4</td>\n",
       "      <td>NaN</td>\n",
       "      <td>0.1</td>\n",
       "      <td>NaN</td>\n",
       "      <td>NaN</td>\n",
       "      <td>NaN</td>\n",
       "    </tr>\n",
       "    <tr>\n",
       "      <th>47</th>\n",
       "      <td>xgb</td>\n",
       "      <td>0.729167</td>\n",
       "      <td>0.818112</td>\n",
       "      <td>0.875</td>\n",
       "      <td>0.0484339</td>\n",
       "      <td>6</td>\n",
       "      <td>NaN</td>\n",
       "      <td>0.3</td>\n",
       "      <td>NaN</td>\n",
       "      <td>NaN</td>\n",
       "      <td>NaN</td>\n",
       "    </tr>\n",
       "    <tr>\n",
       "      <th>50</th>\n",
       "      <td>xgb</td>\n",
       "      <td>0.6875</td>\n",
       "      <td>0.818027</td>\n",
       "      <td>0.895833</td>\n",
       "      <td>0.0693186</td>\n",
       "      <td>6</td>\n",
       "      <td>NaN</td>\n",
       "      <td>0.9</td>\n",
       "      <td>NaN</td>\n",
       "      <td>NaN</td>\n",
       "      <td>NaN</td>\n",
       "    </tr>\n",
       "    <tr>\n",
       "      <th>36</th>\n",
       "      <td>ada</td>\n",
       "      <td>0.708333</td>\n",
       "      <td>0.817772</td>\n",
       "      <td>0.897959</td>\n",
       "      <td>0.0644553</td>\n",
       "      <td>NaN</td>\n",
       "      <td>32</td>\n",
       "      <td>0.5</td>\n",
       "      <td>NaN</td>\n",
       "      <td>NaN</td>\n",
       "      <td>NaN</td>\n",
       "    </tr>\n",
       "    <tr>\n",
       "      <th>18</th>\n",
       "      <td>gbdt</td>\n",
       "      <td>0.75</td>\n",
       "      <td>0.813776</td>\n",
       "      <td>0.877551</td>\n",
       "      <td>0.0424557</td>\n",
       "      <td>2</td>\n",
       "      <td>32</td>\n",
       "      <td>0.3</td>\n",
       "      <td>NaN</td>\n",
       "      <td>NaN</td>\n",
       "      <td>NaN</td>\n",
       "    </tr>\n",
       "    <tr>\n",
       "      <th>3</th>\n",
       "      <td>rf</td>\n",
       "      <td>0.729167</td>\n",
       "      <td>0.813776</td>\n",
       "      <td>0.857143</td>\n",
       "      <td>0.0446109</td>\n",
       "      <td>6</td>\n",
       "      <td>32</td>\n",
       "      <td>NaN</td>\n",
       "      <td>NaN</td>\n",
       "      <td>NaN</td>\n",
       "      <td>NaN</td>\n",
       "    </tr>\n",
       "    <tr>\n",
       "      <th>19</th>\n",
       "      <td>gbdt</td>\n",
       "      <td>0.770833</td>\n",
       "      <td>0.81369</td>\n",
       "      <td>0.897959</td>\n",
       "      <td>0.0464393</td>\n",
       "      <td>2</td>\n",
       "      <td>64</td>\n",
       "      <td>0.3</td>\n",
       "      <td>NaN</td>\n",
       "      <td>NaN</td>\n",
       "      <td>NaN</td>\n",
       "    </tr>\n",
       "    <tr>\n",
       "      <th>11</th>\n",
       "      <td>gbdt</td>\n",
       "      <td>0.770833</td>\n",
       "      <td>0.813605</td>\n",
       "      <td>0.877551</td>\n",
       "      <td>0.0449995</td>\n",
       "      <td>2</td>\n",
       "      <td>96</td>\n",
       "      <td>0.1</td>\n",
       "      <td>NaN</td>\n",
       "      <td>NaN</td>\n",
       "      <td>NaN</td>\n",
       "    </tr>\n",
       "    <tr>\n",
       "      <th>10</th>\n",
       "      <td>gbdt</td>\n",
       "      <td>0.770833</td>\n",
       "      <td>0.813605</td>\n",
       "      <td>0.877551</td>\n",
       "      <td>0.0449995</td>\n",
       "      <td>2</td>\n",
       "      <td>64</td>\n",
       "      <td>0.1</td>\n",
       "      <td>NaN</td>\n",
       "      <td>NaN</td>\n",
       "      <td>NaN</td>\n",
       "    </tr>\n",
       "    <tr>\n",
       "      <th>27</th>\n",
       "      <td>gbdt</td>\n",
       "      <td>0.75</td>\n",
       "      <td>0.809609</td>\n",
       "      <td>0.877551</td>\n",
       "      <td>0.0413395</td>\n",
       "      <td>2</td>\n",
       "      <td>32</td>\n",
       "      <td>0.9</td>\n",
       "      <td>NaN</td>\n",
       "      <td>NaN</td>\n",
       "      <td>NaN</td>\n",
       "    </tr>\n",
       "    <tr>\n",
       "      <th>45</th>\n",
       "      <td>xgb</td>\n",
       "      <td>0.734694</td>\n",
       "      <td>0.805952</td>\n",
       "      <td>0.854167</td>\n",
       "      <td>0.0414654</td>\n",
       "      <td>2</td>\n",
       "      <td>NaN</td>\n",
       "      <td>0.3</td>\n",
       "      <td>NaN</td>\n",
       "      <td>NaN</td>\n",
       "      <td>NaN</td>\n",
       "    </tr>\n",
       "    <tr>\n",
       "      <th>21</th>\n",
       "      <td>gbdt</td>\n",
       "      <td>0.755102</td>\n",
       "      <td>0.805782</td>\n",
       "      <td>0.857143</td>\n",
       "      <td>0.0380316</td>\n",
       "      <td>4</td>\n",
       "      <td>32</td>\n",
       "      <td>0.3</td>\n",
       "      <td>NaN</td>\n",
       "      <td>NaN</td>\n",
       "      <td>NaN</td>\n",
       "    </tr>\n",
       "    <tr>\n",
       "      <th>22</th>\n",
       "      <td>gbdt</td>\n",
       "      <td>0.755102</td>\n",
       "      <td>0.805782</td>\n",
       "      <td>0.857143</td>\n",
       "      <td>0.0423512</td>\n",
       "      <td>4</td>\n",
       "      <td>64</td>\n",
       "      <td>0.3</td>\n",
       "      <td>NaN</td>\n",
       "      <td>NaN</td>\n",
       "      <td>NaN</td>\n",
       "    </tr>\n",
       "    <tr>\n",
       "      <th>48</th>\n",
       "      <td>xgb</td>\n",
       "      <td>0.75</td>\n",
       "      <td>0.805697</td>\n",
       "      <td>0.875</td>\n",
       "      <td>0.0451209</td>\n",
       "      <td>2</td>\n",
       "      <td>NaN</td>\n",
       "      <td>0.9</td>\n",
       "      <td>NaN</td>\n",
       "      <td>NaN</td>\n",
       "      <td>NaN</td>\n",
       "    </tr>\n",
       "    <tr>\n",
       "      <th>23</th>\n",
       "      <td>gbdt</td>\n",
       "      <td>0.770833</td>\n",
       "      <td>0.805612</td>\n",
       "      <td>0.857143</td>\n",
       "      <td>0.0289857</td>\n",
       "      <td>4</td>\n",
       "      <td>96</td>\n",
       "      <td>0.3</td>\n",
       "      <td>NaN</td>\n",
       "      <td>NaN</td>\n",
       "      <td>NaN</td>\n",
       "    </tr>\n",
       "    <tr>\n",
       "      <th>13</th>\n",
       "      <td>gbdt</td>\n",
       "      <td>0.755102</td>\n",
       "      <td>0.801616</td>\n",
       "      <td>0.857143</td>\n",
       "      <td>0.0358644</td>\n",
       "      <td>4</td>\n",
       "      <td>64</td>\n",
       "      <td>0.1</td>\n",
       "      <td>NaN</td>\n",
       "      <td>NaN</td>\n",
       "      <td>NaN</td>\n",
       "    </tr>\n",
       "    <tr>\n",
       "      <th>12</th>\n",
       "      <td>gbdt</td>\n",
       "      <td>0.729167</td>\n",
       "      <td>0.801531</td>\n",
       "      <td>0.857143</td>\n",
       "      <td>0.045029</td>\n",
       "      <td>4</td>\n",
       "      <td>32</td>\n",
       "      <td>0.1</td>\n",
       "      <td>NaN</td>\n",
       "      <td>NaN</td>\n",
       "      <td>NaN</td>\n",
       "    </tr>\n",
       "    <tr>\n",
       "      <th>35</th>\n",
       "      <td>gbdt</td>\n",
       "      <td>0.729167</td>\n",
       "      <td>0.801361</td>\n",
       "      <td>0.897959</td>\n",
       "      <td>0.055551</td>\n",
       "      <td>6</td>\n",
       "      <td>96</td>\n",
       "      <td>0.9</td>\n",
       "      <td>NaN</td>\n",
       "      <td>NaN</td>\n",
       "      <td>NaN</td>\n",
       "    </tr>\n",
       "    <tr>\n",
       "      <th>20</th>\n",
       "      <td>gbdt</td>\n",
       "      <td>0.770833</td>\n",
       "      <td>0.801361</td>\n",
       "      <td>0.857143</td>\n",
       "      <td>0.0325375</td>\n",
       "      <td>2</td>\n",
       "      <td>96</td>\n",
       "      <td>0.3</td>\n",
       "      <td>NaN</td>\n",
       "      <td>NaN</td>\n",
       "      <td>NaN</td>\n",
       "    </tr>\n",
       "    <tr>\n",
       "      <th>37</th>\n",
       "      <td>ada</td>\n",
       "      <td>0.729167</td>\n",
       "      <td>0.80119</td>\n",
       "      <td>0.877551</td>\n",
       "      <td>0.0515636</td>\n",
       "      <td>NaN</td>\n",
       "      <td>64</td>\n",
       "      <td>0.5</td>\n",
       "      <td>NaN</td>\n",
       "      <td>NaN</td>\n",
       "      <td>NaN</td>\n",
       "    </tr>\n",
       "    <tr>\n",
       "      <th>29</th>\n",
       "      <td>gbdt</td>\n",
       "      <td>0.75</td>\n",
       "      <td>0.797364</td>\n",
       "      <td>0.857143</td>\n",
       "      <td>0.0407237</td>\n",
       "      <td>2</td>\n",
       "      <td>96</td>\n",
       "      <td>0.9</td>\n",
       "      <td>NaN</td>\n",
       "      <td>NaN</td>\n",
       "      <td>NaN</td>\n",
       "    </tr>\n",
       "    <tr>\n",
       "      <th>26</th>\n",
       "      <td>gbdt</td>\n",
       "      <td>0.708333</td>\n",
       "      <td>0.797279</td>\n",
       "      <td>0.895833</td>\n",
       "      <td>0.0719015</td>\n",
       "      <td>6</td>\n",
       "      <td>96</td>\n",
       "      <td>0.3</td>\n",
       "      <td>NaN</td>\n",
       "      <td>NaN</td>\n",
       "      <td>NaN</td>\n",
       "    </tr>\n",
       "    <tr>\n",
       "      <th>39</th>\n",
       "      <td>ada</td>\n",
       "      <td>0.729167</td>\n",
       "      <td>0.793282</td>\n",
       "      <td>0.836735</td>\n",
       "      <td>0.0398032</td>\n",
       "      <td>NaN</td>\n",
       "      <td>32</td>\n",
       "      <td>1</td>\n",
       "      <td>NaN</td>\n",
       "      <td>NaN</td>\n",
       "      <td>NaN</td>\n",
       "    </tr>\n",
       "    <tr>\n",
       "      <th>14</th>\n",
       "      <td>gbdt</td>\n",
       "      <td>0.714286</td>\n",
       "      <td>0.789201</td>\n",
       "      <td>0.877551</td>\n",
       "      <td>0.0587193</td>\n",
       "      <td>4</td>\n",
       "      <td>96</td>\n",
       "      <td>0.1</td>\n",
       "      <td>NaN</td>\n",
       "      <td>NaN</td>\n",
       "      <td>NaN</td>\n",
       "    </tr>\n",
       "    <tr>\n",
       "      <th>34</th>\n",
       "      <td>gbdt</td>\n",
       "      <td>0.708333</td>\n",
       "      <td>0.789116</td>\n",
       "      <td>0.877551</td>\n",
       "      <td>0.0620807</td>\n",
       "      <td>6</td>\n",
       "      <td>64</td>\n",
       "      <td>0.9</td>\n",
       "      <td>NaN</td>\n",
       "      <td>NaN</td>\n",
       "      <td>NaN</td>\n",
       "    </tr>\n",
       "    <tr>\n",
       "      <th>28</th>\n",
       "      <td>gbdt</td>\n",
       "      <td>0.75</td>\n",
       "      <td>0.784864</td>\n",
       "      <td>0.857143</td>\n",
       "      <td>0.039469</td>\n",
       "      <td>2</td>\n",
       "      <td>64</td>\n",
       "      <td>0.9</td>\n",
       "      <td>NaN</td>\n",
       "      <td>NaN</td>\n",
       "      <td>NaN</td>\n",
       "    </tr>\n",
       "    <tr>\n",
       "      <th>17</th>\n",
       "      <td>gbdt</td>\n",
       "      <td>0.666667</td>\n",
       "      <td>0.780612</td>\n",
       "      <td>0.916667</td>\n",
       "      <td>0.103828</td>\n",
       "      <td>6</td>\n",
       "      <td>96</td>\n",
       "      <td>0.1</td>\n",
       "      <td>NaN</td>\n",
       "      <td>NaN</td>\n",
       "      <td>NaN</td>\n",
       "    </tr>\n",
       "    <tr>\n",
       "      <th>38</th>\n",
       "      <td>ada</td>\n",
       "      <td>0.666667</td>\n",
       "      <td>0.780527</td>\n",
       "      <td>0.836735</td>\n",
       "      <td>0.0624513</td>\n",
       "      <td>NaN</td>\n",
       "      <td>96</td>\n",
       "      <td>0.5</td>\n",
       "      <td>NaN</td>\n",
       "      <td>NaN</td>\n",
       "      <td>NaN</td>\n",
       "    </tr>\n",
       "    <tr>\n",
       "      <th>31</th>\n",
       "      <td>gbdt</td>\n",
       "      <td>0.708333</td>\n",
       "      <td>0.776786</td>\n",
       "      <td>0.833333</td>\n",
       "      <td>0.0446149</td>\n",
       "      <td>4</td>\n",
       "      <td>64</td>\n",
       "      <td>0.9</td>\n",
       "      <td>NaN</td>\n",
       "      <td>NaN</td>\n",
       "      <td>NaN</td>\n",
       "    </tr>\n",
       "    <tr>\n",
       "      <th>30</th>\n",
       "      <td>gbdt</td>\n",
       "      <td>0.708333</td>\n",
       "      <td>0.776616</td>\n",
       "      <td>0.833333</td>\n",
       "      <td>0.0491535</td>\n",
       "      <td>4</td>\n",
       "      <td>32</td>\n",
       "      <td>0.9</td>\n",
       "      <td>NaN</td>\n",
       "      <td>NaN</td>\n",
       "      <td>NaN</td>\n",
       "    </tr>\n",
       "    <tr>\n",
       "      <th>16</th>\n",
       "      <td>gbdt</td>\n",
       "      <td>0.6875</td>\n",
       "      <td>0.776616</td>\n",
       "      <td>0.895833</td>\n",
       "      <td>0.080057</td>\n",
       "      <td>6</td>\n",
       "      <td>64</td>\n",
       "      <td>0.1</td>\n",
       "      <td>NaN</td>\n",
       "      <td>NaN</td>\n",
       "      <td>NaN</td>\n",
       "    </tr>\n",
       "    <tr>\n",
       "      <th>25</th>\n",
       "      <td>gbdt</td>\n",
       "      <td>0.666667</td>\n",
       "      <td>0.772619</td>\n",
       "      <td>0.9375</td>\n",
       "      <td>0.097851</td>\n",
       "      <td>6</td>\n",
       "      <td>64</td>\n",
       "      <td>0.3</td>\n",
       "      <td>NaN</td>\n",
       "      <td>NaN</td>\n",
       "      <td>NaN</td>\n",
       "    </tr>\n",
       "    <tr>\n",
       "      <th>24</th>\n",
       "      <td>gbdt</td>\n",
       "      <td>0.708333</td>\n",
       "      <td>0.772449</td>\n",
       "      <td>0.833333</td>\n",
       "      <td>0.0536742</td>\n",
       "      <td>6</td>\n",
       "      <td>32</td>\n",
       "      <td>0.3</td>\n",
       "      <td>NaN</td>\n",
       "      <td>NaN</td>\n",
       "      <td>NaN</td>\n",
       "    </tr>\n",
       "    <tr>\n",
       "      <th>33</th>\n",
       "      <td>gbdt</td>\n",
       "      <td>0.708333</td>\n",
       "      <td>0.772364</td>\n",
       "      <td>0.857143</td>\n",
       "      <td>0.0520305</td>\n",
       "      <td>6</td>\n",
       "      <td>32</td>\n",
       "      <td>0.9</td>\n",
       "      <td>NaN</td>\n",
       "      <td>NaN</td>\n",
       "      <td>NaN</td>\n",
       "    </tr>\n",
       "    <tr>\n",
       "      <th>32</th>\n",
       "      <td>gbdt</td>\n",
       "      <td>0.708333</td>\n",
       "      <td>0.772279</td>\n",
       "      <td>0.877551</td>\n",
       "      <td>0.0583823</td>\n",
       "      <td>4</td>\n",
       "      <td>96</td>\n",
       "      <td>0.9</td>\n",
       "      <td>NaN</td>\n",
       "      <td>NaN</td>\n",
       "      <td>NaN</td>\n",
       "    </tr>\n",
       "    <tr>\n",
       "      <th>40</th>\n",
       "      <td>ada</td>\n",
       "      <td>0.6875</td>\n",
       "      <td>0.768537</td>\n",
       "      <td>0.833333</td>\n",
       "      <td>0.0532917</td>\n",
       "      <td>NaN</td>\n",
       "      <td>64</td>\n",
       "      <td>1</td>\n",
       "      <td>NaN</td>\n",
       "      <td>NaN</td>\n",
       "      <td>NaN</td>\n",
       "    </tr>\n",
       "    <tr>\n",
       "      <th>15</th>\n",
       "      <td>gbdt</td>\n",
       "      <td>0.645833</td>\n",
       "      <td>0.759864</td>\n",
       "      <td>0.877551</td>\n",
       "      <td>0.0866143</td>\n",
       "      <td>6</td>\n",
       "      <td>32</td>\n",
       "      <td>0.1</td>\n",
       "      <td>NaN</td>\n",
       "      <td>NaN</td>\n",
       "      <td>NaN</td>\n",
       "    </tr>\n",
       "    <tr>\n",
       "      <th>41</th>\n",
       "      <td>ada</td>\n",
       "      <td>0.6875</td>\n",
       "      <td>0.743622</td>\n",
       "      <td>0.795918</td>\n",
       "      <td>0.0371852</td>\n",
       "      <td>NaN</td>\n",
       "      <td>96</td>\n",
       "      <td>1</td>\n",
       "      <td>NaN</td>\n",
       "      <td>NaN</td>\n",
       "      <td>NaN</td>\n",
       "    </tr>\n",
       "    <tr>\n",
       "      <th>54</th>\n",
       "      <td>svm</td>\n",
       "      <td>0.530612</td>\n",
       "      <td>0.541327</td>\n",
       "      <td>0.55102</td>\n",
       "      <td>0.00646706</td>\n",
       "      <td>NaN</td>\n",
       "      <td>NaN</td>\n",
       "      <td>NaN</td>\n",
       "      <td>1</td>\n",
       "      <td>rbf</td>\n",
       "      <td>0.0001</td>\n",
       "    </tr>\n",
       "  </tbody>\n",
       "</table>\n",
       "</div>"
      ],
      "text/plain": [
       "   estimator min_score mean_score max_score   std_score max_depth  \\\n",
       "8         rf    0.8125   0.867517  0.897959   0.0370153         8   \n",
       "4         rf  0.791667   0.859269  0.897959   0.0365369         6   \n",
       "6         rf  0.791667   0.859269  0.897959   0.0410143         8   \n",
       "56       svm    0.8125   0.855017  0.918367   0.0403414       NaN   \n",
       "53       svm    0.8125   0.855017  0.918367   0.0403414       NaN   \n",
       "5         rf    0.8125   0.851105  0.877551   0.0249519         6   \n",
       "2         rf    0.8125    0.85102  0.877551   0.0253547         4   \n",
       "1         rf  0.791667   0.846769  0.897959   0.0395811         4   \n",
       "55       svm  0.791667   0.846684  0.918367   0.0493985       NaN   \n",
       "52       svm  0.791667   0.842687  0.897959   0.0347622       NaN   \n",
       "51       svm    0.8125   0.842687  0.918367   0.0391738       NaN   \n",
       "42       xgb  0.770833   0.842687  0.897959   0.0455682         2   \n",
       "0         rf  0.770833   0.842517  0.918367   0.0511949         4   \n",
       "7         rf  0.791667    0.83869     0.875   0.0312939         8   \n",
       "49       xgb  0.729167   0.838605  0.895833   0.0585492         4   \n",
       "58        lr    0.8125    0.83852  0.918367    0.041012       NaN   \n",
       "57        lr  0.791667   0.838435  0.918367   0.0453248       NaN   \n",
       "46       xgb   0.77551   0.830697  0.895833   0.0436303         4   \n",
       "9       gbdt  0.791667   0.830357  0.877551    0.034143         2   \n",
       "44       xgb      0.75   0.826446  0.895833   0.0501603         6   \n",
       "43       xgb   0.77551   0.822364  0.857143   0.0331026         4   \n",
       "47       xgb  0.729167   0.818112     0.875   0.0484339         6   \n",
       "50       xgb    0.6875   0.818027  0.895833   0.0693186         6   \n",
       "36       ada  0.708333   0.817772  0.897959   0.0644553       NaN   \n",
       "18      gbdt      0.75   0.813776  0.877551   0.0424557         2   \n",
       "3         rf  0.729167   0.813776  0.857143   0.0446109         6   \n",
       "19      gbdt  0.770833    0.81369  0.897959   0.0464393         2   \n",
       "11      gbdt  0.770833   0.813605  0.877551   0.0449995         2   \n",
       "10      gbdt  0.770833   0.813605  0.877551   0.0449995         2   \n",
       "27      gbdt      0.75   0.809609  0.877551   0.0413395         2   \n",
       "45       xgb  0.734694   0.805952  0.854167   0.0414654         2   \n",
       "21      gbdt  0.755102   0.805782  0.857143   0.0380316         4   \n",
       "22      gbdt  0.755102   0.805782  0.857143   0.0423512         4   \n",
       "48       xgb      0.75   0.805697     0.875   0.0451209         2   \n",
       "23      gbdt  0.770833   0.805612  0.857143   0.0289857         4   \n",
       "13      gbdt  0.755102   0.801616  0.857143   0.0358644         4   \n",
       "12      gbdt  0.729167   0.801531  0.857143    0.045029         4   \n",
       "35      gbdt  0.729167   0.801361  0.897959    0.055551         6   \n",
       "20      gbdt  0.770833   0.801361  0.857143   0.0325375         2   \n",
       "37       ada  0.729167    0.80119  0.877551   0.0515636       NaN   \n",
       "29      gbdt      0.75   0.797364  0.857143   0.0407237         2   \n",
       "26      gbdt  0.708333   0.797279  0.895833   0.0719015         6   \n",
       "39       ada  0.729167   0.793282  0.836735   0.0398032       NaN   \n",
       "14      gbdt  0.714286   0.789201  0.877551   0.0587193         4   \n",
       "34      gbdt  0.708333   0.789116  0.877551   0.0620807         6   \n",
       "28      gbdt      0.75   0.784864  0.857143    0.039469         2   \n",
       "17      gbdt  0.666667   0.780612  0.916667    0.103828         6   \n",
       "38       ada  0.666667   0.780527  0.836735   0.0624513       NaN   \n",
       "31      gbdt  0.708333   0.776786  0.833333   0.0446149         4   \n",
       "30      gbdt  0.708333   0.776616  0.833333   0.0491535         4   \n",
       "16      gbdt    0.6875   0.776616  0.895833    0.080057         6   \n",
       "25      gbdt  0.666667   0.772619    0.9375    0.097851         6   \n",
       "24      gbdt  0.708333   0.772449  0.833333   0.0536742         6   \n",
       "33      gbdt  0.708333   0.772364  0.857143   0.0520305         6   \n",
       "32      gbdt  0.708333   0.772279  0.877551   0.0583823         4   \n",
       "40       ada    0.6875   0.768537  0.833333   0.0532917       NaN   \n",
       "15      gbdt  0.645833   0.759864  0.877551   0.0866143         6   \n",
       "41       ada    0.6875   0.743622  0.795918   0.0371852       NaN   \n",
       "54       svm  0.530612   0.541327   0.55102  0.00646706       NaN   \n",
       "\n",
       "   n_estimators learning_rate    C  kernel   gamma  \n",
       "8            96           NaN  NaN     NaN     NaN  \n",
       "4            64           NaN  NaN     NaN     NaN  \n",
       "6            32           NaN  NaN     NaN     NaN  \n",
       "56          NaN           NaN   10     rbf  0.0001  \n",
       "53          NaN           NaN    1     rbf   0.001  \n",
       "5            96           NaN  NaN     NaN     NaN  \n",
       "2            96           NaN  NaN     NaN     NaN  \n",
       "1            64           NaN  NaN     NaN     NaN  \n",
       "55          NaN           NaN   10     rbf   0.001  \n",
       "52          NaN           NaN   10  linear     NaN  \n",
       "51          NaN           NaN    1  linear     NaN  \n",
       "42          NaN           0.1  NaN     NaN     NaN  \n",
       "0            32           NaN  NaN     NaN     NaN  \n",
       "7            64           NaN  NaN     NaN     NaN  \n",
       "49          NaN           0.9  NaN     NaN     NaN  \n",
       "58          NaN           NaN   10     NaN     NaN  \n",
       "57          NaN           NaN    1     NaN     NaN  \n",
       "46          NaN           0.3  NaN     NaN     NaN  \n",
       "9            32           0.1  NaN     NaN     NaN  \n",
       "44          NaN           0.1  NaN     NaN     NaN  \n",
       "43          NaN           0.1  NaN     NaN     NaN  \n",
       "47          NaN           0.3  NaN     NaN     NaN  \n",
       "50          NaN           0.9  NaN     NaN     NaN  \n",
       "36           32           0.5  NaN     NaN     NaN  \n",
       "18           32           0.3  NaN     NaN     NaN  \n",
       "3            32           NaN  NaN     NaN     NaN  \n",
       "19           64           0.3  NaN     NaN     NaN  \n",
       "11           96           0.1  NaN     NaN     NaN  \n",
       "10           64           0.1  NaN     NaN     NaN  \n",
       "27           32           0.9  NaN     NaN     NaN  \n",
       "45          NaN           0.3  NaN     NaN     NaN  \n",
       "21           32           0.3  NaN     NaN     NaN  \n",
       "22           64           0.3  NaN     NaN     NaN  \n",
       "48          NaN           0.9  NaN     NaN     NaN  \n",
       "23           96           0.3  NaN     NaN     NaN  \n",
       "13           64           0.1  NaN     NaN     NaN  \n",
       "12           32           0.1  NaN     NaN     NaN  \n",
       "35           96           0.9  NaN     NaN     NaN  \n",
       "20           96           0.3  NaN     NaN     NaN  \n",
       "37           64           0.5  NaN     NaN     NaN  \n",
       "29           96           0.9  NaN     NaN     NaN  \n",
       "26           96           0.3  NaN     NaN     NaN  \n",
       "39           32             1  NaN     NaN     NaN  \n",
       "14           96           0.1  NaN     NaN     NaN  \n",
       "34           64           0.9  NaN     NaN     NaN  \n",
       "28           64           0.9  NaN     NaN     NaN  \n",
       "17           96           0.1  NaN     NaN     NaN  \n",
       "38           96           0.5  NaN     NaN     NaN  \n",
       "31           64           0.9  NaN     NaN     NaN  \n",
       "30           32           0.9  NaN     NaN     NaN  \n",
       "16           64           0.1  NaN     NaN     NaN  \n",
       "25           64           0.3  NaN     NaN     NaN  \n",
       "24           32           0.3  NaN     NaN     NaN  \n",
       "33           32           0.9  NaN     NaN     NaN  \n",
       "32           96           0.9  NaN     NaN     NaN  \n",
       "40           64             1  NaN     NaN     NaN  \n",
       "15           32           0.1  NaN     NaN     NaN  \n",
       "41           96             1  NaN     NaN     NaN  \n",
       "54          NaN           NaN    1     rbf  0.0001  "
      ]
     },
     "execution_count": 16,
     "metadata": {},
     "output_type": "execute_result"
    }
   ],
   "source": [
    "from sklearn.ensemble import RandomForestClassifier\n",
    "from sklearn.ensemble import GradientBoostingClassifier\n",
    "from sklearn.ensemble import AdaBoostClassifier\n",
    "from xgboost import XGBClassifier\n",
    "from sklearn.svm import SVC\n",
    "from sklearn.linear_model import LogisticRegression\n",
    "from sklearn.model_selection import GridSearchCV\n",
    "\n",
    "models = {\n",
    "    'rf':RandomForestClassifier(),\n",
    "    'gbdt':GradientBoostingClassifier(),\n",
    "    'ada':AdaBoostClassifier(),\n",
    "    'xgb':XGBClassifier(),\n",
    "    'svm':SVC(),\n",
    "    'lr':LogisticRegression(),\n",
    "}\n",
    "\n",
    "params = {\n",
    "    'rf':{'n_estimators' : [32,64,96], \"max_depth\" : [4,6,8]},\n",
    "    'gbdt':{\"n_estimators\" : [32,64,96], \"max_depth\" : [2,4,6], \"learning_rate\" : [0.1,0.3,0.9]},\n",
    "    'ada':{\"n_estimators\" : [32,64,96], \"learning_rate\" : [0.5,1.0]},\n",
    "    'xgb':{\"max_depth\" : [2,4,6], \"learning_rate\" : [0.1,0.3,0.9]},\n",
    "    'svm': [\n",
    "        {'kernel': ['linear'], 'C': [1, 10]},\n",
    "        {'kernel': ['rbf'], 'C': [1, 10], 'gamma': [0.001, 0.0001]},\n",
    "    ],\n",
    "    'lr':{'C' : [1, 10]},\n",
    "}\n",
    "\n",
    "Helper = EstimatorSelectionHelper(models, params)\n",
    "Helper.fit(X_train_sc, y_train, cv=5)\n",
    "Helper.score_summary(sort_by='mean_score')"
   ]
  },
  {
   "cell_type": "code",
   "execution_count": 17,
   "metadata": {
    "ExecuteTime": {
     "end_time": "2020-05-27T06:41:54.585912Z",
     "start_time": "2020-05-27T06:41:54.580924Z"
    }
   },
   "outputs": [
    {
     "data": {
      "text/plain": [
       "{'rf': {'score': 0.867517006802721,\n",
       "  'params': {'max_depth': 8, 'n_estimators': 96}},\n",
       " 'gbdt': {'score': 0.8303571428571429,\n",
       "  'params': {'learning_rate': 0.1, 'max_depth': 2, 'n_estimators': 32}},\n",
       " 'ada': {'score': 0.8177721088435375,\n",
       "  'params': {'learning_rate': 0.5, 'n_estimators': 32}},\n",
       " 'xgb': {'score': 0.8426870748299319,\n",
       "  'params': {'learning_rate': 0.1, 'max_depth': 2}},\n",
       " 'svm': {'score': 0.855017006802721,\n",
       "  'params': {'C': 1, 'gamma': 0.001, 'kernel': 'rbf'}},\n",
       " 'lr': {'score': 0.8385204081632655, 'params': {'C': 10}}}"
      ]
     },
     "execution_count": 17,
     "metadata": {},
     "output_type": "execute_result"
    }
   ],
   "source": [
    "best = Helper.best_params()\n",
    "best"
   ]
  },
  {
   "cell_type": "markdown",
   "metadata": {},
   "source": [
    "### 设置最优参数\n"
   ]
  },
  {
   "cell_type": "code",
   "execution_count": 18,
   "metadata": {
    "ExecuteTime": {
     "end_time": "2020-05-27T06:41:54.591896Z",
     "start_time": "2020-05-27T06:41:54.586909Z"
    }
   },
   "outputs": [],
   "source": [
    "best_models = [\n",
    "    ('rf',RandomForestClassifier()),\n",
    "    ('gbdt',GradientBoostingClassifier()),\n",
    "    ('ada',AdaBoostClassifier()),\n",
    "    ('xgb',XGBClassifier()),\n",
    "    ('svm',SVC()),\n",
    "    ('lr',LogisticRegression()),\n",
    "]\n",
    "\n",
    "for item in best_models:\n",
    "    key, clf = item\n",
    "    clf.set_params(**best[key]['params'])"
   ]
  },
  {
   "cell_type": "code",
   "execution_count": 19,
   "metadata": {
    "ExecuteTime": {
     "end_time": "2020-05-27T06:41:55.033928Z",
     "start_time": "2020-05-27T06:41:54.592896Z"
    }
   },
   "outputs": [],
   "source": [
    "from sklearn.ensemble import VotingClassifier\n",
    "vote_hard = VotingClassifier(estimators = best_models , voting = 'hard')\n",
    "vote_hard.fit(X_train_sc, y_train)\n",
    "prediction = vote_hard.predict(X_test_sc)"
   ]
  },
  {
   "cell_type": "markdown",
   "metadata": {},
   "source": [
    "### 计算准确率"
   ]
  },
  {
   "cell_type": "code",
   "execution_count": 20,
   "metadata": {
    "ExecuteTime": {
     "end_time": "2020-05-27T06:41:55.039912Z",
     "start_time": "2020-05-27T06:41:55.035923Z"
    }
   },
   "outputs": [],
   "source": [
    "correct = (prediction == y_test).sum()\n",
    "accuracy = correct / len(y_test)"
   ]
  },
  {
   "cell_type": "code",
   "execution_count": 21,
   "metadata": {
    "ExecuteTime": {
     "end_time": "2020-05-27T06:41:55.044899Z",
     "start_time": "2020-05-27T06:41:55.040910Z"
    },
    "scrolled": true
   },
   "outputs": [
    {
     "name": "stdout",
     "output_type": "stream",
     "text": [
      "accuracy 0.7377049180327869\n"
     ]
    }
   ],
   "source": [
    "print(f'accuracy {accuracy}')"
   ]
  },
  {
   "cell_type": "markdown",
   "metadata": {},
   "source": [
    "### 编写一个pipeline"
   ]
  },
  {
   "cell_type": "code",
   "execution_count": 22,
   "metadata": {
    "ExecuteTime": {
     "end_time": "2020-05-27T06:41:59.842978Z",
     "start_time": "2020-05-27T06:41:55.046895Z"
    }
   },
   "outputs": [
    {
     "data": {
      "text/plain": [
       "GridSearchCV(cv=5, error_score=nan,\n",
       "             estimator=Pipeline(memory=None,\n",
       "                                steps=[('pca',\n",
       "                                        PCA(copy=True, iterated_power='auto',\n",
       "                                            n_components=None,\n",
       "                                            random_state=None,\n",
       "                                            svd_solver='auto', tol=0.0,\n",
       "                                            whiten=False)),\n",
       "                                       ('vote_clf',\n",
       "                                        VotingClassifier(estimators=[('rf',\n",
       "                                                                      RandomForestClassifier(bootstrap=True,\n",
       "                                                                                             ccp_alpha=0.0,\n",
       "                                                                                             class_weight=None,\n",
       "                                                                                             criterion='gini',\n",
       "                                                                                             max_depth=8,\n",
       "                                                                                             max_features...\n",
       "                                                                                         multi_class='auto',\n",
       "                                                                                         n_jobs=None,\n",
       "                                                                                         penalty='l2',\n",
       "                                                                                         random_state=None,\n",
       "                                                                                         solver='lbfgs',\n",
       "                                                                                         tol=0.0001,\n",
       "                                                                                         verbose=0,\n",
       "                                                                                         warm_start=False))],\n",
       "                                                         flatten_transform=True,\n",
       "                                                         n_jobs=None,\n",
       "                                                         voting='hard',\n",
       "                                                         weights=None))],\n",
       "                                verbose=False),\n",
       "             iid='deprecated', n_jobs=None,\n",
       "             param_grid={'pca__n_components': [6, 12, 18]},\n",
       "             pre_dispatch='2*n_jobs', refit=True, return_train_score=False,\n",
       "             scoring=None, verbose=0)"
      ]
     },
     "execution_count": 22,
     "metadata": {},
     "output_type": "execute_result"
    }
   ],
   "source": [
    "from sklearn.pipeline import Pipeline\n",
    "from sklearn.decomposition import PCA\n",
    "steps = [\n",
    "    ('pca',PCA()),\n",
    "    ('vote_clf',vote_hard),\n",
    "]\n",
    "\n",
    "params = {\n",
    "    'pca__n_components':[6,12,18]\n",
    "}\n",
    "\n",
    "pipeline = Pipeline(steps)\n",
    "\n",
    "gs = GridSearchCV(pipeline, params, cv = 5)\n",
    "gs.fit(X_train_sc, y_train)"
   ]
  },
  {
   "cell_type": "code",
   "execution_count": 23,
   "metadata": {
    "ExecuteTime": {
     "end_time": "2020-05-27T06:41:59.851938Z",
     "start_time": "2020-05-27T06:41:59.846951Z"
    }
   },
   "outputs": [
    {
     "data": {
      "text/plain": [
       "{'pca__n_components': 12}"
      ]
     },
     "execution_count": 23,
     "metadata": {},
     "output_type": "execute_result"
    }
   ],
   "source": [
    "gs.best_params_"
   ]
  },
  {
   "cell_type": "code",
   "execution_count": 24,
   "metadata": {
    "ExecuteTime": {
     "end_time": "2020-05-27T06:41:59.860913Z",
     "start_time": "2020-05-27T06:41:59.853932Z"
    }
   },
   "outputs": [
    {
     "data": {
      "text/plain": [
       "0.863265306122449"
      ]
     },
     "execution_count": 24,
     "metadata": {},
     "output_type": "execute_result"
    }
   ],
   "source": [
    "gs.best_score_"
   ]
  },
  {
   "cell_type": "markdown",
   "metadata": {},
   "source": [
    "### 设置PCA超参数"
   ]
  },
  {
   "cell_type": "code",
   "execution_count": 25,
   "metadata": {
    "ExecuteTime": {
     "end_time": "2020-05-27T06:41:59.869892Z",
     "start_time": "2020-05-27T06:41:59.861910Z"
    }
   },
   "outputs": [],
   "source": [
    "from sklearn.decomposition import PCA\n",
    "pca = PCA(n_components=gs.best_params_['pca__n_components'])\n",
    "X_train_d = pca.fit_transform(X_train_sc)\n",
    "X_test_d = pca.transform(X_test_sc)"
   ]
  },
  {
   "cell_type": "code",
   "execution_count": 26,
   "metadata": {
    "ExecuteTime": {
     "end_time": "2020-05-27T06:42:00.189092Z",
     "start_time": "2020-05-27T06:41:59.871885Z"
    }
   },
   "outputs": [
    {
     "name": "stdout",
     "output_type": "stream",
     "text": [
      "accuracy 0.7704918032786885\n"
     ]
    }
   ],
   "source": [
    "vote_hard.fit(X_train_d, y_train)\n",
    "prediction = vote_hard.predict(X_test_d)\n",
    "correct = (prediction == y_test).sum()\n",
    "accuracy = correct / len(y_test)\n",
    "print(f'accuracy {accuracy}')"
   ]
  },
  {
   "cell_type": "code",
   "execution_count": null,
   "metadata": {},
   "outputs": [],
   "source": []
  }
 ],
 "metadata": {
  "kernelspec": {
   "display_name": "Python 3",
   "language": "python",
   "name": "python3"
  },
  "language_info": {
   "codemirror_mode": {
    "name": "ipython",
    "version": 3
   },
   "file_extension": ".py",
   "mimetype": "text/x-python",
   "name": "python",
   "nbconvert_exporter": "python",
   "pygments_lexer": "ipython3",
   "version": "3.6.6"
  },
  "toc": {
   "base_numbering": 1,
   "nav_menu": {},
   "number_sections": true,
   "sideBar": true,
   "skip_h1_title": false,
   "title_cell": "Table of Contents",
   "title_sidebar": "Contents",
   "toc_cell": false,
   "toc_position": {
    "height": "calc(100% - 180px)",
    "left": "10px",
    "top": "150px",
    "width": "284.444px"
   },
   "toc_section_display": true,
   "toc_window_display": false
  },
  "varInspector": {
   "cols": {
    "lenName": 16,
    "lenType": 16,
    "lenVar": 40
   },
   "kernels_config": {
    "python": {
     "delete_cmd_postfix": "",
     "delete_cmd_prefix": "del ",
     "library": "var_list.py",
     "varRefreshCmd": "print(var_dic_list())"
    },
    "r": {
     "delete_cmd_postfix": ") ",
     "delete_cmd_prefix": "rm(",
     "library": "var_list.r",
     "varRefreshCmd": "cat(var_dic_list()) "
    }
   },
   "types_to_exclude": [
    "module",
    "function",
    "builtin_function_or_method",
    "instance",
    "_Feature"
   ],
   "window_display": false
  }
 },
 "nbformat": 4,
 "nbformat_minor": 4
}
