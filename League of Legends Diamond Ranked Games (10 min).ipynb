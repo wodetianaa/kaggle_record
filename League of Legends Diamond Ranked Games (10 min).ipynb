{
 "cells": [
  {
   "cell_type": "code",
   "execution_count": null,
   "metadata": {
    "ExecuteTime": {
     "end_time": "2020-06-10T01:42:21.298711Z",
     "start_time": "2020-06-10T01:42:20.495931Z"
    }
   },
   "outputs": [],
   "source": [
    "import pandas as pd\n",
    "import numpy as np\n",
    "import seaborn as sns\n",
    "import matplotlib.pyplot as plt\n",
    "\n",
    "pd.set_option(\"display.max_rows\", 100)\n",
    "pd.set_option(\"display.max_columns\", 100)\n",
    "plt.style.use('fivethirtyeight')"
   ]
  },
  {
   "cell_type": "code",
   "execution_count": null,
   "metadata": {
    "ExecuteTime": {
     "end_time": "2020-06-10T01:42:21.350532Z",
     "start_time": "2020-06-10T01:42:21.304622Z"
    }
   },
   "outputs": [],
   "source": [
    "data = pd.read_csv('./data/lol/high_diamond_ranked_10min.csv')\n",
    "data.info()"
   ]
  },
  {
   "cell_type": "markdown",
   "metadata": {},
   "source": [
    "### 数据分析\n",
    "\n",
    "共有9879条数据, 并没有缺失数据, 并且变量类型全是数值型变量, 包括连续型数值变量以及离散型数值变量.\n",
    "\n",
    "蓝红方的胜率基本55开, 前两行是gameid, 和蓝色方是否胜利.\n",
    "\n",
    "后面还有38个特征, 每队有19个特征, 特征类型是一样的.\n",
    "\n",
    "- blueWardsPlaced, blueWardsDestroyed, 插眼和反眼\n",
    "\n",
    "- blueFirstBlood 蓝色方是否拿了一血\n",
    "\n",
    "- blueKills, blueDeaths, blueAssists 蓝色方的击杀, 死亡, 助攻, 能换算为KDA\n",
    "\n",
    "- blueEliteMonsters, blueDragons, blueHeralds 蓝色方精英怪, 小龙, 先锋击杀数\n",
    "\n",
    "- blueTowersDestroyed 蓝色方推塔数\n",
    "\n",
    "- blueTotalGold 蓝色方经济\n",
    "\n",
    "- blueAvgLevel 蓝色方平均等级\n",
    "\n",
    "- blueTotalMinionsKilled 蓝色方击杀小兵数\n",
    "\n",
    "- blueTotalJungleMinionsKilled 蓝色方野区野怪击杀数\n",
    "\n",
    "- blueGoldDiff, blueExperienceDiff, blueCSPerMin, blueGoldPerMin 经济差, 经验差, 分均补刀, 分均经济\n",
    "\n",
    "根据以上数据, 我从以下几个方向对游戏走向进行分析:\n",
    "\n",
    "- **视野**\n",
    "\n",
    "- **一血率**\n",
    "\n",
    "- **KDA战损比**\n",
    "\n",
    "- **重要资源掌控以及野区对位情况**\n",
    "\n",
    "- **对线情况**\n",
    "\n",
    "- **双方经济以及经验数据分析**\n",
    "\n",
    "- **双方经验差**"
   ]
  },
  {
   "cell_type": "markdown",
   "metadata": {
    "ExecuteTime": {
     "end_time": "2020-06-09T07:45:09.829881Z",
     "start_time": "2020-06-09T07:45:09.825336Z"
    }
   },
   "source": [
    "#### 视野数据的分析"
   ]
  },
  {
   "cell_type": "code",
   "execution_count": null,
   "metadata": {
    "ExecuteTime": {
     "end_time": "2020-06-10T01:42:23.482532Z",
     "start_time": "2020-06-10T01:42:23.477545Z"
    }
   },
   "outputs": [],
   "source": [
    "print('mean :', round(data['blueWardsPlaced'].mean(),2))\n",
    "print('min :', data['blueWardsPlaced'].min())\n",
    "print('max :', data['blueWardsPlaced'].max())"
   ]
  },
  {
   "cell_type": "markdown",
   "metadata": {},
   "source": [
    "竟然有一局游戏, 蓝色方10分钟插了250个眼, 不太科学...\n",
    "\n",
    "数据中应该有离群点, 我们试着找一下"
   ]
  },
  {
   "cell_type": "code",
   "execution_count": null,
   "metadata": {
    "ExecuteTime": {
     "end_time": "2020-06-10T01:42:24.760809Z",
     "start_time": "2020-06-10T01:42:24.753791Z"
    }
   },
   "outputs": [],
   "source": [
    "len(data[(data.blueWardsPlaced>=50) | (data.redWardsPlaced >= 50)])"
   ]
  },
  {
   "cell_type": "markdown",
   "metadata": {},
   "source": [
    "有1142个对局前10分钟, 有一方插到了50个眼, 显然这个数据不太正确. \n",
    "\n",
    "因此对于视野数据, 我们先把这些离群点给剔除, 再进行分析."
   ]
  },
  {
   "cell_type": "code",
   "execution_count": null,
   "metadata": {
    "ExecuteTime": {
     "end_time": "2020-06-10T01:44:57.295301Z",
     "start_time": "2020-06-10T01:44:57.290281Z"
    }
   },
   "outputs": [],
   "source": [
    "drop_index = data[(data.blueWardsPlaced>=50) | (data.redWardsPlaced >= 50)].index"
   ]
  },
  {
   "cell_type": "code",
   "execution_count": null,
   "metadata": {
    "ExecuteTime": {
     "end_time": "2020-06-10T01:44:57.782304Z",
     "start_time": "2020-06-10T01:44:57.776291Z"
    }
   },
   "outputs": [],
   "source": [
    "data_v1 = data.drop(index = drop_index)"
   ]
  },
  {
   "cell_type": "markdown",
   "metadata": {},
   "source": [
    "求出双方的插眼情况的差值"
   ]
  },
  {
   "cell_type": "code",
   "execution_count": null,
   "metadata": {
    "ExecuteTime": {
     "end_time": "2020-06-10T01:44:58.744223Z",
     "start_time": "2020-06-10T01:44:58.738233Z"
    }
   },
   "outputs": [],
   "source": [
    "data_v1['diffWardsPlaced'] = (data_v1['blueWardsPlaced']) - (data_v1['redWardsPlaced'])"
   ]
  },
  {
   "cell_type": "code",
   "execution_count": null,
   "metadata": {
    "ExecuteTime": {
     "end_time": "2020-06-10T01:44:59.663661Z",
     "start_time": "2020-06-10T01:44:59.391135Z"
    }
   },
   "outputs": [],
   "source": [
    "plt.figure(figsize=(12,5))\n",
    "data_v1[data_v1.blueWins == 1]['diffWardsPlaced'].hist(bins = 50, color = 'blue', label = 'blue_wins', alpha=0.6)\n",
    "data_v1[data_v1.blueWins == 0]['diffWardsPlaced'].hist(bins = 50, color = 'red', label = 'red_wins', alpha=0.6)\n",
    "plt.legend()\n",
    "plt.show()"
   ]
  },
  {
   "cell_type": "markdown",
   "metadata": {},
   "source": [
    "根据红蓝双方的插眼反眼数, 构造一个新的变量出来.\n",
    "\n",
    "视野压制 = (蓝色方插眼数 - 红色方反眼数) - (红色方插眼数 - 蓝色方反眼数)"
   ]
  },
  {
   "cell_type": "code",
   "execution_count": null,
   "metadata": {
    "ExecuteTime": {
     "end_time": "2020-06-10T01:46:58.826428Z",
     "start_time": "2020-06-10T01:46:58.821442Z"
    }
   },
   "outputs": [],
   "source": [
    "data_v1['VisionSuppression'] = (data_v1['blueWardsPlaced'] - data_v1['redWardsPlaced'] ) - ( data_v1['redWardsPlaced'] - data_v1['blueWardsDestroyed'])"
   ]
  },
  {
   "cell_type": "code",
   "execution_count": null,
   "metadata": {
    "ExecuteTime": {
     "end_time": "2020-06-10T01:47:00.000318Z",
     "start_time": "2020-06-10T01:46:59.619908Z"
    }
   },
   "outputs": [],
   "source": [
    "plt.figure(figsize=(12,5))\n",
    "data_v1[data_v1.blueWins == 1]['VisionSuppression'].hist(bins = 100, color = 'blue', label = 'blue_wins', alpha=0.6)\n",
    "data_v1[data_v1.blueWins == 0]['VisionSuppression'].hist(bins = 100, color = 'red', label = 'red_wins', alpha=0.6)\n",
    "plt.legend()\n",
    "plt.show()"
   ]
  },
  {
   "cell_type": "markdown",
   "metadata": {
    "ExecuteTime": {
     "end_time": "2020-06-09T08:42:39.863552Z",
     "start_time": "2020-06-09T08:42:39.854070Z"
    }
   },
   "source": [
    "暂时看不出和胜负有很大的关联性, 那么这个数据就暂时放一边吧\n",
    "\n",
    "#### 一血率与获胜的关系"
   ]
  },
  {
   "cell_type": "code",
   "execution_count": null,
   "metadata": {
    "ExecuteTime": {
     "end_time": "2020-06-10T01:59:03.733396Z",
     "start_time": "2020-06-10T01:59:03.551158Z"
    }
   },
   "outputs": [],
   "source": [
    "plt.figure(figsize=(20, 5))\n",
    "plt.subplot(1, 2, 1)\n",
    "data[data.blueWins == 1]['blueFirstBlood'].value_counts().plot(kind='bar', color = 'blue', label = 'blue_wins', alpha = 0.6)\n",
    "plt.legend()\n",
    "plt.subplot(1,2,2)\n",
    "data[data.blueWins == 0]['redFirstBlood'].value_counts().plot(kind='bar', color = 'red', label = 'red_wins', alpha = 0.6)\n",
    "plt.legend()"
   ]
  },
  {
   "cell_type": "markdown",
   "metadata": {},
   "source": [
    "可以看出, 哪方拿了一血对于游戏的走向是有一定的影响的."
   ]
  },
  {
   "cell_type": "markdown",
   "metadata": {},
   "source": [
    "#### KDA对获胜的影响"
   ]
  },
  {
   "cell_type": "code",
   "execution_count": null,
   "metadata": {
    "ExecuteTime": {
     "end_time": "2020-06-10T02:03:12.619280Z",
     "start_time": "2020-06-10T02:03:12.614293Z"
    }
   },
   "outputs": [],
   "source": [
    "data['blueKDA'] = (data['blueKills'] + data['blueAssists']) / (data['blueDeaths'] + 1)\n",
    "data['redKDA'] = (data['redKills'] + data['redAssists']) / (data['redDeaths'] + 1)"
   ]
  },
  {
   "cell_type": "code",
   "execution_count": null,
   "metadata": {
    "ExecuteTime": {
     "end_time": "2020-06-10T02:05:32.524080Z",
     "start_time": "2020-06-10T02:05:31.742641Z"
    }
   },
   "outputs": [],
   "source": [
    "plt.figure(figsize=(20,5))\n",
    "plt.subplot(1,2,1)\n",
    "data[data.blueWins == 1]['blueKDA'].hist(bins = 100, color = 'blue', label = 'blue_wins', alpha=0.6)\n",
    "data[data.blueWins == 0]['blueKDA'].hist(bins = 100, color = 'red', label = 'red_wins', alpha=0.6)\n",
    "plt.legend()\n",
    "plt.title('blue KDA')\n",
    "\n",
    "plt.subplot(1,2,2)\n",
    "data[data.blueWins == 1]['redKDA'].hist(bins = 100, color = 'blue', label = 'blue_wins', alpha=0.6)\n",
    "data[data.blueWins == 0]['redKDA'].hist(bins = 100, color = 'red', label = 'red_wins', alpha=0.6)\n",
    "plt.legend()\n",
    "plt.title('red KDA')\n",
    "plt.show()"
   ]
  },
  {
   "cell_type": "markdown",
   "metadata": {},
   "source": [
    "获胜方的前10分钟,队伍KDA都比较高"
   ]
  },
  {
   "cell_type": "markdown",
   "metadata": {},
   "source": [
    "#### 野区的情况\n",
    "\n",
    "首先查看重要资源掌控情况与获胜的关系.\n",
    "\n",
    "先查看这三个特征的分布情况\n",
    "\n",
    "blueEliteMonsters, blueDragons, blueHeralds"
   ]
  },
  {
   "cell_type": "markdown",
   "metadata": {},
   "source": [
    "查看这三个变量与获胜之间的关系."
   ]
  },
  {
   "cell_type": "code",
   "execution_count": null,
   "metadata": {
    "ExecuteTime": {
     "end_time": "2020-06-10T01:53:37.169389Z",
     "start_time": "2020-06-10T01:53:36.865576Z"
    }
   },
   "outputs": [],
   "source": [
    "plt.figure(figsize=(20, 5))\n",
    "plt.subplot(1,3,1)\n",
    "data[data.blueWins == 1]['blueEliteMonsters'].value_counts().plot(kind = 'bar', color = 'blue',label = 'blueWins', alpha = 0.5)\n",
    "data[data.blueWins == 0]['blueEliteMonsters'].value_counts().plot(kind = 'bar', color = 'red',label = 'redWins', alpha = 0.5)\n",
    "plt.legend()\n",
    "plt.title('EliteMonsters')\n",
    "plt.subplot(1,3,2)\n",
    "data[data.blueWins == 1]['blueDragons'].value_counts().plot(kind = 'bar', color = 'blue',label = 'blueWins', alpha = 0.5)\n",
    "data[data.blueWins == 0]['blueDragons'].value_counts().plot(kind = 'bar', color = 'red',label = 'redWins', alpha = 0.5)\n",
    "plt.legend()\n",
    "plt.title('Dragons')\n",
    "plt.subplot(1,3,3)\n",
    "data[data.blueWins == 1]['blueHeralds'].value_counts().plot(kind = 'bar', color = 'blue',label = 'blueWins', alpha = 0.5)\n",
    "data[data.blueWins == 0]['blueHeralds'].value_counts().plot(kind = 'bar', color = 'red',label = 'redWins', alpha = 0.5)\n",
    "plt.title('Heralds')\n",
    "plt.legend()\n",
    "plt.show()"
   ]
  },
  {
   "cell_type": "markdown",
   "metadata": {},
   "source": [
    "将这三个变量与红色方的对应3个变量作差"
   ]
  },
  {
   "cell_type": "code",
   "execution_count": null,
   "metadata": {
    "ExecuteTime": {
     "end_time": "2020-06-10T01:53:38.930145Z",
     "start_time": "2020-06-10T01:53:38.924159Z"
    }
   },
   "outputs": [],
   "source": [
    "data['diffEliteMonsters'] = data['blueEliteMonsters'] - data['redEliteMonsters']\n",
    "data['diffDragons'] = data['blueDragons'] - data['redDragons']\n",
    "data['diffHearlds'] = data['blueHeralds'] - data['redHeralds']"
   ]
  },
  {
   "cell_type": "code",
   "execution_count": null,
   "metadata": {
    "ExecuteTime": {
     "end_time": "2020-06-10T01:53:41.534419Z",
     "start_time": "2020-06-10T01:53:41.226038Z"
    }
   },
   "outputs": [],
   "source": [
    "plt.figure(figsize=(20, 5))\n",
    "plt.subplot(1,3,1)\n",
    "data[data.blueWins == 1]['diffEliteMonsters'].value_counts().plot(kind = 'bar', color = 'blue',label = 'blueWins', alpha = 0.5)\n",
    "data[data.blueWins == 0]['diffEliteMonsters'].value_counts().plot(kind = 'bar', color = 'red',label = 'redWins', alpha = 0.5)\n",
    "plt.legend()\n",
    "plt.title('diffEliteMonsters')\n",
    "plt.subplot(1,3,2)\n",
    "data[data.blueWins == 1]['diffDragons'].value_counts().plot(kind = 'bar', color = 'blue',label = 'blueWins', alpha = 0.5)\n",
    "data[data.blueWins == 0]['diffDragons'].value_counts().plot(kind = 'bar', color = 'red',label = 'redWins', alpha = 0.5)\n",
    "plt.legend()\n",
    "plt.title('diffDragons')\n",
    "plt.subplot(1,3,3)\n",
    "data[data.blueWins == 1]['diffHearlds'].value_counts().plot(kind = 'bar', color = 'blue',label = 'blueWins', alpha = 0.5)\n",
    "data[data.blueWins == 0]['diffHearlds'].value_counts().plot(kind = 'bar', color = 'red',label = 'redWins', alpha = 0.5)\n",
    "plt.title('diffHearlds')\n",
    "plt.legend()\n",
    "plt.show()"
   ]
  },
  {
   "cell_type": "markdown",
   "metadata": {},
   "source": [
    "野区对位情况\n",
    "\n",
    "blueTotalJungleMinionsKilled\n",
    "\n",
    "redTotalJungleMinionsKilled\n",
    "\n",
    "我们将两个变量相减得到\n",
    "\n",
    "diffTotalJungleMinionsKilled"
   ]
  },
  {
   "cell_type": "code",
   "execution_count": null,
   "metadata": {
    "ExecuteTime": {
     "end_time": "2020-06-10T01:53:43.163615Z",
     "start_time": "2020-06-10T01:53:43.158661Z"
    }
   },
   "outputs": [],
   "source": [
    "data['diffTotalJungleMinionsKilled'] = (data['blueTotalJungleMinionsKilled']) - (data['redTotalJungleMinionsKilled'])"
   ]
  },
  {
   "cell_type": "code",
   "execution_count": null,
   "metadata": {
    "ExecuteTime": {
     "end_time": "2020-06-10T01:53:43.812655Z",
     "start_time": "2020-06-10T01:53:43.619746Z"
    }
   },
   "outputs": [],
   "source": [
    "data[data.blueWins == 1]['diffTotalJungleMinionsKilled'].hist(bins=40, color='blue', label = 'blueWins', alpha=0.5)\n",
    "data[data.blueWins == 0]['diffTotalJungleMinionsKilled'].hist(bins=40, color='red', label = 'redWins', alpha=0.5)"
   ]
  },
  {
   "cell_type": "markdown",
   "metadata": {},
   "source": [
    "可以看到的是, 野区优势对获胜也有一定的影响\n",
    "\n",
    "#### 对线对获胜的影响\n",
    "\n",
    "红蓝双方推塔数以及双方的补刀差\n",
    "\n",
    "首先看双方的补刀差"
   ]
  },
  {
   "cell_type": "code",
   "execution_count": null,
   "metadata": {
    "ExecuteTime": {
     "end_time": "2020-06-10T01:53:44.874752Z",
     "start_time": "2020-06-10T01:53:44.870767Z"
    }
   },
   "outputs": [],
   "source": [
    "data['diffTotalMinionsKilled'] = data['blueTotalMinionsKilled'] - data['redTotalMinionsKilled']"
   ]
  },
  {
   "cell_type": "code",
   "execution_count": null,
   "metadata": {
    "ExecuteTime": {
     "end_time": "2020-06-10T01:53:45.673880Z",
     "start_time": "2020-06-10T01:53:45.504373Z"
    }
   },
   "outputs": [],
   "source": [
    "data[data.blueWins == 1]['diffTotalMinionsKilled'].hist(bins=30, color='blue', label = 'blueWins', alpha=0.5)\n",
    "data[data.blueWins == 0]['diffTotalMinionsKilled'].hist(bins=30, color='red', label = 'redWins', alpha=0.5)"
   ]
  },
  {
   "cell_type": "markdown",
   "metadata": {},
   "source": [
    "红蓝双方推塔数对获胜的影响"
   ]
  },
  {
   "cell_type": "code",
   "execution_count": null,
   "metadata": {
    "ExecuteTime": {
     "end_time": "2020-06-10T01:53:46.864509Z",
     "start_time": "2020-06-10T01:53:46.646870Z"
    }
   },
   "outputs": [],
   "source": [
    "plt.figure(figsize=(16, 5))\n",
    "plt.subplot(1,2,1)\n",
    "data[data.blueWins == 1]['blueTowersDestroyed'].value_counts().plot(kind = 'bar', color = 'blue',label = 'blueWins', alpha = 0.5)\n",
    "data[data.blueWins == 0]['blueTowersDestroyed'].value_counts().plot(kind = 'bar', color = 'red',label = 'redWins', alpha = 0.5)\n",
    "plt.legend()\n",
    "plt.title('Blue_Tower')\n",
    "plt.subplot(1,2,2)\n",
    "data[data.blueWins == 1]['redTowersDestroyed'].value_counts().plot(kind = 'bar', color = 'blue',label = 'blueWins', alpha = 0.5)\n",
    "data[data.blueWins == 0]['redTowersDestroyed'].value_counts().plot(kind = 'bar', color = 'red',label = 'redWins', alpha = 0.5)\n",
    "plt.legend()\n",
    "plt.title('Red_Tower')"
   ]
  },
  {
   "cell_type": "code",
   "execution_count": null,
   "metadata": {
    "ExecuteTime": {
     "end_time": "2020-06-10T01:53:47.288259Z",
     "start_time": "2020-06-10T01:53:47.283236Z"
    }
   },
   "outputs": [],
   "source": [
    "data['diffTowersDestroyed'] = data['blueTowersDestroyed'] - data['redTowersDestroyed']"
   ]
  },
  {
   "cell_type": "code",
   "execution_count": null,
   "metadata": {
    "ExecuteTime": {
     "end_time": "2020-06-10T01:53:48.257631Z",
     "start_time": "2020-06-10T01:53:48.133925Z"
    }
   },
   "outputs": [],
   "source": [
    "data[data.blueWins == 1]['diffTowersDestroyed'].value_counts().plot(kind = 'bar', color = 'blue',label = 'blueWins', alpha = 0.5)\n",
    "data[data.blueWins == 0]['diffTowersDestroyed'].value_counts().plot(kind = 'bar', color = 'red',label = 'redWins', alpha = 0.5)\n",
    "plt.legend()\n",
    "plt.title('diffTower')"
   ]
  },
  {
   "cell_type": "markdown",
   "metadata": {},
   "source": [
    "在前10分钟是否推掉对面防御塔是十分关键的.\n",
    "\n",
    "#### 经济以及经验对获胜的影响\n",
    "\n",
    "查看经济差以及经验差"
   ]
  },
  {
   "cell_type": "code",
   "execution_count": null,
   "metadata": {
    "ExecuteTime": {
     "end_time": "2020-06-10T01:53:49.949751Z",
     "start_time": "2020-06-10T01:53:49.460607Z"
    }
   },
   "outputs": [],
   "source": [
    "plt.figure(figsize=(16, 5))\n",
    "plt.subplot(1,2,1)\n",
    "data[data.blueWins == 1]['blueGoldDiff'].hist(bins = 50, color = 'blue',label = 'blueWins', alpha = 0.5)\n",
    "data[data.blueWins == 0]['blueGoldDiff'].hist(bins = 50, color = 'red',label = 'redWins', alpha = 0.5)\n",
    "plt.legend()\n",
    "plt.title('blueGoldDiff')\n",
    "plt.subplot(1,2,2)\n",
    "data[data.blueWins == 1]['blueExperienceDiff'].hist(bins = 50, color = 'blue',label = 'blueWins', alpha = 0.5)\n",
    "data[data.blueWins == 0]['blueExperienceDiff'].hist(bins = 50, color = 'red',label = 'redWins', alpha = 0.5)\n",
    "plt.legend()\n",
    "plt.title('blueExperienceDiff')\n",
    "plt.show()"
   ]
  },
  {
   "cell_type": "markdown",
   "metadata": {},
   "source": [
    "#### 组合成最后的数据集\n",
    "\n",
    "保留 : gameId, blueWins, blueFirstBlood, redFirstBlood, blueKDA, redKDA, diffEliteMonsters, diffDragons, diffHeralds\n",
    ", diffTowersDestroyed, blueGoldDiff, blueExperienceDiff, diffTotalJungleMinionsKilled, diffTotalMinionsKilled"
   ]
  },
  {
   "cell_type": "code",
   "execution_count": null,
   "metadata": {
    "ExecuteTime": {
     "end_time": "2020-06-10T01:53:51.472690Z",
     "start_time": "2020-06-10T01:53:51.448666Z"
    }
   },
   "outputs": [],
   "source": [
    "data.head()"
   ]
  },
  {
   "cell_type": "code",
   "execution_count": null,
   "metadata": {
    "ExecuteTime": {
     "end_time": "2020-06-10T02:15:39.336709Z",
     "start_time": "2020-06-10T02:15:39.330725Z"
    }
   },
   "outputs": [],
   "source": [
    "choose_cols = ['blueWins', 'blueFirstBlood', 'redFirstBlood', 'blueKDA', 'redKDA', \n",
    "               'diffEliteMonsters', 'diffDragons', 'diffHearlds', 'diffTowersDestroyed',\n",
    "               'blueGoldDiff', 'blueExperienceDiff',\n",
    "               'diffTotalJungleMinionsKilled', 'diffTotalMinionsKilled',\n",
    "              ]\n",
    "data_final = data[choose_cols].copy(deep = True)"
   ]
  },
  {
   "cell_type": "code",
   "execution_count": null,
   "metadata": {
    "ExecuteTime": {
     "end_time": "2020-06-10T02:15:41.222746Z",
     "start_time": "2020-06-10T02:15:41.211781Z"
    }
   },
   "outputs": [],
   "source": [
    "data_final.head()"
   ]
  },
  {
   "cell_type": "markdown",
   "metadata": {},
   "source": [
    "### 训练\n",
    "\n",
    "首先, 划分训练集和测试集 8:2"
   ]
  },
  {
   "cell_type": "code",
   "execution_count": null,
   "metadata": {
    "ExecuteTime": {
     "end_time": "2020-06-10T01:53:56.484460Z",
     "start_time": "2020-06-10T01:53:56.402487Z"
    }
   },
   "outputs": [],
   "source": [
    "from sklearn.model_selection import train_test_split\n",
    "\n",
    "X = data_final.drop(columns = ['blueWins'])\n",
    "y = data_final['blueWins']\n",
    "\n",
    "X_train, X_test, y_train, y_test = train_test_split(X, y, test_size = 0.2)"
   ]
  },
  {
   "cell_type": "markdown",
   "metadata": {},
   "source": [
    "标准化"
   ]
  },
  {
   "cell_type": "code",
   "execution_count": null,
   "metadata": {
    "ExecuteTime": {
     "end_time": "2020-06-10T02:18:13.047686Z",
     "start_time": "2020-06-10T02:18:13.043699Z"
    }
   },
   "outputs": [],
   "source": [
    "sc_cols = ['blueKDA', 'redKDA', 'blueGoldDiff', 'blueExperienceDiff', 'diffTotalJungleMinionsKilled', 'diffTotalMinionsKilled']"
   ]
  },
  {
   "cell_type": "code",
   "execution_count": null,
   "metadata": {
    "ExecuteTime": {
     "end_time": "2020-06-10T02:18:13.382267Z",
     "start_time": "2020-06-10T02:18:13.360805Z"
    }
   },
   "outputs": [],
   "source": [
    "from sklearn.preprocessing import StandardScaler\n",
    "sc = StandardScaler()\n",
    "\n",
    "X_train[sc_cols] = sc.fit_transform(X_train[sc_cols])\n",
    "X_test[sc_cols] = sc.transform(X_test[sc_cols])"
   ]
  },
  {
   "cell_type": "code",
   "execution_count": null,
   "metadata": {
    "ExecuteTime": {
     "end_time": "2020-06-10T02:18:14.041434Z",
     "start_time": "2020-06-10T02:18:14.029434Z"
    }
   },
   "outputs": [],
   "source": [
    "X_train.head()"
   ]
  },
  {
   "cell_type": "markdown",
   "metadata": {},
   "source": [
    "看一下所有分类器的baseline"
   ]
  },
  {
   "cell_type": "code",
   "execution_count": null,
   "metadata": {
    "ExecuteTime": {
     "end_time": "2020-06-10T02:18:15.095466Z",
     "start_time": "2020-06-10T02:18:15.083480Z"
    }
   },
   "outputs": [],
   "source": [
    "class EstimatorSelectionHelper:\n",
    "    # 初始化, 加载模型以及提前设置的一些超参数\n",
    "    def __init__(self, models, params):\n",
    "        if not set(models.keys()).issubset(set(params.keys())):\n",
    "            missing_params = list(set(models.keys()) - set(params.keys()))\n",
    "            raise ValueError(\"Some estimators are missing parameters: %s\" % missing_params)\n",
    "        self.models = models\n",
    "        self.params = params\n",
    "        self.keys = models.keys()\n",
    "        self.grid_searches = {}\n",
    "        self.best = {}\n",
    "    # 对每个模型的每组超参数都进行交叉验证\n",
    "    def fit(self, X, y, cv=3, n_jobs=3, verbose=1, scoring=None, refit=False):\n",
    "        for key in self.keys:\n",
    "            print(\"Running GridSearchCV for %s.\" % key)\n",
    "            model = self.models[key]\n",
    "            params = self.params[key]\n",
    "            gs = GridSearchCV(model, params, cv=cv, n_jobs=n_jobs,\n",
    "                              verbose=verbose, scoring=scoring, refit=refit,\n",
    "                              return_train_score=True)\n",
    "            gs.fit(X,y)\n",
    "            self.best[key] = {'score':gs.best_score_,'params':gs.best_params_}\n",
    "            self.grid_searches[key] = gs    \n",
    "    # 对结果进行统计\n",
    "    def score_summary(self, sort_by='mean_score'):\n",
    "        def row(key, scores, params):\n",
    "            d = {\n",
    "                 'estimator': key,\n",
    "                 'min_score': min(scores),\n",
    "                 'max_score': max(scores),\n",
    "                 'mean_score': np.mean(scores),\n",
    "                 'std_score': np.std(scores),\n",
    "            }\n",
    "            return pd.Series({**params,**d})\n",
    "\n",
    "        rows = []\n",
    "        for k in self.grid_searches:\n",
    "            print(k)\n",
    "            params = self.grid_searches[k].cv_results_['params']\n",
    "            scores = []\n",
    "            for i in range(self.grid_searches[k].cv):\n",
    "                key = \"split{}_test_score\".format(i)\n",
    "                r = self.grid_searches[k].cv_results_[key]        \n",
    "                scores.append(r.reshape(len(params),1))\n",
    "\n",
    "            all_scores = np.hstack(scores)\n",
    "            for p, s in zip(params,all_scores):\n",
    "                rows.append((row(k, s, p)))\n",
    "\n",
    "        df = pd.concat(rows, axis=1).T.sort_values([sort_by], ascending=False)\n",
    "\n",
    "        columns = ['estimator', 'min_score', 'mean_score', 'max_score', 'std_score']\n",
    "        columns = columns + [c for c in df.columns if c not in columns]\n",
    "\n",
    "        return df[columns]\n",
    "    # 最优超参数.\n",
    "    def best_params(self):\n",
    "        return self.best"
   ]
  },
  {
   "cell_type": "code",
   "execution_count": null,
   "metadata": {
    "ExecuteTime": {
     "end_time": "2020-06-10T02:18:17.296662Z",
     "start_time": "2020-06-10T02:18:17.193065Z"
    }
   },
   "outputs": [],
   "source": [
    "from sklearn.tree import DecisionTreeClassifier\n",
    "from sklearn.ensemble import AdaBoostClassifier\n",
    "from sklearn.ensemble import GradientBoostingClassifier\n",
    "from sklearn.ensemble import RandomForestClassifier\n",
    "from sklearn.ensemble import ExtraTreesClassifier\n",
    "from sklearn.ensemble import BaggingClassifier\n",
    "from sklearn.svm import SVC\n",
    "from sklearn.neighbors import KNeighborsClassifier\n",
    "from sklearn.naive_bayes import GaussianNB\n",
    "from sklearn.linear_model import LogisticRegression\n",
    "from xgboost import XGBClassifier\n",
    "from sklearn.discriminant_analysis import QuadraticDiscriminantAnalysis\n",
    "from sklearn.neural_network import MLPClassifier\n",
    "\n",
    "\n",
    "models = {\n",
    "    'Logistic Regression' : LogisticRegression(),\n",
    "    'Decision Tree' : DecisionTreeClassifier(),\n",
    "    'AdaBoost' : AdaBoostClassifier(),\n",
    "    'GradientBoost' : GradientBoostingClassifier(),\n",
    "    'RandomForest' : RandomForestClassifier(),\n",
    "    'ETC' : ExtraTreesClassifier(),\n",
    "    'Bag' : BaggingClassifier(),\n",
    "    'XGBoost' : XGBClassifier(),\n",
    "    'SVC' : SVC(),\n",
    "    'KNN' : KNeighborsClassifier(),\n",
    "    'NB' : GaussianNB(),\n",
    "    'QDA' : QuadraticDiscriminantAnalysis(),\n",
    "    'NN' : MLPClassifier(),\n",
    "}\n",
    "\n",
    "params = {\n",
    "    'Logistic Regression' : {},\n",
    "    'Decision Tree' : {},\n",
    "    'AdaBoost' : {},\n",
    "    'GradientBoost' : {},\n",
    "    'RandomForest' : {},\n",
    "    'XGBoost' : {},\n",
    "    'SVC' : {},\n",
    "    'KNN' : {},\n",
    "    'NB' : {},\n",
    "    'ETC' : {},\n",
    "    'Bag' : {},\n",
    "    'QDA' : {},\n",
    "    'NN' : {},\n",
    "}\n"
   ]
  },
  {
   "cell_type": "code",
   "execution_count": null,
   "metadata": {
    "ExecuteTime": {
     "end_time": "2020-06-10T02:19:15.686047Z",
     "start_time": "2020-06-10T02:18:44.456053Z"
    }
   },
   "outputs": [],
   "source": [
    "from sklearn.model_selection import GridSearchCV\n",
    "Helper = EstimatorSelectionHelper(models, params)\n",
    "Helper.fit(X_train, y_train, cv=5)\n",
    "Helper.score_summary(sort_by='mean_score')"
   ]
  },
  {
   "cell_type": "markdown",
   "metadata": {},
   "source": [
    "逻辑回归的效果最好, 那么我们将逻辑回归单独拿出来进行超参数Finetine"
   ]
  },
  {
   "cell_type": "code",
   "execution_count": null,
   "metadata": {
    "ExecuteTime": {
     "end_time": "2020-06-10T02:22:02.895130Z",
     "start_time": "2020-06-10T02:22:02.892107Z"
    }
   },
   "outputs": [],
   "source": [
    "lr = LogisticRegression()\n",
    "\n",
    "params = {\n",
    "    'C' : [0.1, 0.2, 0.5, 1.0, 2.0, 5.0, 10.0],\n",
    "    'penalty' : ['l1', 'l2'],\n",
    "    'solver' : ['liblinear'],\n",
    "}"
   ]
  },
  {
   "cell_type": "code",
   "execution_count": null,
   "metadata": {
    "ExecuteTime": {
     "end_time": "2020-06-10T02:22:05.051841Z",
     "start_time": "2020-06-10T02:22:03.374833Z"
    }
   },
   "outputs": [],
   "source": [
    "gs = GridSearchCV(lr, params, cv = 5)\n",
    "gs.fit(X_train, y_train)"
   ]
  },
  {
   "cell_type": "code",
   "execution_count": null,
   "metadata": {
    "ExecuteTime": {
     "end_time": "2020-06-10T02:22:08.334104Z",
     "start_time": "2020-06-10T02:22:08.329120Z"
    }
   },
   "outputs": [],
   "source": [
    "lr.set_params(**gs.best_params_)"
   ]
  },
  {
   "cell_type": "code",
   "execution_count": null,
   "metadata": {
    "ExecuteTime": {
     "end_time": "2020-06-10T02:23:06.732722Z",
     "start_time": "2020-06-10T02:23:06.714746Z"
    }
   },
   "outputs": [],
   "source": [
    "lr.fit(X_train, y_train)"
   ]
  },
  {
   "cell_type": "code",
   "execution_count": null,
   "metadata": {
    "ExecuteTime": {
     "end_time": "2020-06-10T02:23:07.526470Z",
     "start_time": "2020-06-10T02:23:07.520488Z"
    }
   },
   "outputs": [],
   "source": [
    "y_pred = lr.predict(X_test)"
   ]
  },
  {
   "cell_type": "code",
   "execution_count": null,
   "metadata": {
    "ExecuteTime": {
     "end_time": "2020-06-10T02:23:08.518393Z",
     "start_time": "2020-06-10T02:23:08.508391Z"
    }
   },
   "outputs": [],
   "source": [
    "from sklearn.metrics import classification_report\n",
    "cr = classification_report(y_true = y_test, y_pred = y_pred)\n",
    "print(cr)"
   ]
  },
  {
   "cell_type": "code",
   "execution_count": null,
   "metadata": {
    "ExecuteTime": {
     "end_time": "2020-06-10T02:24:37.292048Z",
     "start_time": "2020-06-10T02:24:37.289055Z"
    }
   },
   "outputs": [],
   "source": [
    "data_dict = {}\n",
    "for key, val in zip(X_train.columns, lr.coef_[0]):\n",
    "    data_dict[key] = val"
   ]
  },
  {
   "cell_type": "code",
   "execution_count": null,
   "metadata": {
    "ExecuteTime": {
     "end_time": "2020-06-10T02:24:37.994169Z",
     "start_time": "2020-06-10T02:24:37.989183Z"
    }
   },
   "outputs": [],
   "source": [
    "data_dict"
   ]
  }
 ],
 "metadata": {
  "kernelspec": {
   "display_name": "Python 3",
   "language": "python",
   "name": "python3"
  },
  "language_info": {
   "codemirror_mode": {
    "name": "ipython",
    "version": 3
   },
   "file_extension": ".py",
   "mimetype": "text/x-python",
   "name": "python",
   "nbconvert_exporter": "python",
   "pygments_lexer": "ipython3",
   "version": "3.6.6"
  },
  "toc": {
   "base_numbering": 1,
   "nav_menu": {},
   "number_sections": true,
   "sideBar": true,
   "skip_h1_title": false,
   "title_cell": "Table of Contents",
   "title_sidebar": "Contents",
   "toc_cell": false,
   "toc_position": {
    "height": "calc(100% - 180px)",
    "left": "10px",
    "top": "150px",
    "width": "165px"
   },
   "toc_section_display": true,
   "toc_window_display": false
  },
  "varInspector": {
   "cols": {
    "lenName": 16,
    "lenType": 16,
    "lenVar": 40
   },
   "kernels_config": {
    "python": {
     "delete_cmd_postfix": "",
     "delete_cmd_prefix": "del ",
     "library": "var_list.py",
     "varRefreshCmd": "print(var_dic_list())"
    },
    "r": {
     "delete_cmd_postfix": ") ",
     "delete_cmd_prefix": "rm(",
     "library": "var_list.r",
     "varRefreshCmd": "cat(var_dic_list()) "
    }
   },
   "types_to_exclude": [
    "module",
    "function",
    "builtin_function_or_method",
    "instance",
    "_Feature"
   ],
   "window_display": false
  }
 },
 "nbformat": 4,
 "nbformat_minor": 4
}
