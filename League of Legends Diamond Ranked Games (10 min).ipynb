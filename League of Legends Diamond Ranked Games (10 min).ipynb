{
 "cells": [
  {
   "cell_type": "code",
   "execution_count": null,
   "metadata": {
    "ExecuteTime": {
     "end_time": "2020-06-09T15:49:45.486277Z",
     "start_time": "2020-06-09T15:49:43.962742Z"
    }
   },
   "outputs": [],
   "source": [
    "import pandas as pd\n",
    "import numpy as np\n",
    "import seaborn as sns\n",
    "import matplotlib.pyplot as plt\n",
    "\n",
    "pd.set_option(\"display.max_rows\", 100)\n",
    "pd.set_option(\"display.max_columns\", 100)\n",
    "plt.style.use('fivethirtyeight')"
   ]
  },
  {
   "cell_type": "code",
   "execution_count": null,
   "metadata": {
    "ExecuteTime": {
     "end_time": "2020-06-09T15:50:33.838075Z",
     "start_time": "2020-06-09T15:50:33.731216Z"
    }
   },
   "outputs": [],
   "source": [
    "data = pd.read_csv('./data/lol/high_diamond_ranked_10min.csv')\n",
    "data.info()"
   ]
  },
  {
   "cell_type": "markdown",
   "metadata": {},
   "source": [
    "### 数据分析\n",
    "\n",
    "共有9879条数据, 并没有缺失数据, 并且变量类型全是数值型变量, 包括连续型数值变量以及离散型数值变量.\n",
    "\n",
    "蓝红方的胜率基本55开, 前两行是gameid, 和蓝色方是否胜利.\n",
    "\n",
    "后面还有38个特征, 每队有19个特征, 特征类型是一样的.\n",
    "\n",
    "- blueWardsPlaced, blueWardsDestroyed, 插眼和反眼\n",
    "\n",
    "- blueFirstBlood 蓝色方是否拿了一血\n",
    "\n",
    "- blueKills, blueDeaths, blueAssists 蓝色方的击杀, 死亡, 助攻, 能换算为KDA\n",
    "\n",
    "- blueEliteMonsters, blueDragons, blueHeralds 蓝色方精英怪, 小龙, 先锋击杀数\n",
    "\n",
    "- blueTowersDestroyed 蓝色方推塔数\n",
    "\n",
    "- blueTotalGold 蓝色方经济\n",
    "\n",
    "- blueAvgLevel 蓝色方平均等级\n",
    "\n",
    "- blueTotalMinionsKilled 蓝色方击杀小兵数\n",
    "\n",
    "- blueTotalJungleMinionsKilled 蓝色方野区野怪击杀数\n",
    "\n",
    "- blueGoldDiff, blueExperienceDiff, blueCSPerMin, blueGoldPerMin 经济差, 经验差, 分均补刀, 分均经济\n",
    "\n",
    "根据以上数据, 我从以下几个方向对游戏走向进行分析:\n",
    "\n",
    "- **视野**\n",
    "\n",
    "- **一血率**\n",
    "\n",
    "- **KDA战损比**\n",
    "\n",
    "- **重要资源掌控以及野区对位情况**\n",
    "\n",
    "- **对线情况**\n",
    "\n",
    "- **双方经济以及经验数据分析**\n",
    "\n",
    "- **双方经验差**"
   ]
  },
  {
   "cell_type": "markdown",
   "metadata": {
    "ExecuteTime": {
     "end_time": "2020-06-09T07:45:09.829881Z",
     "start_time": "2020-06-09T07:45:09.825336Z"
    }
   },
   "source": [
    "#### 视野数据的分析"
   ]
  },
  {
   "cell_type": "code",
   "execution_count": null,
   "metadata": {
    "ExecuteTime": {
     "end_time": "2020-06-09T13:34:28.354072Z",
     "start_time": "2020-06-09T13:34:28.349086Z"
    }
   },
   "outputs": [],
   "source": [
    "print('mean :', round(data['blueWardsPlaced'].mean(),2))\n",
    "print('min :', data['blueWardsPlaced'].min())\n",
    "print('max :', data['blueWardsPlaced'].max())"
   ]
  },
  {
   "cell_type": "markdown",
   "metadata": {},
   "source": [
    "竟然有一局游戏, 蓝色方10分钟插了250个眼, 不太科学...\n",
    "\n",
    "数据中应该有离群点, 我们试着找一下"
   ]
  },
  {
   "cell_type": "code",
   "execution_count": null,
   "metadata": {
    "ExecuteTime": {
     "end_time": "2020-06-09T15:55:12.413429Z",
     "start_time": "2020-06-09T15:55:12.398021Z"
    }
   },
   "outputs": [],
   "source": [
    "len(data[(data.blueWardsPlaced>=50) | (data.redWardsPlaced >= 50)])"
   ]
  },
  {
   "cell_type": "markdown",
   "metadata": {},
   "source": [
    "有1142个对局前10分钟, 有一方插到了50个眼, 显然这个数据不太正确. \n",
    "\n",
    "因此对于视野数据, 我们先把这些离群点给剔除, 再进行分析."
   ]
  },
  {
   "cell_type": "code",
   "execution_count": null,
   "metadata": {
    "ExecuteTime": {
     "end_time": "2020-06-09T16:01:17.149187Z",
     "start_time": "2020-06-09T16:01:17.124705Z"
    }
   },
   "outputs": [],
   "source": [
    "drop_index = data[(data.blueWardsPlaced>=50) | (data.redWardsPlaced >= 50)].index"
   ]
  },
  {
   "cell_type": "code",
   "execution_count": null,
   "metadata": {
    "ExecuteTime": {
     "end_time": "2020-06-09T16:01:17.700953Z",
     "start_time": "2020-06-09T16:01:17.677662Z"
    }
   },
   "outputs": [],
   "source": [
    "data_v1 = data.drop(index = drop_index)"
   ]
  },
  {
   "cell_type": "markdown",
   "metadata": {},
   "source": [
    "求出双方的插眼情况的比值"
   ]
  },
  {
   "cell_type": "code",
   "execution_count": null,
   "metadata": {
    "ExecuteTime": {
     "end_time": "2020-06-09T16:01:18.379932Z",
     "start_time": "2020-06-09T16:01:18.364369Z"
    }
   },
   "outputs": [],
   "source": [
    "data_v1['divWardsPlaced'] = (data_v1['blueWardsPlaced'] + 1) / (data_v1['redWardsPlaced'] + 1)"
   ]
  },
  {
   "cell_type": "code",
   "execution_count": null,
   "metadata": {
    "ExecuteTime": {
     "end_time": "2020-06-09T16:02:04.666532Z",
     "start_time": "2020-06-09T16:02:02.206280Z"
    }
   },
   "outputs": [],
   "source": [
    "plt.figure(figsize=(12,5))\n",
    "data_v1[data_v1.blueWins == 1]['divWardsPlaced'].hist(bins = 50, color = 'blue', label = 'blue_wins', alpha=0.6)\n",
    "data_v1[data_v1.blueWins == 0]['divWardsPlaced'].hist(bins = 50, color = 'red', label = 'red_wins', alpha=0.6)\n",
    "plt.legend()\n",
    "plt.show()"
   ]
  },
  {
   "cell_type": "markdown",
   "metadata": {},
   "source": [
    "根据红蓝双方的插眼反眼数, 构造一个新的变量出来.\n",
    "\n",
    "视野压制 = (蓝色方插眼数 - 红色方反眼数 + 1) / (红色方插眼数 - 蓝色方反眼数 + 1)"
   ]
  },
  {
   "cell_type": "code",
   "execution_count": null,
   "metadata": {
    "ExecuteTime": {
     "end_time": "2020-06-09T16:17:22.120938Z",
     "start_time": "2020-06-09T16:17:22.104948Z"
    }
   },
   "outputs": [],
   "source": [
    "data_v1['VisionSuppression'] = (data_v1['blueWardsPlaced'] - data_v1['redWardsPlaced'] ) - ( data_v1['redWardsPlaced'] - data_v1['blueWardsDestroyed'])"
   ]
  },
  {
   "cell_type": "code",
   "execution_count": null,
   "metadata": {
    "ExecuteTime": {
     "end_time": "2020-06-09T16:17:23.423140Z",
     "start_time": "2020-06-09T16:17:22.857585Z"
    }
   },
   "outputs": [],
   "source": [
    "plt.figure(figsize=(12,5))\n",
    "data_v1[data_v1.blueWins == 1]['VisionSuppression'].hist(bins = 100, color = 'blue', label = 'blue_wins', alpha=0.6)\n",
    "data_v1[data_v1.blueWins == 0]['VisionSuppression'].hist(bins = 100, color = 'red', label = 'red_wins', alpha=0.6)\n",
    "plt.legend()\n",
    "plt.show()"
   ]
  },
  {
   "cell_type": "markdown",
   "metadata": {
    "ExecuteTime": {
     "end_time": "2020-06-09T08:42:39.863552Z",
     "start_time": "2020-06-09T08:42:39.854070Z"
    }
   },
   "source": [
    "暂时看不出和胜负有很大的关联性, 那么这个数据就暂时放一边吧\n",
    "\n",
    "#### 一血率与获胜的关系"
   ]
  },
  {
   "cell_type": "code",
   "execution_count": null,
   "metadata": {
    "ExecuteTime": {
     "end_time": "2020-06-09T16:06:48.586323Z",
     "start_time": "2020-06-09T16:06:48.522745Z"
    }
   },
   "outputs": [],
   "source": [
    "data.head()"
   ]
  },
  {
   "cell_type": "code",
   "execution_count": null,
   "metadata": {
    "ExecuteTime": {
     "end_time": "2020-06-09T16:07:29.560530Z",
     "start_time": "2020-06-09T16:07:29.301682Z"
    }
   },
   "outputs": [],
   "source": [
    "plt.figure(figsize = (8,8))\n",
    "data[data.blueWins == 1]['blueFirstBlood'].value_counts().plot(kind='bar', color = 'blue', label = 'blue_wins', alpha = 0.6)\n",
    "data[data.blueWins == 0]['blueFirstBlood'].value_counts().plot(kind='bar', color = 'red', label = 'red_wins', alpha = 0.6)\n",
    "plt.legend()"
   ]
  },
  {
   "cell_type": "markdown",
   "metadata": {},
   "source": [
    "蓝色方不拿一血的胜率竟然比拿一血的胜率要高."
   ]
  },
  {
   "cell_type": "markdown",
   "metadata": {},
   "source": [
    "#### KDA对获胜的影响"
   ]
  },
  {
   "cell_type": "code",
   "execution_count": null,
   "metadata": {
    "ExecuteTime": {
     "end_time": "2020-06-09T16:10:20.834798Z",
     "start_time": "2020-06-09T16:10:20.811496Z"
    }
   },
   "outputs": [],
   "source": [
    "data['blueKDA'] = (data['blueKills'] + data['blueAssists']) / (data['blueDeaths'] + 1)\n",
    "data['redKDA'] = (data['redKills'] + data['redAssists']) / (data['redDeaths'] + 1)"
   ]
  },
  {
   "cell_type": "code",
   "execution_count": null,
   "metadata": {
    "ExecuteTime": {
     "end_time": "2020-06-09T16:11:02.355519Z",
     "start_time": "2020-06-09T16:11:01.941736Z"
    }
   },
   "outputs": [],
   "source": [
    "f,ax=plt.subplots(1,2,figsize=(18,8))\n",
    "sns.violinplot(\"blueFirstBlood\",\"blueKDA\", hue=\"blueWins\", data=data,split=True,ax=ax[0])\n",
    "ax[0].set_title('blueFirstBlood & blueKDA vs blueWins')\n",
    "ax[0].set_yticks(range(0,20,10))\n",
    "sns.violinplot(\"redFirstBlood\",\"redKDA\", hue=\"blueWins\", data=data,split=True,ax=ax[1])\n",
    "ax[1].set_title('redFirstBlood & redKDA vs blueWins')\n",
    "ax[1].set_yticks(range(0,20,10))\n",
    "plt.show()"
   ]
  },
  {
   "cell_type": "markdown",
   "metadata": {},
   "source": [
    "可以看到的是, 不管前期有没有拿一血, 获胜方的前10分钟,队伍KDA都比较高"
   ]
  },
  {
   "cell_type": "markdown",
   "metadata": {},
   "source": [
    "#### 野区的情况\n",
    "\n",
    "首先查看重要资源掌控情况与获胜的关系.\n",
    "\n",
    "先查看这三个特征的分布情况\n",
    "\n",
    "blueEliteMonsters, blueDragons, blueHeralds"
   ]
  },
  {
   "cell_type": "markdown",
   "metadata": {},
   "source": [
    "查看这三个变量与获胜之间的关系."
   ]
  },
  {
   "cell_type": "code",
   "execution_count": null,
   "metadata": {
    "ExecuteTime": {
     "end_time": "2020-06-09T16:13:12.952936Z",
     "start_time": "2020-06-09T16:13:12.491834Z"
    }
   },
   "outputs": [],
   "source": [
    "plt.figure(figsize=(20, 5))\n",
    "plt.subplot(1,3,1)\n",
    "data[data.blueWins == 1]['blueEliteMonsters'].value_counts().plot(kind = 'bar', color = 'blue',label = 'blueWins', alpha = 0.5)\n",
    "data[data.blueWins == 0]['blueEliteMonsters'].value_counts().plot(kind = 'bar', color = 'red',label = 'redWins', alpha = 0.5)\n",
    "plt.legend()\n",
    "plt.title('EliteMonsters')\n",
    "plt.subplot(1,3,2)\n",
    "data[data.blueWins == 1]['blueDragons'].value_counts().plot(kind = 'bar', color = 'blue',label = 'blueWins', alpha = 0.5)\n",
    "data[data.blueWins == 0]['blueDragons'].value_counts().plot(kind = 'bar', color = 'red',label = 'redWins', alpha = 0.5)\n",
    "plt.legend()\n",
    "plt.title('Dragons')\n",
    "plt.subplot(1,3,3)\n",
    "data[data.blueWins == 1]['blueHeralds'].value_counts().plot(kind = 'bar', color = 'blue',label = 'blueWins', alpha = 0.5)\n",
    "data[data.blueWins == 0]['blueHeralds'].value_counts().plot(kind = 'bar', color = 'red',label = 'redWins', alpha = 0.5)\n",
    "plt.title('Heralds')\n",
    "plt.legend()\n",
    "plt.show()"
   ]
  },
  {
   "cell_type": "markdown",
   "metadata": {},
   "source": [
    "将这三个变量与红色方的对应3个变量作差"
   ]
  },
  {
   "cell_type": "code",
   "execution_count": null,
   "metadata": {
    "ExecuteTime": {
     "end_time": "2020-06-09T16:13:28.916361Z",
     "start_time": "2020-06-09T16:13:28.892084Z"
    }
   },
   "outputs": [],
   "source": [
    "data['diffEliteMonsters'] = data['blueEliteMonsters'] - data['redEliteMonsters']\n",
    "data['diffDragons'] = data['blueDragons'] - data['redDragons']\n",
    "data['diffHearlds'] = data['blueHeralds'] - data['redHeralds']"
   ]
  },
  {
   "cell_type": "code",
   "execution_count": null,
   "metadata": {
    "ExecuteTime": {
     "end_time": "2020-06-09T16:13:43.609677Z",
     "start_time": "2020-06-09T16:13:43.092694Z"
    }
   },
   "outputs": [],
   "source": [
    "plt.figure(figsize=(20, 5))\n",
    "plt.subplot(1,3,1)\n",
    "data[data.blueWins == 1]['diffEliteMonsters'].value_counts().plot(kind = 'bar', color = 'blue',label = 'blueWins', alpha = 0.5)\n",
    "data[data.blueWins == 0]['diffEliteMonsters'].value_counts().plot(kind = 'bar', color = 'red',label = 'redWins', alpha = 0.5)\n",
    "plt.legend()\n",
    "plt.title('diffEliteMonsters')\n",
    "plt.subplot(1,3,2)\n",
    "data[data.blueWins == 1]['diffDragons'].value_counts().plot(kind = 'bar', color = 'blue',label = 'blueWins', alpha = 0.5)\n",
    "data[data.blueWins == 0]['diffDragons'].value_counts().plot(kind = 'bar', color = 'red',label = 'redWins', alpha = 0.5)\n",
    "plt.legend()\n",
    "plt.title('diffDragons')\n",
    "plt.subplot(1,3,3)\n",
    "data[data.blueWins == 1]['diffHearlds'].value_counts().plot(kind = 'bar', color = 'blue',label = 'blueWins', alpha = 0.5)\n",
    "data[data.blueWins == 0]['diffHearlds'].value_counts().plot(kind = 'bar', color = 'red',label = 'redWins', alpha = 0.5)\n",
    "plt.title('diffHearlds')\n",
    "plt.legend()\n",
    "plt.show()"
   ]
  },
  {
   "cell_type": "markdown",
   "metadata": {},
   "source": [
    "野区对位情况\n",
    "\n",
    "blueTotalJungleMinionsKilled\n",
    "\n",
    "redTotalJungleMinionsKilled\n",
    "\n",
    "我们将两个变量相减得到\n",
    "\n",
    "diffTotalJungleMinionsKilled"
   ]
  },
  {
   "cell_type": "code",
   "execution_count": null,
   "metadata": {
    "ExecuteTime": {
     "end_time": "2020-06-09T16:18:31.697211Z",
     "start_time": "2020-06-09T16:18:31.673408Z"
    }
   },
   "outputs": [],
   "source": [
    "data['diffTotalJungleMinionsKilled'] = (data['blueTotalJungleMinionsKilled']) - (data['redTotalJungleMinionsKilled'])"
   ]
  },
  {
   "cell_type": "code",
   "execution_count": null,
   "metadata": {
    "ExecuteTime": {
     "end_time": "2020-06-09T16:18:37.288993Z",
     "start_time": "2020-06-09T16:18:36.952122Z"
    }
   },
   "outputs": [],
   "source": [
    "data[data.blueWins == 1]['diffTotalJungleMinionsKilled'].hist(bins=40, color='blue', label = 'blueWins', alpha=0.5)\n",
    "data[data.blueWins == 0]['diffTotalJungleMinionsKilled'].hist(bins=40, color='red', label = 'redWins', alpha=0.5)"
   ]
  },
  {
   "cell_type": "markdown",
   "metadata": {},
   "source": [
    "可以看到的是, 野区优势对获胜也有一定的影响\n",
    "\n",
    "#### 对线对获胜的影响\n",
    "\n",
    "红蓝双方推塔数以及双方的补刀差\n",
    "\n",
    "首先看双方的补刀差"
   ]
  },
  {
   "cell_type": "code",
   "execution_count": null,
   "metadata": {
    "ExecuteTime": {
     "end_time": "2020-06-09T16:19:26.937866Z",
     "start_time": "2020-06-09T16:19:26.922162Z"
    }
   },
   "outputs": [],
   "source": [
    "data['diffTotalMinionsKilled'] = data['blueTotalMinionsKilled'] - data['redTotalMinionsKilled']"
   ]
  },
  {
   "cell_type": "code",
   "execution_count": null,
   "metadata": {
    "ExecuteTime": {
     "end_time": "2020-06-09T16:19:32.526001Z",
     "start_time": "2020-06-09T16:19:32.181491Z"
    }
   },
   "outputs": [],
   "source": [
    "data[data.blueWins == 1]['diffTotalMinionsKilled'].hist(bins=30, color='blue', label = 'blueWins', alpha=0.5)\n",
    "data[data.blueWins == 0]['diffTotalMinionsKilled'].hist(bins=30, color='red', label = 'redWins', alpha=0.5)"
   ]
  },
  {
   "cell_type": "markdown",
   "metadata": {},
   "source": [
    "红蓝双方推塔数对获胜的影响"
   ]
  },
  {
   "cell_type": "code",
   "execution_count": null,
   "metadata": {
    "ExecuteTime": {
     "end_time": "2020-06-09T16:19:47.157459Z",
     "start_time": "2020-06-09T16:19:46.804599Z"
    }
   },
   "outputs": [],
   "source": [
    "plt.figure(figsize=(16, 5))\n",
    "plt.subplot(1,2,1)\n",
    "data[data.blueWins == 1]['blueTowersDestroyed'].value_counts().plot(kind = 'bar', color = 'blue',label = 'blueWins', alpha = 0.5)\n",
    "data[data.blueWins == 0]['blueTowersDestroyed'].value_counts().plot(kind = 'bar', color = 'red',label = 'redWins', alpha = 0.5)\n",
    "plt.legend()\n",
    "plt.title('Blue_Tower')\n",
    "plt.subplot(1,2,2)\n",
    "data[data.blueWins == 1]['redTowersDestroyed'].value_counts().plot(kind = 'bar', color = 'blue',label = 'blueWins', alpha = 0.5)\n",
    "data[data.blueWins == 0]['redTowersDestroyed'].value_counts().plot(kind = 'bar', color = 'red',label = 'redWins', alpha = 0.5)\n",
    "plt.legend()\n",
    "plt.title('Red_Tower')"
   ]
  },
  {
   "cell_type": "code",
   "execution_count": null,
   "metadata": {
    "ExecuteTime": {
     "end_time": "2020-06-09T16:19:58.447149Z",
     "start_time": "2020-06-09T16:19:58.430814Z"
    }
   },
   "outputs": [],
   "source": [
    "data['diffTowersDestroyed'] = data['blueTowersDestroyed'] - data['redTowersDestroyed']"
   ]
  },
  {
   "cell_type": "code",
   "execution_count": null,
   "metadata": {
    "ExecuteTime": {
     "end_time": "2020-06-09T16:20:05.962043Z",
     "start_time": "2020-06-09T16:20:05.722739Z"
    }
   },
   "outputs": [],
   "source": [
    "data[data.blueWins == 1]['diffTowersDestroyed'].value_counts().plot(kind = 'bar', color = 'blue',label = 'blueWins', alpha = 0.5)\n",
    "data[data.blueWins == 0]['diffTowersDestroyed'].value_counts().plot(kind = 'bar', color = 'red',label = 'redWins', alpha = 0.5)\n",
    "plt.legend()\n",
    "plt.title('diffTower')"
   ]
  },
  {
   "cell_type": "markdown",
   "metadata": {},
   "source": [
    "在前10分钟是否推掉对面防御塔是十分关键的.\n",
    "\n",
    "#### 经济以及经验对获胜的影响\n",
    "\n",
    "查看经济差以及经验差"
   ]
  },
  {
   "cell_type": "code",
   "execution_count": null,
   "metadata": {
    "ExecuteTime": {
     "end_time": "2020-06-09T16:21:23.034321Z",
     "start_time": "2020-06-09T16:21:22.076861Z"
    }
   },
   "outputs": [],
   "source": [
    "plt.figure(figsize=(16, 5))\n",
    "plt.subplot(1,2,1)\n",
    "data[data.blueWins == 1]['blueGoldDiff'].hist(bins = 50, color = 'blue',label = 'blueWins', alpha = 0.5)\n",
    "data[data.blueWins == 0]['blueGoldDiff'].hist(bins = 50, color = 'red',label = 'redWins', alpha = 0.5)\n",
    "plt.legend()\n",
    "plt.title('blueGoldDiff')\n",
    "plt.subplot(1,2,2)\n",
    "data[data.blueWins == 1]['blueExperienceDiff'].hist(bins = 50, color = 'blue',label = 'blueWins', alpha = 0.5)\n",
    "data[data.blueWins == 0]['blueExperienceDiff'].hist(bins = 50, color = 'red',label = 'redWins', alpha = 0.5)\n",
    "plt.legend()\n",
    "plt.title('blueExperienceDiff')\n",
    "plt.show()"
   ]
  },
  {
   "cell_type": "markdown",
   "metadata": {},
   "source": [
    "#### 组合成最后的数据集\n",
    "\n",
    "保留 : gameId, blueWins, blueFirstBlood, redFirstBlood, blueKDA, redKDA, diffEliteMonsters, diffDragons, diffHeralds\n",
    ", diffTowersDestroyed, blueGoldDiff, blueExperienceDiff, diffTotalJungleMinionsKilled, diffTotalMinionsKilled"
   ]
  },
  {
   "cell_type": "code",
   "execution_count": null,
   "metadata": {
    "ExecuteTime": {
     "end_time": "2020-06-09T16:21:29.412140Z",
     "start_time": "2020-06-09T16:21:29.327386Z"
    }
   },
   "outputs": [],
   "source": [
    "data.head()"
   ]
  },
  {
   "cell_type": "code",
   "execution_count": null,
   "metadata": {
    "ExecuteTime": {
     "end_time": "2020-06-09T16:23:16.294857Z",
     "start_time": "2020-06-09T16:23:16.270709Z"
    }
   },
   "outputs": [],
   "source": [
    "choose_cols = ['blueWins', 'blueFirstBlood', 'redFirstBlood', 'blueKDA', 'redKDA', \n",
    "               'diffEliteMonsters', 'diffDragons', 'diffHearlds', 'diffTowersDestroyed',\n",
    "               'blueGoldDiff', 'blueExperienceDiff',\n",
    "               'diffTotalJungleMinionsKilled', 'diffTotalMinionsKilled',\n",
    "              ]\n",
    "data_final = data[choose_cols].copy(deep = True)"
   ]
  },
  {
   "cell_type": "code",
   "execution_count": null,
   "metadata": {
    "ExecuteTime": {
     "end_time": "2020-06-09T16:23:16.922450Z",
     "start_time": "2020-06-09T16:23:16.882010Z"
    }
   },
   "outputs": [],
   "source": [
    "data_final.head()"
   ]
  },
  {
   "cell_type": "markdown",
   "metadata": {},
   "source": [
    "#### 变量之间的相关性"
   ]
  },
  {
   "cell_type": "code",
   "execution_count": null,
   "metadata": {
    "ExecuteTime": {
     "end_time": "2020-06-09T16:23:27.513150Z",
     "start_time": "2020-06-09T16:23:27.488589Z"
    }
   },
   "outputs": [],
   "source": [
    "corr_matrix = data_final.corr()"
   ]
  },
  {
   "cell_type": "code",
   "execution_count": null,
   "metadata": {
    "ExecuteTime": {
     "end_time": "2020-06-09T16:23:29.004692Z",
     "start_time": "2020-06-09T16:23:28.108480Z"
    }
   },
   "outputs": [],
   "source": [
    "plt.figure(figsize = (15,15))\n",
    "sns.heatmap(corr_matrix, annot = True, fmt=\".2f\", cmap=\"YlGnBu\")"
   ]
  },
  {
   "cell_type": "code",
   "execution_count": null,
   "metadata": {
    "ExecuteTime": {
     "end_time": "2020-06-09T16:23:34.600541Z",
     "start_time": "2020-06-09T16:23:34.404433Z"
    }
   },
   "outputs": [],
   "source": [
    "corr_matrix['blueWins'].plot(kind = 'barh')"
   ]
  },
  {
   "cell_type": "markdown",
   "metadata": {},
   "source": [
    "### 训练\n",
    "\n",
    "首先, 划分训练集和测试集 8:2"
   ]
  },
  {
   "cell_type": "code",
   "execution_count": null,
   "metadata": {
    "ExecuteTime": {
     "end_time": "2020-06-09T16:24:50.459468Z",
     "start_time": "2020-06-09T16:24:47.753327Z"
    }
   },
   "outputs": [],
   "source": [
    "from sklearn.model_selection import train_test_split\n",
    "\n",
    "X = data_final.drop(columns = ['blueWins'])\n",
    "y = data_final['blueWins']\n",
    "\n",
    "X_train, X_test, y_train, y_test = train_test_split(X, y, test_size = 0.2)"
   ]
  },
  {
   "cell_type": "markdown",
   "metadata": {},
   "source": [
    "标准化"
   ]
  },
  {
   "cell_type": "code",
   "execution_count": null,
   "metadata": {
    "ExecuteTime": {
     "end_time": "2020-06-09T16:25:46.672656Z",
     "start_time": "2020-06-09T16:25:46.656830Z"
    }
   },
   "outputs": [],
   "source": [
    "sc_cols = ['blueKDA', 'redKDA', 'blueGoldDiff', 'blueExperienceDiff', 'diffTotalJungleMinionsKilled', 'diffTotalMinionsKilled']"
   ]
  },
  {
   "cell_type": "code",
   "execution_count": null,
   "metadata": {
    "ExecuteTime": {
     "end_time": "2020-06-09T16:25:50.131053Z",
     "start_time": "2020-06-09T16:25:50.062861Z"
    }
   },
   "outputs": [],
   "source": [
    "from sklearn.preprocessing import StandardScaler\n",
    "sc = StandardScaler()\n",
    "\n",
    "X_train[sc_cols] = sc.fit_transform(X_train[sc_cols])\n",
    "X_test[sc_cols] = sc.transform(X_test[sc_cols])"
   ]
  },
  {
   "cell_type": "code",
   "execution_count": null,
   "metadata": {
    "ExecuteTime": {
     "end_time": "2020-06-09T16:25:58.253654Z",
     "start_time": "2020-06-09T16:25:58.223309Z"
    }
   },
   "outputs": [],
   "source": [
    "X_train.head()"
   ]
  },
  {
   "cell_type": "markdown",
   "metadata": {},
   "source": [
    "看一下所有分类器的baseline"
   ]
  },
  {
   "cell_type": "code",
   "execution_count": null,
   "metadata": {
    "ExecuteTime": {
     "end_time": "2020-06-09T16:36:07.710468Z",
     "start_time": "2020-06-09T16:36:07.662210Z"
    }
   },
   "outputs": [],
   "source": [
    "class EstimatorSelectionHelper:\n",
    "    # 初始化, 加载模型以及提前设置的一些超参数\n",
    "    def __init__(self, models, params):\n",
    "        if not set(models.keys()).issubset(set(params.keys())):\n",
    "            missing_params = list(set(models.keys()) - set(params.keys()))\n",
    "            raise ValueError(\"Some estimators are missing parameters: %s\" % missing_params)\n",
    "        self.models = models\n",
    "        self.params = params\n",
    "        self.keys = models.keys()\n",
    "        self.grid_searches = {}\n",
    "        self.best = {}\n",
    "    # 对每个模型的每组超参数都进行交叉验证\n",
    "    def fit(self, X, y, cv=3, n_jobs=3, verbose=1, scoring=None, refit=False):\n",
    "        for key in self.keys:\n",
    "            print(\"Running GridSearchCV for %s.\" % key)\n",
    "            model = self.models[key]\n",
    "            params = self.params[key]\n",
    "            gs = GridSearchCV(model, params, cv=cv, n_jobs=n_jobs,\n",
    "                              verbose=verbose, scoring=scoring, refit=refit,\n",
    "                              return_train_score=True)\n",
    "            gs.fit(X,y)\n",
    "            self.best[key] = {'score':gs.best_score_,'params':gs.best_params_}\n",
    "            self.grid_searches[key] = gs    \n",
    "    # 对结果进行统计\n",
    "    def score_summary(self, sort_by='mean_score'):\n",
    "        def row(key, scores, params):\n",
    "            d = {\n",
    "                 'estimator': key,\n",
    "                 'min_score': min(scores),\n",
    "                 'max_score': max(scores),\n",
    "                 'mean_score': np.mean(scores),\n",
    "                 'std_score': np.std(scores),\n",
    "            }\n",
    "            return pd.Series({**params,**d})\n",
    "\n",
    "        rows = []\n",
    "        for k in self.grid_searches:\n",
    "            print(k)\n",
    "            params = self.grid_searches[k].cv_results_['params']\n",
    "            scores = []\n",
    "            for i in range(self.grid_searches[k].cv):\n",
    "                key = \"split{}_test_score\".format(i)\n",
    "                r = self.grid_searches[k].cv_results_[key]        \n",
    "                scores.append(r.reshape(len(params),1))\n",
    "\n",
    "            all_scores = np.hstack(scores)\n",
    "            for p, s in zip(params,all_scores):\n",
    "                rows.append((row(k, s, p)))\n",
    "\n",
    "        df = pd.concat(rows, axis=1).T.sort_values([sort_by], ascending=False)\n",
    "\n",
    "        columns = ['estimator', 'min_score', 'mean_score', 'max_score', 'std_score']\n",
    "        columns = columns + [c for c in df.columns if c not in columns]\n",
    "\n",
    "        return df[columns]\n",
    "    # 最优超参数.\n",
    "    def best_params(self):\n",
    "        return self.best"
   ]
  },
  {
   "cell_type": "code",
   "execution_count": null,
   "metadata": {
    "ExecuteTime": {
     "end_time": "2020-06-09T16:41:58.743164Z",
     "start_time": "2020-06-09T16:41:58.710624Z"
    }
   },
   "outputs": [],
   "source": [
    "from sklearn.tree import DecisionTreeClassifier\n",
    "from sklearn.ensemble import AdaBoostClassifier\n",
    "from sklearn.ensemble import GradientBoostingClassifier\n",
    "from sklearn.ensemble import RandomForestClassifier\n",
    "from sklearn.ensemble import ExtraTreesClassifier\n",
    "from sklearn.ensemble import BaggingClassifier\n",
    "from sklearn.svm import SVC\n",
    "from sklearn.neighbors import KNeighborsClassifier\n",
    "from sklearn.naive_bayes import GaussianNB\n",
    "from sklearn.linear_model import LogisticRegression\n",
    "from xgboost import XGBClassifier\n",
    "from sklearn.discriminant_analysis import QuadraticDiscriminantAnalysis\n",
    "from sklearn.neural_network import MLPClassifier\n",
    "\n",
    "models = {\n",
    "    'Logistic Regression' : LogisticRegression(),\n",
    "    'Decision Tree' : DecisionTreeClassifier(),\n",
    "    'AdaBoost' : AdaBoostClassifier(),\n",
    "    'GradientBoost' : GradientBoostingClassifier(),\n",
    "    'RandomForest' : RandomForestClassifier(),\n",
    "    'ETC' : ExtraTreesClassifier(),\n",
    "    'Bag' : BaggingClassifier(),\n",
    "    'XGBoost' : XGBClassifier(),\n",
    "    'SVC' : SVC(),\n",
    "    'KNN' : KNeighborsClassifier(),\n",
    "    'NB' : GaussianNB(),\n",
    "    'QDA' : QuadraticDiscriminantAnalysis(),\n",
    "    'NN' : MLPClassifier(),\n",
    "}\n",
    "\n",
    "params = {\n",
    "    'Logistic Regression' : {},\n",
    "    'Decision Tree' : {},\n",
    "    'AdaBoost' : {},\n",
    "    'GradientBoost' : {},\n",
    "    'RandomForest' : {},\n",
    "    'XGBoost' : {},\n",
    "    'SVC' : {},\n",
    "    'KNN' : {},\n",
    "    'NB' : {},\n",
    "    'ETC' : {},\n",
    "    'Bag' : {},\n",
    "    'QDA' : {},\n",
    "    'NN' : {},\n",
    "}\n"
   ]
  },
  {
   "cell_type": "code",
   "execution_count": null,
   "metadata": {
    "ExecuteTime": {
     "end_time": "2020-06-09T16:42:32.828605Z",
     "start_time": "2020-06-09T16:42:03.155880Z"
    }
   },
   "outputs": [],
   "source": [
    "Helper = EstimatorSelectionHelper(models, params)\n",
    "Helper.fit(X_train, y_train, cv=5)\n",
    "Helper.score_summary(sort_by='mean_score')"
   ]
  },
  {
   "cell_type": "markdown",
   "metadata": {},
   "source": [
    "逻辑回归的效果最好, 那么我们将逻辑回归单独拿出来进行超参数Finetine"
   ]
  },
  {
   "cell_type": "code",
   "execution_count": null,
   "metadata": {
    "ExecuteTime": {
     "end_time": "2020-06-09T16:50:46.778961Z",
     "start_time": "2020-06-09T16:50:46.763087Z"
    }
   },
   "outputs": [],
   "source": [
    "lr = LogisticRegression()\n",
    "\n",
    "params = {\n",
    "    'C' : [0.1, 0.2, 0.5, 1.0, 2.0, 5.0, 10.0],\n",
    "    'penalty' : ['l1', 'l2'],\n",
    "    'solver' : ['liblinear'],\n",
    "}"
   ]
  },
  {
   "cell_type": "code",
   "execution_count": null,
   "metadata": {
    "ExecuteTime": {
     "end_time": "2020-06-09T16:50:48.892377Z",
     "start_time": "2020-06-09T16:50:47.228179Z"
    }
   },
   "outputs": [],
   "source": [
    "gs = GridSearchCV(lr, params, cv = 5)\n",
    "gs.fit(X_train, y_train)"
   ]
  },
  {
   "cell_type": "code",
   "execution_count": null,
   "metadata": {
    "ExecuteTime": {
     "end_time": "2020-06-09T16:50:49.133916Z",
     "start_time": "2020-06-09T16:50:49.125471Z"
    }
   },
   "outputs": [],
   "source": [
    "gs.best_params_"
   ]
  },
  {
   "cell_type": "code",
   "execution_count": null,
   "metadata": {
    "ExecuteTime": {
     "end_time": "2020-06-09T16:50:49.943054Z",
     "start_time": "2020-06-09T16:50:49.919121Z"
    }
   },
   "outputs": [],
   "source": [
    "lr.set_params(**gs.best_params_)"
   ]
  },
  {
   "cell_type": "code",
   "execution_count": null,
   "metadata": {
    "ExecuteTime": {
     "end_time": "2020-06-09T16:50:50.836438Z",
     "start_time": "2020-06-09T16:50:50.766722Z"
    }
   },
   "outputs": [],
   "source": [
    "lr.fit(X_train, y_train)"
   ]
  },
  {
   "cell_type": "code",
   "execution_count": null,
   "metadata": {
    "ExecuteTime": {
     "end_time": "2020-06-09T16:50:51.605571Z",
     "start_time": "2020-06-09T16:50:51.589130Z"
    }
   },
   "outputs": [],
   "source": [
    "lr.coef_"
   ]
  },
  {
   "cell_type": "code",
   "execution_count": null,
   "metadata": {
    "ExecuteTime": {
     "end_time": "2020-06-09T16:50:53.014042Z",
     "start_time": "2020-06-09T16:50:52.990080Z"
    }
   },
   "outputs": [],
   "source": [
    "y_pred = lr.predict(X_test)"
   ]
  },
  {
   "cell_type": "code",
   "execution_count": null,
   "metadata": {
    "ExecuteTime": {
     "end_time": "2020-06-09T16:50:54.914035Z",
     "start_time": "2020-06-09T16:50:54.882241Z"
    }
   },
   "outputs": [],
   "source": [
    "from sklearn.metrics import classification_report\n",
    "cr = classification_report(y_true = y_test, y_pred = y_pred)\n",
    "print(cr)"
   ]
  },
  {
   "cell_type": "code",
   "execution_count": null,
   "metadata": {
    "ExecuteTime": {
     "end_time": "2020-06-09T16:51:18.028522Z",
     "start_time": "2020-06-09T16:51:18.012700Z"
    }
   },
   "outputs": [],
   "source": [
    "X_train.columns"
   ]
  },
  {
   "cell_type": "code",
   "execution_count": null,
   "metadata": {
    "ExecuteTime": {
     "end_time": "2020-06-09T16:51:57.074401Z",
     "start_time": "2020-06-09T16:51:57.022127Z"
    }
   },
   "outputs": [],
   "source": [
    "model_importance = pd.DataFrame(columns = X_train.columns)"
   ]
  },
  {
   "cell_type": "code",
   "execution_count": null,
   "metadata": {
    "ExecuteTime": {
     "end_time": "2020-06-09T16:54:02.259928Z",
     "start_time": "2020-06-09T16:54:02.243766Z"
    }
   },
   "outputs": [],
   "source": [
    "data_dict = {}\n",
    "for key, val in zip(X_train.columns, lr.coef_[0]):\n",
    "    data_dict[key] = val"
   ]
  },
  {
   "cell_type": "code",
   "execution_count": null,
   "metadata": {
    "ExecuteTime": {
     "end_time": "2020-06-09T16:54:03.268227Z",
     "start_time": "2020-06-09T16:54:03.252145Z"
    }
   },
   "outputs": [],
   "source": [
    "data_dict"
   ]
  }
 ],
 "metadata": {
  "kernelspec": {
   "display_name": "Python 3",
   "language": "python",
   "name": "python3"
  },
  "language_info": {
   "codemirror_mode": {
    "name": "ipython",
    "version": 3
   },
   "file_extension": ".py",
   "mimetype": "text/x-python",
   "name": "python",
   "nbconvert_exporter": "python",
   "pygments_lexer": "ipython3",
   "version": "3.6.6"
  },
  "toc": {
   "base_numbering": 1,
   "nav_menu": {},
   "number_sections": true,
   "sideBar": true,
   "skip_h1_title": false,
   "title_cell": "Table of Contents",
   "title_sidebar": "Contents",
   "toc_cell": false,
   "toc_position": {
    "height": "calc(100% - 180px)",
    "left": "10px",
    "top": "150px",
    "width": "165px"
   },
   "toc_section_display": true,
   "toc_window_display": false
  },
  "varInspector": {
   "cols": {
    "lenName": 16,
    "lenType": 16,
    "lenVar": 40
   },
   "kernels_config": {
    "python": {
     "delete_cmd_postfix": "",
     "delete_cmd_prefix": "del ",
     "library": "var_list.py",
     "varRefreshCmd": "print(var_dic_list())"
    },
    "r": {
     "delete_cmd_postfix": ") ",
     "delete_cmd_prefix": "rm(",
     "library": "var_list.r",
     "varRefreshCmd": "cat(var_dic_list()) "
    }
   },
   "types_to_exclude": [
    "module",
    "function",
    "builtin_function_or_method",
    "instance",
    "_Feature"
   ],
   "window_display": false
  }
 },
 "nbformat": 4,
 "nbformat_minor": 4
}
